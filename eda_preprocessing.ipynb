{
 "cells": [
  {
   "cell_type": "markdown",
   "metadata": {},
   "source": [
    "# Single file"
   ]
  },
  {
   "cell_type": "code",
   "execution_count": null,
   "metadata": {},
   "outputs": [],
   "source": [
    "import librosa\n",
    "x, sr = librosa.load('/Users/murielkosaka/Desktop/capstone_project/audio/audio_speech_actors_01-24/Actor_01/03-01-01-01-01-01-01.wav')"
   ]
  },
  {
   "cell_type": "code",
   "execution_count": null,
   "metadata": {},
   "outputs": [],
   "source": [
    "print(x.shape)\n",
    "print(sr)"
   ]
  },
  {
   "cell_type": "code",
   "execution_count": null,
   "metadata": {},
   "outputs": [],
   "source": [
    "%matplotlib inline\n",
    "import matplotlib.pyplot as plt\n",
    "import librosa.display"
   ]
  },
  {
   "cell_type": "code",
   "execution_count": null,
   "metadata": {
    "scrolled": true
   },
   "outputs": [],
   "source": [
    "plt.figure(figsize=(14, 5))\n",
    "librosa.display.waveplot(x, sr=sr)"
   ]
  },
  {
   "cell_type": "code",
   "execution_count": null,
   "metadata": {},
   "outputs": [],
   "source": [
    "from IPython.display import Audio"
   ]
  },
  {
   "cell_type": "code",
   "execution_count": null,
   "metadata": {
    "scrolled": false
   },
   "outputs": [],
   "source": [
    "Audio(data=x, rate=sr)"
   ]
  },
  {
   "cell_type": "code",
   "execution_count": null,
   "metadata": {
    "scrolled": true
   },
   "outputs": [],
   "source": [
    "single_mfcc = librosa.feature.mfcc(y=x, sr=sr, n_mfcc=13)\n",
    "plt.figure(figsize=(15, 10))\n",
    "plt.subplot(3,1,1)\n",
    "librosa.display.specshow(single_mfcc, x_axis='time')\n",
    "plt.ylabel('MFCC')\n",
    "plt.colorbar()"
   ]
  },
  {
   "cell_type": "code",
   "execution_count": null,
   "metadata": {},
   "outputs": [],
   "source": [
    "single_mfcc"
   ]
  },
  {
   "cell_type": "markdown",
   "metadata": {},
   "source": [
    "# Whole Dataset (1440 files)"
   ]
  },
  {
   "cell_type": "code",
   "execution_count": 6,
   "metadata": {},
   "outputs": [],
   "source": [
    "import librosa\n",
    "import librosa.display\n",
    "import numpy as np\n",
    "import matplotlib.pyplot as plt\n",
    "import tensorflow as tf\n",
    "from matplotlib.pyplot import specgram\n",
    "import pandas as pd\n",
    "import glob \n",
    "from sklearn.metrics import confusion_matrix\n",
    "import IPython.display as ipd  # To play sound in the notebook\n",
    "import os # interface with underlying OS that python is running on\n",
    "import sys\n",
    "import warnings\n",
    "# ignore warnings \n",
    "if not sys.warnoptions:\n",
    "    warnings.simplefilter(\"ignore\")\n",
    "warnings.filterwarnings(\"ignore\", category=DeprecationWarning)\n",
    "from sklearn.model_selection import train_test_split\n",
    "\n"
   ]
  },
  {
   "cell_type": "markdown",
   "metadata": {},
   "source": [
    "Modality (01 = full-AV, 02 = video-only, 03 = audio-only).\n",
    "\n",
    "Vocal channel (01 = speech, 02 = song).\n",
    "\n",
    "Emotion (01 = neutral, 02 = calm, 03 = happy, 04 = sad, 05 = angry, 06 = fearful, 07 = disgust, 08 = surprised).\n",
    "\n",
    "Emotional intensity (01 = normal, 02 = strong). NOTE: There is no strong intensity for the 'neutral' emotion.\n",
    "\n",
    "Statement (01 = \"Kids are talking by the door\", 02 = \"Dogs are sitting by the door\").\n",
    "\n",
    "Repetition (01 = 1st repetition, 02 = 2nd repetition).\n",
    "\n",
    "Actor (01 to 24. Odd numbered actors are male, even numbered actors are female).\n",
    "\n",
    "So, here's an example of an audio filename. 02-01-06-01-02-01-12.mp4\n",
    "\n",
    "This means the meta data for the audio file is:\n",
    "\n",
    "Video-only (02)\n",
    "\n",
    "Speech (01)\n",
    "\n",
    "Fearful (06)\n",
    "\n",
    "Normal intensity (01)\n",
    "\n",
    "Statement \"dogs\" (02)\n",
    "\n",
    "1st Repetition (01)\n",
    "\n",
    "12th Actor (12) - Female (as the actor ID number is even)"
   ]
  },
  {
   "cell_type": "code",
   "execution_count": 7,
   "metadata": {
    "scrolled": true
   },
   "outputs": [
    {
     "data": {
      "text/plain": [
       "['Actor_01', 'Actor_02', 'Actor_03', 'Actor_04', 'Actor_05']"
      ]
     },
     "execution_count": 7,
     "metadata": {},
     "output_type": "execute_result"
    }
   ],
   "source": [
    "audio = \"/Users/murielkosaka/Desktop/capstone_project/audio/audio_speech_actors_01-24/\"\n",
    "\n",
    "actor_folders = os.listdir(audio) #list files in audio directory\n",
    "actor_folders.sort() \n",
    "actor_folders[0:5]"
   ]
  },
  {
   "cell_type": "code",
   "execution_count": 8,
   "metadata": {
    "scrolled": true
   },
   "outputs": [
    {
     "data": {
      "text/plain": [
       "'/Users/murielkosaka/Desktop/capstone_project/audio/audio_speech_actors_01-24/'"
      ]
     },
     "execution_count": 8,
     "metadata": {},
     "output_type": "execute_result"
    }
   ],
   "source": [
    "audio"
   ]
  },
  {
   "cell_type": "code",
   "execution_count": 9,
   "metadata": {},
   "outputs": [],
   "source": [
    "# audio/audio/audio_speech_actors_01-24/Actor_14\n",
    "# 03-01-02-01-02-01-14.wav\n",
    "\n",
    "emotion = []\n",
    "gender = []\n",
    "file_path = []\n",
    "for i in actor_folders:\n",
    "    filename = os.listdir(audio + i) #iterate over Actor folders\n",
    "    for f in filename: # go through files in Actor folder\n",
    "        part = f.split('.')[0].split('-')\n",
    "        emotion.append(int(part[2]))\n",
    "        bg = int(part[6])\n",
    "        if bg%2 == 0:\n",
    "            bg = \"female\"\n",
    "        else:\n",
    "            bg = \"male\"\n",
    "        gender.append(bg)\n",
    "        file_path.append(audio + i + '/' + f)"
   ]
  },
  {
   "cell_type": "code",
   "execution_count": 10,
   "metadata": {
    "scrolled": false
   },
   "outputs": [
    {
     "data": {
      "text/plain": [
       "female_disgust     96\n",
       "female_fear        96\n",
       "female_angry       96\n",
       "male_surprise      96\n",
       "female_happy       96\n",
       "male_angry         96\n",
       "male_calm          96\n",
       "male_sad           96\n",
       "female_surprise    96\n",
       "female_calm        96\n",
       "male_happy         96\n",
       "male_disgust       96\n",
       "female_sad         96\n",
       "male_fear          96\n",
       "male_neutral       48\n",
       "female_neutral     48\n",
       "Name: labels, dtype: int64"
      ]
     },
     "execution_count": 10,
     "metadata": {},
     "output_type": "execute_result"
    }
   ],
   "source": [
    "audio_df = pd.DataFrame(emotion)\n",
    "audio_df = audio_df.replace({1:'neutral', 2:'calm', 3:'happy', 4:'sad', 5:'angry', 6:'fear', 7:'disgust', 8:'surprise'})\n",
    "audio_df = pd.concat([pd.DataFrame(gender),audio_df],axis=1)\n",
    "audio_df.columns = ['gender','emotion']\n",
    "audio_df['labels'] =audio_df.gender + '_' + audio_df.emotion\n",
    "audio_df = pd.concat([audio_df,pd.DataFrame(file_path, columns = ['path'])],axis=1)\n",
    "audio_df = audio_df.drop(['gender', 'emotion'], axis=1)\n",
    "audio_df.labels.value_counts()"
   ]
  },
  {
   "cell_type": "code",
   "execution_count": 6,
   "metadata": {},
   "outputs": [],
   "source": [
    "audio_df.to_csv('audio.csv')"
   ]
  },
  {
   "cell_type": "code",
   "execution_count": null,
   "metadata": {},
   "outputs": [],
   "source": [
    "\n",
    "os.listdir(audio)"
   ]
  },
  {
   "cell_type": "code",
   "execution_count": null,
   "metadata": {
    "scrolled": false
   },
   "outputs": [],
   "source": [
    "fname = audio + 'Actor_02/03-01-01-01-01-01-02.wav'  #female neutral\n",
    "data_neutral, sr_neutral = librosa.load(fname)\n",
    "plt.figure(figsize=(10, 5))\n",
    "librosa.display.waveplot(data_neutral, sr=sr_neutral)\n",
    "ipd.Audio(fname)"
   ]
  },
  {
   "cell_type": "code",
   "execution_count": null,
   "metadata": {
    "scrolled": false
   },
   "outputs": [],
   "source": [
    "fname = audio + 'Actor_02/03-01-02-01-01-01-02.wav'  #female calm\n",
    "data, sampling_rate = librosa.load(fname)\n",
    "plt.figure(figsize=(10, 5))\n",
    "librosa.display.waveplot(data, sr=sampling_rate)\n",
    "ipd.Audio(fname)\n"
   ]
  },
  {
   "cell_type": "markdown",
   "metadata": {},
   "source": [
    "# MFCC\n",
    "### The mel frequency cepstral coefficients (MFCCs) of a signal are a small set of features (usually about 10–20) which concisely describe the overall shape of a spectral envelope. MFCC is a good \"representation\" of the vocal tract that produces the sound. Think of it like an x-ray of your mouth"
   ]
  },
  {
   "cell_type": "code",
   "execution_count": null,
   "metadata": {},
   "outputs": [],
   "source": [
    "fa_mfcc = librosa.feature.mfcc(y=data_neutral, sr=sr_neutral, n_mfcc=13)\n",
    "plt.figure(figsize=(15, 10))\n",
    "plt.subplot(3,1,1)\n",
    "librosa.display.specshow(fa_mfcc, x_axis='time')\n",
    "plt.ylabel('MFCC')\n",
    "plt.colorbar()"
   ]
  },
  {
   "cell_type": "code",
   "execution_count": null,
   "metadata": {},
   "outputs": [],
   "source": [
    "# MFCC\n",
    "#The mel frequency cepstral coefficients (MFCCs) of a signal are a small set of features \n",
    "#(usually about 10–20) which concisely describe the overall shape of a spectral envelope.\n",
    "# good \"representation\" of the vocal tract that produces the sound. Think of it like an \n",
    "# x-ray of your mouth\n",
    "mfcc = librosa.feature.mfcc(y=data, sr=sampling_rate, n_mfcc=13)\n",
    "\n",
    "plt.figure(figsize=(15, 10))\n",
    "plt.subplot(3,1,1)\n",
    "librosa.display.specshow(mfcc, x_axis='time')\n",
    "plt.ylabel('MFCC')\n",
    "plt.colorbar();"
   ]
  },
  {
   "cell_type": "code",
   "execution_count": null,
   "metadata": {
    "scrolled": true
   },
   "outputs": [],
   "source": [
    "mfcc.shape"
   ]
  },
  {
   "cell_type": "code",
   "execution_count": null,
   "metadata": {},
   "outputs": [],
   "source": []
  },
  {
   "cell_type": "code",
   "execution_count": null,
   "metadata": {},
   "outputs": [],
   "source": [
    "# Male surprised\n",
    "pathh = audio + 'Actor_09/03-01-08-02-02-02-09.wav'\n",
    "X, sample_rate = librosa.load(pathh, res_type='kaiser_fast',duration=2.5,sr=22050*2,offset=0.5)\n",
    "male = librosa.feature.mfcc(y=X, sr=sample_rate, n_mfcc=13)\n",
    "male = np.mean(librosa.feature.mfcc(y=X, sr=sample_rate, n_mfcc=13), axis=0)\n",
    "print(len(male))\n",
    "\n",
    "# Female surprised\n",
    "path= audio + 'Actor_08/03-01-08-02-02-02-08.wav'\n",
    "X, sample_rate = librosa.load(path,duration=2.5,sr=22050*2,offset=0.5)\n",
    "female = librosa.feature.mfcc(y=X, sr=sample_rate, n_mfcc=13)\n",
    "female = np.mean(librosa.feature.mfcc(y=X, sr=sample_rate, n_mfcc=13), axis=0)\n",
    "print(len(female))\n",
    "\n",
    "plt.figure(figsize=(20, 15))\n",
    "plt.subplot(3,1,1)\n",
    "plt.plot(female, label='Female Surprised')\n",
    "plt.plot(male, label='Male Surprised')\n",
    "plt.legend()\n",
    "\n"
   ]
  },
  {
   "cell_type": "code",
   "execution_count": null,
   "metadata": {},
   "outputs": [],
   "source": [
    "# Spectrogram - how the audio spectrum varies as a function of time\n",
    "spectrogram = librosa.feature.melspectrogram(y=X, sr=sampling_rate)\n",
    "db_spec = librosa.power_to_db(spectrogram, ref=np.max,)\n",
    "librosa.display.specshow(db_spec,y_axis='mel', x_axis='time', sr=sampling_rate)\n",
    "plt.colorbar();"
   ]
  },
  {
   "cell_type": "markdown",
   "metadata": {},
   "source": [
    "## Feature Extraction"
   ]
  },
  {
   "cell_type": "code",
   "execution_count": 11,
   "metadata": {},
   "outputs": [
    {
     "name": "stdout",
     "output_type": "stream",
     "text": [
      "1440\n"
     ]
    },
    {
     "data": {
      "text/html": [
       "<div>\n",
       "<style scoped>\n",
       "    .dataframe tbody tr th:only-of-type {\n",
       "        vertical-align: middle;\n",
       "    }\n",
       "\n",
       "    .dataframe tbody tr th {\n",
       "        vertical-align: top;\n",
       "    }\n",
       "\n",
       "    .dataframe thead th {\n",
       "        text-align: right;\n",
       "    }\n",
       "</style>\n",
       "<table border=\"1\" class=\"dataframe\">\n",
       "  <thead>\n",
       "    <tr style=\"text-align: right;\">\n",
       "      <th></th>\n",
       "      <th>mfcc_feature</th>\n",
       "    </tr>\n",
       "  </thead>\n",
       "  <tbody>\n",
       "    <tr>\n",
       "      <th>0</th>\n",
       "      <td>[-61.862374191339036, -61.862374191339036, -61...</td>\n",
       "    </tr>\n",
       "    <tr>\n",
       "      <th>1</th>\n",
       "      <td>[-61.50800105381538, -61.50800105381538, -61.5...</td>\n",
       "    </tr>\n",
       "    <tr>\n",
       "      <th>2</th>\n",
       "      <td>[-55.66308593160217, -56.17033629546251, -56.1...</td>\n",
       "    </tr>\n",
       "    <tr>\n",
       "      <th>3</th>\n",
       "      <td>[-63.52352959684379, -63.52352959684379, -63.5...</td>\n",
       "    </tr>\n",
       "    <tr>\n",
       "      <th>4</th>\n",
       "      <td>[-43.19739053316282, -44.238600301837614, -43....</td>\n",
       "    </tr>\n",
       "  </tbody>\n",
       "</table>\n",
       "</div>"
      ],
      "text/plain": [
       "                                        mfcc_feature\n",
       "0  [-61.862374191339036, -61.862374191339036, -61...\n",
       "1  [-61.50800105381538, -61.50800105381538, -61.5...\n",
       "2  [-55.66308593160217, -56.17033629546251, -56.1...\n",
       "3  [-63.52352959684379, -63.52352959684379, -63.5...\n",
       "4  [-43.19739053316282, -44.238600301837614, -43...."
      ]
     },
     "execution_count": 11,
     "metadata": {},
     "output_type": "execute_result"
    }
   ],
   "source": [
    "df = pd.DataFrame(columns=['mfcc_feature'])\n",
    "\n",
    "# feature extraction over the entire dataset\n",
    "counter=0\n",
    "for index,path in enumerate(audio_df.path):\n",
    "    X, sample_rate = librosa.load(path, res_type='kaiser_fast',duration=2.5,sr=44100,offset=0.5)\n",
    "    sample_rate = np.array(sample_rate)\n",
    "    \n",
    "    mfccs = np.mean(librosa.feature.mfcc(y=X, sr=sample_rate, n_mfcc=13),axis=0)\n",
    "    df.loc[counter] = [mfccs]\n",
    "    counter=counter+1   \n",
    "\n",
    "\n",
    "print(len(df))\n",
    "df.head()\n"
   ]
  },
  {
   "cell_type": "code",
   "execution_count": null,
   "metadata": {},
   "outputs": [],
   "source": [
    "df_chroma = pd.DataFrame(columns=['chroma_feat'])\n",
    "\n",
    "# feature extraction over the entire dataset\n",
    "counter=0\n",
    "for index,path in enumerate(audio_df.path):\n",
    "    X, sample_rate = librosa.load(path, res_type='kaiser_fast',duration=2.5,sr=44100,offset=0.5)\n",
    "    sample_rate = np.array(sample_rate)\n",
    "    \n",
    "    chroma=np.mean(librosa.feature.chroma_stft(X, sr=sample_rate).T,axis=0)\n",
    "    df_chroma.loc[counter] = [chroma]\n",
    "    counter=counter+1   \n",
    "\n",
    "\n",
    "print(len(df_chroma))\n",
    "df_chroma.head()"
   ]
  },
  {
   "cell_type": "code",
   "execution_count": null,
   "metadata": {
    "scrolled": false
   },
   "outputs": [],
   "source": [
    "# Extract the mean bands to its own feature columns\n",
    "df_combined = pd.concat([audio_df,pd.DataFrame(df['mfcc_feature'].values.tolist()),pd.DataFrame(df_chroma['chroma_feat'].values.tolist())],axis=1)\n",
    "df_combined.head()"
   ]
  },
  {
   "cell_type": "code",
   "execution_count": 47,
   "metadata": {
    "scrolled": true
   },
   "outputs": [
    {
     "data": {
      "text/html": [
       "<div>\n",
       "<style scoped>\n",
       "    .dataframe tbody tr th:only-of-type {\n",
       "        vertical-align: middle;\n",
       "    }\n",
       "\n",
       "    .dataframe tbody tr th {\n",
       "        vertical-align: top;\n",
       "    }\n",
       "\n",
       "    .dataframe thead th {\n",
       "        text-align: right;\n",
       "    }\n",
       "</style>\n",
       "<table border=\"1\" class=\"dataframe\">\n",
       "  <thead>\n",
       "    <tr style=\"text-align: right;\">\n",
       "      <th></th>\n",
       "      <th>0</th>\n",
       "      <th>1</th>\n",
       "      <th>2</th>\n",
       "      <th>3</th>\n",
       "      <th>4</th>\n",
       "      <th>5</th>\n",
       "      <th>6</th>\n",
       "      <th>7</th>\n",
       "      <th>8</th>\n",
       "      <th>9</th>\n",
       "      <th>...</th>\n",
       "      <th>206</th>\n",
       "      <th>207</th>\n",
       "      <th>208</th>\n",
       "      <th>209</th>\n",
       "      <th>210</th>\n",
       "      <th>211</th>\n",
       "      <th>212</th>\n",
       "      <th>213</th>\n",
       "      <th>214</th>\n",
       "      <th>215</th>\n",
       "    </tr>\n",
       "  </thead>\n",
       "  <tbody>\n",
       "    <tr>\n",
       "      <th>890</th>\n",
       "      <td>-57.251298</td>\n",
       "      <td>-55.135873</td>\n",
       "      <td>-52.830597</td>\n",
       "      <td>-50.497044</td>\n",
       "      <td>-48.499549</td>\n",
       "      <td>-49.208680</td>\n",
       "      <td>-51.896619</td>\n",
       "      <td>-56.573747</td>\n",
       "      <td>-56.517040</td>\n",
       "      <td>-53.849786</td>\n",
       "      <td>...</td>\n",
       "      <td>-48.636221</td>\n",
       "      <td>-50.341801</td>\n",
       "      <td>-49.158410</td>\n",
       "      <td>-50.554314</td>\n",
       "      <td>-51.177394</td>\n",
       "      <td>-53.145746</td>\n",
       "      <td>-53.417671</td>\n",
       "      <td>-53.997535</td>\n",
       "      <td>-55.854871</td>\n",
       "      <td>-54.195359</td>\n",
       "    </tr>\n",
       "    <tr>\n",
       "      <th>406</th>\n",
       "      <td>-61.578101</td>\n",
       "      <td>-61.673224</td>\n",
       "      <td>-62.831103</td>\n",
       "      <td>-63.832680</td>\n",
       "      <td>-64.865752</td>\n",
       "      <td>-65.234107</td>\n",
       "      <td>-66.294061</td>\n",
       "      <td>-67.069256</td>\n",
       "      <td>-67.069256</td>\n",
       "      <td>-66.795328</td>\n",
       "      <td>...</td>\n",
       "      <td>-30.498486</td>\n",
       "      <td>-31.185408</td>\n",
       "      <td>-32.782602</td>\n",
       "      <td>-34.491223</td>\n",
       "      <td>-35.530448</td>\n",
       "      <td>-36.639739</td>\n",
       "      <td>-39.010949</td>\n",
       "      <td>-41.100021</td>\n",
       "      <td>-42.169942</td>\n",
       "      <td>-42.573329</td>\n",
       "    </tr>\n",
       "    <tr>\n",
       "      <th>660</th>\n",
       "      <td>-66.818947</td>\n",
       "      <td>-66.818947</td>\n",
       "      <td>-65.582900</td>\n",
       "      <td>-63.439996</td>\n",
       "      <td>-66.818403</td>\n",
       "      <td>-66.761740</td>\n",
       "      <td>-65.490220</td>\n",
       "      <td>-66.593945</td>\n",
       "      <td>-66.818947</td>\n",
       "      <td>-66.013497</td>\n",
       "      <td>...</td>\n",
       "      <td>-47.181827</td>\n",
       "      <td>-48.255407</td>\n",
       "      <td>-49.223744</td>\n",
       "      <td>-49.822458</td>\n",
       "      <td>-54.132518</td>\n",
       "      <td>-55.426454</td>\n",
       "      <td>-54.248539</td>\n",
       "      <td>-51.436671</td>\n",
       "      <td>-51.311315</td>\n",
       "      <td>-56.425171</td>\n",
       "    </tr>\n",
       "    <tr>\n",
       "      <th>613</th>\n",
       "      <td>-57.242510</td>\n",
       "      <td>-55.023165</td>\n",
       "      <td>-54.382124</td>\n",
       "      <td>-55.727116</td>\n",
       "      <td>-54.904653</td>\n",
       "      <td>-55.443820</td>\n",
       "      <td>-54.799368</td>\n",
       "      <td>-54.979560</td>\n",
       "      <td>-55.338286</td>\n",
       "      <td>-55.462773</td>\n",
       "      <td>...</td>\n",
       "      <td>-53.766093</td>\n",
       "      <td>-53.414806</td>\n",
       "      <td>-54.487051</td>\n",
       "      <td>-56.974286</td>\n",
       "      <td>-60.323581</td>\n",
       "      <td>-59.273292</td>\n",
       "      <td>-59.083786</td>\n",
       "      <td>-57.853121</td>\n",
       "      <td>-58.491580</td>\n",
       "      <td>-56.709638</td>\n",
       "    </tr>\n",
       "    <tr>\n",
       "      <th>164</th>\n",
       "      <td>-59.131263</td>\n",
       "      <td>-58.285060</td>\n",
       "      <td>-58.198699</td>\n",
       "      <td>-57.998669</td>\n",
       "      <td>-55.862233</td>\n",
       "      <td>-52.840274</td>\n",
       "      <td>-48.240766</td>\n",
       "      <td>-43.556855</td>\n",
       "      <td>-42.859939</td>\n",
       "      <td>-45.325574</td>\n",
       "      <td>...</td>\n",
       "      <td>-47.393752</td>\n",
       "      <td>-46.345942</td>\n",
       "      <td>-44.766523</td>\n",
       "      <td>-47.263935</td>\n",
       "      <td>-49.544890</td>\n",
       "      <td>-46.250867</td>\n",
       "      <td>-44.573158</td>\n",
       "      <td>-45.727811</td>\n",
       "      <td>-47.121359</td>\n",
       "      <td>-47.726481</td>\n",
       "    </tr>\n",
       "    <tr>\n",
       "      <th>1132</th>\n",
       "      <td>-44.367470</td>\n",
       "      <td>-44.555682</td>\n",
       "      <td>-45.389494</td>\n",
       "      <td>-46.178208</td>\n",
       "      <td>-45.476410</td>\n",
       "      <td>-44.931989</td>\n",
       "      <td>-44.843055</td>\n",
       "      <td>-45.842348</td>\n",
       "      <td>-45.726843</td>\n",
       "      <td>-46.178208</td>\n",
       "      <td>...</td>\n",
       "      <td>-36.563055</td>\n",
       "      <td>-36.880264</td>\n",
       "      <td>-37.774918</td>\n",
       "      <td>-36.026037</td>\n",
       "      <td>-35.386804</td>\n",
       "      <td>-35.742715</td>\n",
       "      <td>-36.695832</td>\n",
       "      <td>-36.756048</td>\n",
       "      <td>-24.732812</td>\n",
       "      <td>-17.532417</td>\n",
       "    </tr>\n",
       "    <tr>\n",
       "      <th>1294</th>\n",
       "      <td>-50.574255</td>\n",
       "      <td>-50.574255</td>\n",
       "      <td>-50.574255</td>\n",
       "      <td>-50.574255</td>\n",
       "      <td>-50.574255</td>\n",
       "      <td>-50.564788</td>\n",
       "      <td>-50.258158</td>\n",
       "      <td>-50.093196</td>\n",
       "      <td>-49.853892</td>\n",
       "      <td>-50.041811</td>\n",
       "      <td>...</td>\n",
       "      <td>-46.319233</td>\n",
       "      <td>-47.543641</td>\n",
       "      <td>-47.412853</td>\n",
       "      <td>-48.369692</td>\n",
       "      <td>-48.914861</td>\n",
       "      <td>-47.969699</td>\n",
       "      <td>-48.429858</td>\n",
       "      <td>-49.166957</td>\n",
       "      <td>-49.127701</td>\n",
       "      <td>-50.121137</td>\n",
       "    </tr>\n",
       "    <tr>\n",
       "      <th>978</th>\n",
       "      <td>-53.141989</td>\n",
       "      <td>-52.674986</td>\n",
       "      <td>-50.214223</td>\n",
       "      <td>-50.819006</td>\n",
       "      <td>-54.603820</td>\n",
       "      <td>-52.255261</td>\n",
       "      <td>-50.683798</td>\n",
       "      <td>-52.724802</td>\n",
       "      <td>-49.598236</td>\n",
       "      <td>-51.657570</td>\n",
       "      <td>...</td>\n",
       "      <td>-46.110015</td>\n",
       "      <td>-47.976356</td>\n",
       "      <td>-47.613287</td>\n",
       "      <td>-48.414052</td>\n",
       "      <td>-49.194751</td>\n",
       "      <td>-50.277707</td>\n",
       "      <td>-52.465255</td>\n",
       "      <td>-54.078607</td>\n",
       "      <td>-56.517974</td>\n",
       "      <td>-57.023303</td>\n",
       "    </tr>\n",
       "    <tr>\n",
       "      <th>1287</th>\n",
       "      <td>-47.414285</td>\n",
       "      <td>-48.179826</td>\n",
       "      <td>-51.837040</td>\n",
       "      <td>-51.647989</td>\n",
       "      <td>-54.661437</td>\n",
       "      <td>-58.216289</td>\n",
       "      <td>-58.381826</td>\n",
       "      <td>-57.828549</td>\n",
       "      <td>-57.804660</td>\n",
       "      <td>-57.082074</td>\n",
       "      <td>...</td>\n",
       "      <td>-49.676815</td>\n",
       "      <td>-49.914323</td>\n",
       "      <td>-51.756486</td>\n",
       "      <td>-52.832853</td>\n",
       "      <td>-56.316714</td>\n",
       "      <td>-56.228034</td>\n",
       "      <td>-56.760224</td>\n",
       "      <td>-56.698584</td>\n",
       "      <td>-55.908250</td>\n",
       "      <td>-55.275066</td>\n",
       "    </tr>\n",
       "    <tr>\n",
       "      <th>485</th>\n",
       "      <td>-42.326535</td>\n",
       "      <td>-42.384104</td>\n",
       "      <td>-41.830340</td>\n",
       "      <td>-41.722433</td>\n",
       "      <td>-41.489256</td>\n",
       "      <td>-41.244489</td>\n",
       "      <td>-41.359679</td>\n",
       "      <td>-41.101078</td>\n",
       "      <td>-41.173716</td>\n",
       "      <td>-41.788700</td>\n",
       "      <td>...</td>\n",
       "      <td>-29.022729</td>\n",
       "      <td>-19.884967</td>\n",
       "      <td>-14.869343</td>\n",
       "      <td>-16.391935</td>\n",
       "      <td>-19.206144</td>\n",
       "      <td>-19.625772</td>\n",
       "      <td>-16.581887</td>\n",
       "      <td>-13.264476</td>\n",
       "      <td>-8.564638</td>\n",
       "      <td>-2.037606</td>\n",
       "    </tr>\n",
       "  </tbody>\n",
       "</table>\n",
       "<p>10 rows × 216 columns</p>\n",
       "</div>"
      ],
      "text/plain": [
       "            0          1          2          3          4          5    \\\n",
       "890  -57.251298 -55.135873 -52.830597 -50.497044 -48.499549 -49.208680   \n",
       "406  -61.578101 -61.673224 -62.831103 -63.832680 -64.865752 -65.234107   \n",
       "660  -66.818947 -66.818947 -65.582900 -63.439996 -66.818403 -66.761740   \n",
       "613  -57.242510 -55.023165 -54.382124 -55.727116 -54.904653 -55.443820   \n",
       "164  -59.131263 -58.285060 -58.198699 -57.998669 -55.862233 -52.840274   \n",
       "1132 -44.367470 -44.555682 -45.389494 -46.178208 -45.476410 -44.931989   \n",
       "1294 -50.574255 -50.574255 -50.574255 -50.574255 -50.574255 -50.564788   \n",
       "978  -53.141989 -52.674986 -50.214223 -50.819006 -54.603820 -52.255261   \n",
       "1287 -47.414285 -48.179826 -51.837040 -51.647989 -54.661437 -58.216289   \n",
       "485  -42.326535 -42.384104 -41.830340 -41.722433 -41.489256 -41.244489   \n",
       "\n",
       "            6          7          8          9    ...        206        207  \\\n",
       "890  -51.896619 -56.573747 -56.517040 -53.849786  ... -48.636221 -50.341801   \n",
       "406  -66.294061 -67.069256 -67.069256 -66.795328  ... -30.498486 -31.185408   \n",
       "660  -65.490220 -66.593945 -66.818947 -66.013497  ... -47.181827 -48.255407   \n",
       "613  -54.799368 -54.979560 -55.338286 -55.462773  ... -53.766093 -53.414806   \n",
       "164  -48.240766 -43.556855 -42.859939 -45.325574  ... -47.393752 -46.345942   \n",
       "1132 -44.843055 -45.842348 -45.726843 -46.178208  ... -36.563055 -36.880264   \n",
       "1294 -50.258158 -50.093196 -49.853892 -50.041811  ... -46.319233 -47.543641   \n",
       "978  -50.683798 -52.724802 -49.598236 -51.657570  ... -46.110015 -47.976356   \n",
       "1287 -58.381826 -57.828549 -57.804660 -57.082074  ... -49.676815 -49.914323   \n",
       "485  -41.359679 -41.101078 -41.173716 -41.788700  ... -29.022729 -19.884967   \n",
       "\n",
       "            208        209        210        211        212        213  \\\n",
       "890  -49.158410 -50.554314 -51.177394 -53.145746 -53.417671 -53.997535   \n",
       "406  -32.782602 -34.491223 -35.530448 -36.639739 -39.010949 -41.100021   \n",
       "660  -49.223744 -49.822458 -54.132518 -55.426454 -54.248539 -51.436671   \n",
       "613  -54.487051 -56.974286 -60.323581 -59.273292 -59.083786 -57.853121   \n",
       "164  -44.766523 -47.263935 -49.544890 -46.250867 -44.573158 -45.727811   \n",
       "1132 -37.774918 -36.026037 -35.386804 -35.742715 -36.695832 -36.756048   \n",
       "1294 -47.412853 -48.369692 -48.914861 -47.969699 -48.429858 -49.166957   \n",
       "978  -47.613287 -48.414052 -49.194751 -50.277707 -52.465255 -54.078607   \n",
       "1287 -51.756486 -52.832853 -56.316714 -56.228034 -56.760224 -56.698584   \n",
       "485  -14.869343 -16.391935 -19.206144 -19.625772 -16.581887 -13.264476   \n",
       "\n",
       "            214        215  \n",
       "890  -55.854871 -54.195359  \n",
       "406  -42.169942 -42.573329  \n",
       "660  -51.311315 -56.425171  \n",
       "613  -58.491580 -56.709638  \n",
       "164  -47.121359 -47.726481  \n",
       "1132 -24.732812 -17.532417  \n",
       "1294 -49.127701 -50.121137  \n",
       "978  -56.517974 -57.023303  \n",
       "1287 -55.908250 -55.275066  \n",
       "485   -8.564638  -2.037606  \n",
       "\n",
       "[10 rows x 216 columns]"
      ]
     },
     "execution_count": 47,
     "metadata": {},
     "output_type": "execute_result"
    }
   ],
   "source": [
    "from sklearn.model_selection import train_test_split\n",
    "# Split between train and test \n",
    "X_train, X_test, y_train, y_test = train_test_split(df.drop(['path','labels'],axis=1)\n",
    "                                                    , df.labels\n",
    "                                                    , test_size=0.25\n",
    "                                                    , shuffle=True\n",
    "                                                    , random_state=22\n",
    "                                                   )\n",
    "\n",
    "# Lets see how the data present itself before normalisation \n",
    "X_train[150:160]"
   ]
  },
  {
   "cell_type": "code",
   "execution_count": 45,
   "metadata": {},
   "outputs": [],
   "source": [
    "# Lets few preparation steps to get it into the correct format for Keras \n",
    "X_train = np.array(X_train)\n",
    "y_train = np.array(y_train)\n",
    "X_test = np.array(X_test)\n",
    "y_test = np.array(y_test)"
   ]
  },
  {
   "cell_type": "code",
   "execution_count": 46,
   "metadata": {},
   "outputs": [],
   "source": [
    "from sklearn.preprocessing import LabelEncoder\n",
    "from keras.utils import np_utils, to_categorical\n",
    "\n",
    "# one hot encode the target \n",
    "lb = LabelEncoder()\n",
    "y_train = np_utils.to_categorical(lb.fit_transform(y_train))\n",
    "y_test = np_utils.to_categorical(lb.fit_transform(y_test))\n"
   ]
  },
  {
   "cell_type": "code",
   "execution_count": 15,
   "metadata": {
    "scrolled": false
   },
   "outputs": [
    {
     "name": "stdout",
     "output_type": "stream",
     "text": [
      "['female_angry' 'female_calm' 'female_disgust' 'female_fear'\n",
      " 'female_happy' 'female_neutral' 'female_sad' 'female_surprise'\n",
      " 'male_angry' 'male_calm' 'male_disgust' 'male_fear' 'male_happy'\n",
      " 'male_neutral' 'male_sad' 'male_surprise']\n"
     ]
    }
   ],
   "source": [
    "print(lb.classes_)"
   ]
  },
  {
   "cell_type": "code",
   "execution_count": 14,
   "metadata": {},
   "outputs": [
    {
     "data": {
      "text/plain": [
       "(1080, 216, 1)"
      ]
     },
     "execution_count": 14,
     "metadata": {},
     "output_type": "execute_result"
    }
   ],
   "source": [
    "X_train = np.expand_dims(X_train, axis=2)\n",
    "X_test = np.expand_dims(X_test, axis=2)\n",
    "X_train.shape"
   ]
  },
  {
   "cell_type": "code",
   "execution_count": 15,
   "metadata": {
    "scrolled": true
   },
   "outputs": [
    {
     "name": "stdout",
     "output_type": "stream",
     "text": [
      "WARNING:tensorflow:From /opt/anaconda3/envs/learn-env/lib/python3.6/site-packages/tensorflow/python/util/deprecation.py:497: calling conv1d (from tensorflow.python.ops.nn_ops) with data_format=NHWC is deprecated and will be removed in a future version.\n",
      "Instructions for updating:\n",
      "`NHWC` for data_format is deprecated, use `NWC` instead\n",
      "_________________________________________________________________\n",
      "Layer (type)                 Output Shape              Param #   \n",
      "=================================================================\n",
      "conv1d_1 (Conv1D)            (None, 216, 256)          2304      \n",
      "_________________________________________________________________\n",
      "activation_1 (Activation)    (None, 216, 256)          0         \n",
      "_________________________________________________________________\n",
      "conv1d_2 (Conv1D)            (None, 216, 256)          524544    \n",
      "_________________________________________________________________\n",
      "batch_normalization_1 (Batch (None, 216, 256)          1024      \n",
      "_________________________________________________________________\n",
      "activation_2 (Activation)    (None, 216, 256)          0         \n",
      "_________________________________________________________________\n",
      "dropout_1 (Dropout)          (None, 216, 256)          0         \n",
      "_________________________________________________________________\n",
      "max_pooling1d_1 (MaxPooling1 (None, 216, 256)          0         \n",
      "_________________________________________________________________\n",
      "conv1d_3 (Conv1D)            (None, 216, 128)          262272    \n",
      "_________________________________________________________________\n",
      "activation_3 (Activation)    (None, 216, 128)          0         \n",
      "_________________________________________________________________\n",
      "conv1d_4 (Conv1D)            (None, 216, 128)          131200    \n",
      "_________________________________________________________________\n",
      "activation_4 (Activation)    (None, 216, 128)          0         \n",
      "_________________________________________________________________\n",
      "conv1d_5 (Conv1D)            (None, 216, 128)          131200    \n",
      "_________________________________________________________________\n",
      "activation_5 (Activation)    (None, 216, 128)          0         \n",
      "_________________________________________________________________\n",
      "conv1d_6 (Conv1D)            (None, 216, 128)          131200    \n",
      "_________________________________________________________________\n",
      "batch_normalization_2 (Batch (None, 216, 128)          512       \n",
      "_________________________________________________________________\n",
      "activation_6 (Activation)    (None, 216, 128)          0         \n",
      "_________________________________________________________________\n",
      "dropout_2 (Dropout)          (None, 216, 128)          0         \n",
      "_________________________________________________________________\n",
      "max_pooling1d_2 (MaxPooling1 (None, 216, 128)          0         \n",
      "_________________________________________________________________\n",
      "conv1d_7 (Conv1D)            (None, 216, 64)           65600     \n",
      "_________________________________________________________________\n",
      "activation_7 (Activation)    (None, 216, 64)           0         \n",
      "_________________________________________________________________\n",
      "conv1d_8 (Conv1D)            (None, 216, 64)           32832     \n",
      "_________________________________________________________________\n",
      "activation_8 (Activation)    (None, 216, 64)           0         \n",
      "_________________________________________________________________\n",
      "flatten_1 (Flatten)          (None, 13824)             0         \n",
      "_________________________________________________________________\n",
      "dense_1 (Dense)              (None, 16)                221200    \n",
      "_________________________________________________________________\n",
      "activation_9 (Activation)    (None, 16)                0         \n",
      "=================================================================\n",
      "Total params: 1,503,888\n",
      "Trainable params: 1,503,120\n",
      "Non-trainable params: 768\n",
      "_________________________________________________________________\n"
     ]
    }
   ],
   "source": [
    "import keras\n",
    "from keras.models import Sequential, Model, model_from_json\n",
    "from keras.layers import Conv1D, MaxPooling1D, AveragePooling1D\n",
    "from keras.layers import Input, Flatten, Dropout, Activation, BatchNormalization\n",
    "from keras.layers import Dense, Embedding, LSTM\n",
    "\n",
    "\n",
    "# New model\n",
    "model = Sequential()\n",
    "model.add(Conv1D(256, 8, padding='same',input_shape=(X_train.shape[1],1)))  # X_train.shape[1] = No. of Columns\n",
    "model.add(Activation('relu'))\n",
    "model.add(Conv1D(256, 8, padding='same'))\n",
    "model.add(BatchNormalization())\n",
    "model.add(Activation('relu'))\n",
    "model.add(Dropout(0.25))\n",
    "model.add(MaxPooling1D(pool_size=(1)))\n",
    "model.add(Conv1D(128, 8, padding='same'))\n",
    "model.add(Activation('relu'))\n",
    "model.add(Conv1D(128, 8, padding='same'))\n",
    "model.add(Activation('relu'))\n",
    "model.add(Conv1D(128, 8, padding='same'))\n",
    "model.add(Activation('relu'))\n",
    "model.add(Conv1D(128, 8, padding='same'))\n",
    "model.add(BatchNormalization())\n",
    "model.add(Activation('relu'))\n",
    "model.add(Dropout(0.25))\n",
    "model.add(MaxPooling1D(pool_size=(1)))\n",
    "model.add(Conv1D(64, 8, padding='same'))\n",
    "model.add(Activation('relu'))\n",
    "model.add(Conv1D(64, 8, padding='same'))\n",
    "model.add(Activation('relu'))\n",
    "model.add(Flatten())\n",
    "model.add(Dense(16)) # Target class number\n",
    "model.add(Activation('softmax'))\n",
    "# opt = keras.optimizers.SGD(lr=0.0001, momentum=0.0, decay=0.0, nesterov=False)\n",
    "# opt = keras.optimizers.Adam(lr=0.0001)\n",
    "opt = keras.optimizers.rmsprop(lr=0.00001, decay=1e-6)\n",
    "model.summary()"
   ]
  },
  {
   "cell_type": "code",
   "execution_count": 16,
   "metadata": {
    "scrolled": true
   },
   "outputs": [
    {
     "name": "stdout",
     "output_type": "stream",
     "text": [
      "Train on 1080 samples, validate on 360 samples\n",
      "Epoch 1/50\n",
      "1080/1080 [==============================] - 32s 30ms/step - loss: 2.7718 - acc: 0.0880 - val_loss: 2.6532 - val_acc: 0.1694\n",
      "Epoch 2/50\n",
      "1080/1080 [==============================] - 31s 29ms/step - loss: 2.5888 - acc: 0.1509 - val_loss: 2.5322 - val_acc: 0.1639\n",
      "Epoch 3/50\n",
      "1080/1080 [==============================] - 32s 29ms/step - loss: 2.4669 - acc: 0.1889 - val_loss: 2.4742 - val_acc: 0.2083\n",
      "Epoch 4/50\n",
      "1080/1080 [==============================] - 32s 29ms/step - loss: 2.3342 - acc: 0.2269 - val_loss: 2.3890 - val_acc: 0.2333\n",
      "Epoch 5/50\n",
      "1080/1080 [==============================] - 32s 29ms/step - loss: 2.2265 - acc: 0.2398 - val_loss: 2.3385 - val_acc: 0.2250\n",
      "Epoch 6/50\n",
      "1080/1080 [==============================] - 31s 29ms/step - loss: 2.1807 - acc: 0.2528 - val_loss: 2.3000 - val_acc: 0.2417\n",
      "Epoch 7/50\n",
      "1080/1080 [==============================] - 31s 29ms/step - loss: 2.1199 - acc: 0.2713 - val_loss: 2.1240 - val_acc: 0.2833\n",
      "Epoch 8/50\n",
      "1080/1080 [==============================] - 35s 32ms/step - loss: 2.0770 - acc: 0.3009 - val_loss: 2.1412 - val_acc: 0.2944\n",
      "Epoch 9/50\n",
      "1080/1080 [==============================] - 32s 29ms/step - loss: 2.0354 - acc: 0.3093 - val_loss: 2.1048 - val_acc: 0.2833\n",
      "Epoch 10/50\n",
      "1080/1080 [==============================] - 33s 31ms/step - loss: 2.0063 - acc: 0.3019 - val_loss: 2.1423 - val_acc: 0.2889\n",
      "Epoch 11/50\n",
      "1080/1080 [==============================] - 32s 30ms/step - loss: 1.9639 - acc: 0.3472 - val_loss: 2.1060 - val_acc: 0.3000\n",
      "Epoch 12/50\n",
      "1080/1080 [==============================] - 33s 31ms/step - loss: 1.9752 - acc: 0.3157 - val_loss: 2.0152 - val_acc: 0.2944\n",
      "Epoch 13/50\n",
      "1080/1080 [==============================] - 33s 31ms/step - loss: 1.9381 - acc: 0.3500 - val_loss: 2.0254 - val_acc: 0.2944\n",
      "Epoch 14/50\n",
      "1080/1080 [==============================] - 40s 37ms/step - loss: 1.9022 - acc: 0.3435 - val_loss: 1.9365 - val_acc: 0.3417\n",
      "Epoch 15/50\n",
      "1080/1080 [==============================] - 34s 31ms/step - loss: 1.8582 - acc: 0.3556 - val_loss: 2.2321 - val_acc: 0.2917\n",
      "Epoch 16/50\n",
      "1080/1080 [==============================] - 31s 29ms/step - loss: 1.8532 - acc: 0.3667 - val_loss: 2.0502 - val_acc: 0.3250\n",
      "Epoch 17/50\n",
      "1080/1080 [==============================] - 31s 29ms/step - loss: 1.8385 - acc: 0.3639 - val_loss: 2.0494 - val_acc: 0.3167\n",
      "Epoch 18/50\n",
      "1080/1080 [==============================] - 31s 29ms/step - loss: 1.8447 - acc: 0.3565 - val_loss: 1.9347 - val_acc: 0.3278\n",
      "Epoch 19/50\n",
      "1080/1080 [==============================] - 31s 29ms/step - loss: 1.8150 - acc: 0.3769 - val_loss: 1.9520 - val_acc: 0.3222\n",
      "Epoch 20/50\n",
      "1080/1080 [==============================] - 31s 29ms/step - loss: 1.7570 - acc: 0.4037 - val_loss: 1.9254 - val_acc: 0.3194\n",
      "Epoch 21/50\n",
      "1080/1080 [==============================] - 31s 29ms/step - loss: 1.7497 - acc: 0.3944 - val_loss: 2.0091 - val_acc: 0.3056\n",
      "Epoch 22/50\n",
      "1080/1080 [==============================] - 32s 29ms/step - loss: 1.7640 - acc: 0.3954 - val_loss: 2.2999 - val_acc: 0.2889\n",
      "Epoch 23/50\n",
      "1080/1080 [==============================] - 32s 30ms/step - loss: 1.7558 - acc: 0.3954 - val_loss: 1.9271 - val_acc: 0.3250\n",
      "Epoch 24/50\n",
      "1080/1080 [==============================] - 32s 29ms/step - loss: 1.7184 - acc: 0.4074 - val_loss: 1.9970 - val_acc: 0.3417\n",
      "Epoch 25/50\n",
      "1080/1080 [==============================] - 31s 29ms/step - loss: 1.6816 - acc: 0.4241 - val_loss: 1.9357 - val_acc: 0.3556\n",
      "Epoch 26/50\n",
      "1080/1080 [==============================] - 31s 29ms/step - loss: 1.7010 - acc: 0.4194 - val_loss: 1.9838 - val_acc: 0.3083\n",
      "Epoch 27/50\n",
      "1080/1080 [==============================] - 33s 30ms/step - loss: 1.7009 - acc: 0.4306 - val_loss: 2.9674 - val_acc: 0.1917\n",
      "Epoch 28/50\n",
      "1080/1080 [==============================] - 31s 29ms/step - loss: 1.6382 - acc: 0.4296 - val_loss: 1.8582 - val_acc: 0.3472\n",
      "Epoch 29/50\n",
      "1080/1080 [==============================] - 31s 29ms/step - loss: 1.6158 - acc: 0.4472 - val_loss: 1.9727 - val_acc: 0.3528\n",
      "Epoch 30/50\n",
      "1080/1080 [==============================] - 31s 29ms/step - loss: 1.5961 - acc: 0.4620 - val_loss: 2.0505 - val_acc: 0.3250\n",
      "Epoch 31/50\n",
      "1080/1080 [==============================] - 32s 30ms/step - loss: 1.5964 - acc: 0.4630 - val_loss: 2.2633 - val_acc: 0.2833\n",
      "Epoch 32/50\n",
      "1080/1080 [==============================] - 32s 30ms/step - loss: 1.5623 - acc: 0.4694 - val_loss: 1.9881 - val_acc: 0.3306\n",
      "Epoch 33/50\n",
      "1080/1080 [==============================] - 31s 29ms/step - loss: 1.5694 - acc: 0.4583 - val_loss: 1.8173 - val_acc: 0.3750\n",
      "Epoch 34/50\n",
      "1080/1080 [==============================] - 34s 31ms/step - loss: 1.5531 - acc: 0.4787 - val_loss: 2.7602 - val_acc: 0.2333\n",
      "Epoch 35/50\n",
      "1080/1080 [==============================] - 33s 30ms/step - loss: 1.5124 - acc: 0.4972 - val_loss: 1.9679 - val_acc: 0.3694\n",
      "Epoch 36/50\n",
      "1080/1080 [==============================] - 31s 29ms/step - loss: 1.5174 - acc: 0.4787 - val_loss: 1.9491 - val_acc: 0.3417\n",
      "Epoch 37/50\n",
      "1080/1080 [==============================] - 32s 29ms/step - loss: 1.5035 - acc: 0.4926 - val_loss: 1.8549 - val_acc: 0.3667\n",
      "Epoch 38/50\n",
      "1080/1080 [==============================] - 37s 34ms/step - loss: 1.4564 - acc: 0.5120 - val_loss: 2.9339 - val_acc: 0.2028\n",
      "Epoch 39/50\n",
      "1080/1080 [==============================] - 32s 29ms/step - loss: 1.4478 - acc: 0.5315 - val_loss: 2.0172 - val_acc: 0.3222\n",
      "Epoch 40/50\n",
      "1080/1080 [==============================] - 34s 32ms/step - loss: 1.4397 - acc: 0.5083 - val_loss: 1.8303 - val_acc: 0.3722\n",
      "Epoch 41/50\n",
      "1080/1080 [==============================] - 31s 29ms/step - loss: 1.4419 - acc: 0.5028 - val_loss: 3.2179 - val_acc: 0.1861\n",
      "Epoch 42/50\n",
      "1080/1080 [==============================] - 33s 30ms/step - loss: 1.4290 - acc: 0.5231 - val_loss: 2.2216 - val_acc: 0.2583\n",
      "Epoch 43/50\n",
      "1080/1080 [==============================] - 33s 31ms/step - loss: 1.4007 - acc: 0.5528 - val_loss: 1.8139 - val_acc: 0.3833\n",
      "Epoch 44/50\n",
      "1080/1080 [==============================] - 34s 31ms/step - loss: 1.3910 - acc: 0.5315 - val_loss: 2.1438 - val_acc: 0.2750\n",
      "Epoch 45/50\n",
      "1080/1080 [==============================] - 40s 37ms/step - loss: 1.3485 - acc: 0.5407 - val_loss: 2.0162 - val_acc: 0.3333\n",
      "Epoch 46/50\n",
      "1080/1080 [==============================] - 38s 35ms/step - loss: 1.3359 - acc: 0.5630 - val_loss: 2.9907 - val_acc: 0.2222\n",
      "Epoch 47/50\n",
      "1080/1080 [==============================] - 34s 31ms/step - loss: 1.3109 - acc: 0.5630 - val_loss: 2.0351 - val_acc: 0.3222\n",
      "Epoch 48/50\n",
      "1080/1080 [==============================] - 35s 32ms/step - loss: 1.3097 - acc: 0.5593 - val_loss: 1.8389 - val_acc: 0.3722\n",
      "Epoch 49/50\n",
      "1080/1080 [==============================] - 39s 36ms/step - loss: 1.2916 - acc: 0.5731 - val_loss: 1.8812 - val_acc: 0.3972\n",
      "Epoch 50/50\n",
      "1080/1080 [==============================] - 39s 36ms/step - loss: 1.2746 - acc: 0.5843 - val_loss: 1.8342 - val_acc: 0.3972\n"
     ]
    }
   ],
   "source": [
    "model.compile(loss='categorical_crossentropy', optimizer=opt,metrics=['accuracy'])\n",
    "model_history=model.fit(X_train, y_train,batch_size=16, epochs=50, validation_data=(X_test, y_test))"
   ]
  },
  {
   "cell_type": "code",
   "execution_count": 17,
   "metadata": {},
   "outputs": [
    {
     "data": {
      "image/png": "[encoded data removed]",
      "text/plain": [
       "<Figure size 432x288 with 1 Axes>"
      ]
     },
     "metadata": {
      "needs_background": "light"
     },
     "output_type": "display_data"
    }
   ],
   "source": [
    "plt.plot(model_history.history['loss'])\n",
    "plt.plot(model_history.history['val_loss'])\n",
    "plt.title('model loss')\n",
    "plt.ylabel('loss')\n",
    "plt.xlabel('epoch')\n",
    "plt.legend(['train', 'test'], loc='upper left')\n",
    "plt.show()"
   ]
  },
  {
   "cell_type": "code",
   "execution_count": null,
   "metadata": {},
   "outputs": [],
   "source": [
    "# 50 epoch\n",
    "# accuracy = .3972 mfcc\n",
    "# accuracy = 0.2139 chroma\n",
    "# accuracy = 0.0639 mfcc + chroma"
   ]
  },
  {
   "cell_type": "code",
   "execution_count": null,
   "metadata": {},
   "outputs": [],
   "source": [
    "# def extract_feature(file_name, mfcc, chroma, mel):\n",
    "#     with soundfile.SoundFile(file_name) as sound_file:\n",
    "#         X = sound_file.read(dtype=\"float32\")\n",
    "#         sample_rate=sound_file.samplerate\n",
    "#         if chroma:\n",
    "#             stft=np.abs(librosa.stft(X))\n",
    "#         result=np.array([])\n",
    "#         if mfcc:\n",
    "#             mfccs=np.mean(librosa.feature.mfcc(y=X, sr=sample_rate, n_mfcc=40).T, axis=0)\n",
    "#             result=np.hstack((result, mfccs))\n",
    "#         if chroma:\n",
    "#             chroma=np.mean(librosa.feature.chroma_stft(S=stft, sr=sample_rate).T,axis=0)\n",
    "#             result=np.hstack((result, chroma))\n",
    "#         if mel:\n",
    "#             mel=np.mean(librosa.feature.melspectrogram(X, sr=sample_rate).T,axis=0)\n",
    "#             result=np.hstack((result, mel))"
   ]
  },
  {
   "cell_type": "code",
   "execution_count": 12,
   "metadata": {
    "scrolled": true
   },
   "outputs": [],
   "source": [
    "# Extract the mean bands to its own feature columns\n",
    "df = pd.concat([audio_df,pd.DataFrame(df['mfcc_feature'].values.tolist())],axis=1)\n",
    "df=df.fillna(0)"
   ]
  },
  {
   "cell_type": "code",
   "execution_count": null,
   "metadata": {},
   "outputs": [],
   "source": [
    "X = df_piczak.drop(['esc'],axis=1)\n",
    "Y = df_piczak['esc']\n",
    "X_train,X_test,Y_train,Y_test = train_test_split(X,Y,test_size=0.25,random_state=42)"
   ]
  },
  {
   "cell_type": "code",
   "execution_count": null,
   "metadata": {},
   "outputs": [],
   "source": [
    "# ranfom forest on MFCC features\n",
    "rfc_mfcc = RandomForestClassifier(n_estimators=1000, max_depth=None, min_samples_split=2,n_jobs=-1, random_state=42)\n",
    "rfc_mfcc.fit(X_train,Y_train)"
   ]
  },
  {
   "cell_type": "markdown",
   "metadata": {},
   "source": [
    "## MLP Classifier"
   ]
  },
  {
   "cell_type": "code",
   "execution_count": null,
   "metadata": {},
   "outputs": [],
   "source": [
    "from sklearn.neural_network import MLPClassifier\n",
    "from sklearn.metrics import accuracy_score\n",
    "\n",
    "\n"
   ]
  },
  {
   "cell_type": "code",
   "execution_count": null,
   "metadata": {},
   "outputs": [],
   "source": [
    "# Extract the mean bands to its own feature columns\n",
    "df = pd.concat([audio_df,pd.DataFrame(df['mfcc_feature'].values.tolist())],axis=1)\n",
    "df=df.fillna(0)"
   ]
  },
  {
   "cell_type": "code",
   "execution_count": null,
   "metadata": {},
   "outputs": [],
   "source": [
    "# Split between train and test \n",
    "X_train, X_test, y_train, y_test = train_test_split(df.drop(['path','labels'],axis=1)\n",
    "                                                    , df.labels\n",
    "                                                    , test_size=0.25\n",
    "                                                    , shuffle=True\n",
    "                                                    , random_state=22\n",
    "                                                   )\n",
    "\n",
    "# Lets see how the data present itself before normalisation \n",
    "X_train[150:160]"
   ]
  },
  {
   "cell_type": "code",
   "execution_count": null,
   "metadata": {},
   "outputs": [],
   "source": [
    "model=MLPClassifier(alpha=0.01, batch_size=256, epsilon=1e-08, hidden_layer_sizes=(300,), learning_rate='adaptive', max_iter=500)\n",
    "model.fit(X_train,y_train)\n",
    "y_pred=model.predict(X_test)"
   ]
  },
  {
   "cell_type": "code",
   "execution_count": null,
   "metadata": {},
   "outputs": [],
   "source": [
    "#DataFlair - Calculate the accuracy of our model\n",
    "from sklearn.metrics import accuracy_score\n",
    "\n",
    "accuracy=accuracy_score(y_true=y_test, y_pred=y_pred)\n",
    "#DataFlair - Print the accuracy\n",
    "print(\"Accuracy: {:.2f}%\".format(accuracy*100))"
   ]
  },
  {
   "cell_type": "code",
   "execution_count": null,
   "metadata": {},
   "outputs": [],
   "source": []
  },
  {
   "cell_type": "code",
   "execution_count": null,
   "metadata": {},
   "outputs": [],
   "source": []
  },
  {
   "cell_type": "code",
   "execution_count": null,
   "metadata": {},
   "outputs": [],
   "source": [
    "#preparing data\n",
    "train_data = pd.DataFrame()\n",
    "train_data['fname'] = train['fname']\n",
    "test_data = pd.DataFrame()\n",
    "test_data['fname'] = audio_test_files\n",
    "\n",
    "train_data = train_data['fname'].apply(get_mfcc, path='../input/audio_train/')\n",
    "print('done loading train mfcc')\n",
    "test_data = test_data['fname'].apply(get_mfcc, path='../input/audio_test/')\n",
    "print('done loading test mfcc')\n",
    "\n",
    "train_data['label'] = train['label']\n",
    "test_data['label'] = np.zeros((len(audio_test_files)))"
   ]
  }
 ],
 "metadata": {
  "kernelspec": {
   "display_name": "Python 3",
   "language": "python",
   "name": "python3"
  },
  "language_info": {
   "codemirror_mode": {
    "name": "ipython",
    "version": 3
   },
   "file_extension": ".py",
   "mimetype": "text/x-python",
   "name": "python",
   "nbconvert_exporter": "python",
   "pygments_lexer": "ipython3",
   "version": "3.6.9"
  }
 },
 "nbformat": 4,
 "nbformat_minor": 2
}
