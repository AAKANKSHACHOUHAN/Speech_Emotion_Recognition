{
 "cells": [
  {
   "cell_type": "code",
   "execution_count": null,
   "metadata": {},
   "outputs": [],
   "source": [
    "from google.colab import drive\n",
    "drive.mount('/content/drive')"
   ]
  },
  {
   "cell_type": "code",
   "execution_count": null,
   "metadata": {},
   "outputs": [],
   "source": [
    "ls"
   ]
  },
  {
   "cell_type": "markdown",
   "metadata": {},
   "source": [
    "# Single file"
   ]
  },
  {
   "cell_type": "code",
   "execution_count": null,
   "metadata": {},
   "outputs": [],
   "source": [
    "import librosa\n",
    "x, sr = librosa.load('/Users/murielkosaka/Desktop/capstone_project/audio/audio_speech_actors_01-24/Actor_01/03-01-01-01-01-01-01.wav')"
   ]
  },
  {
   "cell_type": "code",
   "execution_count": null,
   "metadata": {},
   "outputs": [],
   "source": [
    "print(x.shape)\n",
    "print(sr)"
   ]
  },
  {
   "cell_type": "code",
   "execution_count": null,
   "metadata": {},
   "outputs": [],
   "source": [
    "%matplotlib inline\n",
    "import matplotlib.pyplot as plt\n",
    "import librosa.display"
   ]
  },
  {
   "cell_type": "code",
   "execution_count": null,
   "metadata": {
    "scrolled": true
   },
   "outputs": [],
   "source": [
    "plt.figure(figsize=(14, 5))\n",
    "librosa.display.waveplot(x, sr=sr)"
   ]
  },
  {
   "cell_type": "code",
   "execution_count": null,
   "metadata": {},
   "outputs": [],
   "source": [
    "from IPython.display import Audio"
   ]
  },
  {
   "cell_type": "code",
   "execution_count": null,
   "metadata": {
    "scrolled": false
   },
   "outputs": [],
   "source": [
    "Audio(data=x, rate=sr)"
   ]
  },
  {
   "cell_type": "code",
   "execution_count": null,
   "metadata": {
    "scrolled": true
   },
   "outputs": [],
   "source": [
    "single_mfcc = librosa.feature.mfcc(y=x, sr=sr, n_mfcc=13)\n",
    "plt.figure(figsize=(15, 10))\n",
    "plt.subplot(3,1,1)\n",
    "librosa.display.specshow(single_mfcc, x_axis='time')\n",
    "plt.ylabel('MFCC')\n",
    "plt.colorbar()"
   ]
  },
  {
   "cell_type": "code",
   "execution_count": null,
   "metadata": {},
   "outputs": [],
   "source": [
    "single_mfcc"
   ]
  },
  {
   "cell_type": "markdown",
   "metadata": {},
   "source": [
    "# Whole Dataset (1440 files)"
   ]
  },
  {
   "cell_type": "code",
   "execution_count": 1,
   "metadata": {},
   "outputs": [
    {
     "name": "stderr",
     "output_type": "stream",
     "text": [
      "/opt/anaconda3/envs/learn-env/lib/python3.6/site-packages/librosa/util/decorators.py:9: NumbaDeprecationWarning: An import was requested from a module that has moved location.\n",
      "Import of 'jit' requested from: 'numba.decorators', please update to use 'numba.core.decorators' or pin to Numba version 0.48.0. This alias will not be present in Numba version 0.50.0.\n",
      "  from numba.decorators import jit as optional_jit\n",
      "/opt/anaconda3/envs/learn-env/lib/python3.6/site-packages/tensorflow/python/framework/dtypes.py:517: FutureWarning: Passing (type, 1) or '1type' as a synonym of type is deprecated; in a future version of numpy, it will be understood as (type, (1,)) / '(1,)type'.\n",
      "  _np_qint8 = np.dtype([(\"qint8\", np.int8, 1)])\n",
      "/opt/anaconda3/envs/learn-env/lib/python3.6/site-packages/tensorflow/python/framework/dtypes.py:518: FutureWarning: Passing (type, 1) or '1type' as a synonym of type is deprecated; in a future version of numpy, it will be understood as (type, (1,)) / '(1,)type'.\n",
      "  _np_quint8 = np.dtype([(\"quint8\", np.uint8, 1)])\n",
      "/opt/anaconda3/envs/learn-env/lib/python3.6/site-packages/tensorflow/python/framework/dtypes.py:519: FutureWarning: Passing (type, 1) or '1type' as a synonym of type is deprecated; in a future version of numpy, it will be understood as (type, (1,)) / '(1,)type'.\n",
      "  _np_qint16 = np.dtype([(\"qint16\", np.int16, 1)])\n",
      "/opt/anaconda3/envs/learn-env/lib/python3.6/site-packages/tensorflow/python/framework/dtypes.py:520: FutureWarning: Passing (type, 1) or '1type' as a synonym of type is deprecated; in a future version of numpy, it will be understood as (type, (1,)) / '(1,)type'.\n",
      "  _np_quint16 = np.dtype([(\"quint16\", np.uint16, 1)])\n",
      "/opt/anaconda3/envs/learn-env/lib/python3.6/site-packages/tensorflow/python/framework/dtypes.py:521: FutureWarning: Passing (type, 1) or '1type' as a synonym of type is deprecated; in a future version of numpy, it will be understood as (type, (1,)) / '(1,)type'.\n",
      "  _np_qint32 = np.dtype([(\"qint32\", np.int32, 1)])\n",
      "/opt/anaconda3/envs/learn-env/lib/python3.6/site-packages/tensorflow/python/framework/dtypes.py:526: FutureWarning: Passing (type, 1) or '1type' as a synonym of type is deprecated; in a future version of numpy, it will be understood as (type, (1,)) / '(1,)type'.\n",
      "  np_resource = np.dtype([(\"resource\", np.ubyte, 1)])\n"
     ]
    }
   ],
   "source": [
    "import librosa\n",
    "import librosa.display\n",
    "import numpy as np\n",
    "import matplotlib.pyplot as plt\n",
    "import tensorflow as tf\n",
    "from matplotlib.pyplot import specgram\n",
    "import pandas as pd\n",
    "import glob \n",
    "from sklearn.metrics import confusion_matrix\n",
    "import IPython.display as ipd  # To play sound in the notebook\n",
    "import os # interface with underlying OS that python is running on\n",
    "import sys\n",
    "import warnings\n",
    "# ignore warnings \n",
    "if not sys.warnoptions:\n",
    "    warnings.simplefilter(\"ignore\")\n",
    "warnings.filterwarnings(\"ignore\", category=DeprecationWarning)\n",
    "from sklearn.model_selection import train_test_split\n",
    "\n"
   ]
  },
  {
   "cell_type": "markdown",
   "metadata": {},
   "source": [
    "Modality (01 = full-AV, 02 = video-only, 03 = audio-only).\n",
    "\n",
    "Vocal channel (01 = speech, 02 = song).\n",
    "\n",
    "Emotion (01 = neutral, 02 = calm, 03 = happy, 04 = sad, 05 = angry, 06 = fearful, 07 = disgust, 08 = surprised).\n",
    "\n",
    "Emotional intensity (01 = normal, 02 = strong). NOTE: There is no strong intensity for the 'neutral' emotion.\n",
    "\n",
    "Statement (01 = \"Kids are talking by the door\", 02 = \"Dogs are sitting by the door\").\n",
    "\n",
    "Repetition (01 = 1st repetition, 02 = 2nd repetition).\n",
    "\n",
    "Actor (01 to 24. Odd numbered actors are male, even numbered actors are female).\n",
    "\n",
    "So, here's an example of an audio filename. 02-01-06-01-02-01-12.mp4\n",
    "\n",
    "This means the meta data for the audio file is:\n",
    "\n",
    "Video-only (02)\n",
    "\n",
    "Speech (01)\n",
    "\n",
    "Fearful (06)\n",
    "\n",
    "Normal intensity (01)\n",
    "\n",
    "Statement \"dogs\" (02)\n",
    "\n",
    "1st Repetition (01)\n",
    "\n",
    "12th Actor (12) - Female (as the actor ID number is even)"
   ]
  },
  {
   "cell_type": "code",
   "execution_count": null,
   "metadata": {},
   "outputs": [],
   "source": [
    "audio = \"/content/drive/My Drive/audio/audio_speech_actors_01-24/\"\n",
    "actor_folders = os.listdir(audio) #list files in audio directory\n",
    "actor_folders.sort() \n",
    "actor_folders[0:5]"
   ]
  },
  {
   "cell_type": "code",
   "execution_count": null,
   "metadata": {},
   "outputs": [],
   "source": [
    "ls -a"
   ]
  },
  {
   "cell_type": "code",
   "execution_count": null,
   "metadata": {},
   "outputs": [],
   "source": [
    "!find . -name '.DS_Store' -type f -delete"
   ]
  },
  {
   "cell_type": "code",
   "execution_count": 2,
   "metadata": {
    "scrolled": true
   },
   "outputs": [
    {
     "data": {
      "text/plain": [
       "['Actor_01', 'Actor_02', 'Actor_03', 'Actor_04', 'Actor_05']"
      ]
     },
     "execution_count": 2,
     "metadata": {},
     "output_type": "execute_result"
    }
   ],
   "source": [
    "audio = \"/Users/murielkosaka/Desktop/capstone_project/audio/audio_speech_actors_01-24/\"\n",
    "\n",
    "actor_folders = os.listdir(audio) #list files in audio directory\n",
    "actor_folders.sort() \n",
    "actor_folders[0:5]"
   ]
  },
  {
   "cell_type": "code",
   "execution_count": null,
   "metadata": {
    "scrolled": true
   },
   "outputs": [],
   "source": [
    "audio"
   ]
  },
  {
   "cell_type": "code",
   "execution_count": 3,
   "metadata": {},
   "outputs": [],
   "source": [
    "# audio/audio/audio_speech_actors_01-24/Actor_14\n",
    "# 03-01-02-01-02-01-14.wav\n",
    "\n",
    "emotion = []\n",
    "gender = []\n",
    "file_path = []\n",
    "for i in actor_folders:\n",
    "    filename = os.listdir(audio + i) #iterate over Actor folders\n",
    "    for f in filename: # go through files in Actor folder\n",
    "        part = f.split('.')[0].split('-')\n",
    "        emotion.append(int(part[2]))\n",
    "        bg = int(part[6])\n",
    "        if bg%2 == 0:\n",
    "            bg = \"female\"\n",
    "        else:\n",
    "            bg = \"male\"\n",
    "        gender.append(bg)\n",
    "        file_path.append(audio + i + '/' + f)"
   ]
  },
  {
   "cell_type": "code",
   "execution_count": 4,
   "metadata": {},
   "outputs": [
    {
     "data": {
      "text/plain": [
       "['03-01-03-02-01-02-24.wav',\n",
       " '03-01-03-01-02-02-24.wav',\n",
       " '03-01-02-02-02-01-24.wav',\n",
       " '03-01-02-01-01-01-24.wav',\n",
       " '03-01-01-01-01-02-24.wav',\n",
       " '03-01-06-01-01-02-24.wav',\n",
       " '03-01-05-01-01-01-24.wav',\n",
       " '03-01-05-02-02-01-24.wav',\n",
       " '03-01-06-02-02-02-24.wav',\n",
       " '03-01-04-01-02-02-24.wav',\n",
       " '03-01-07-01-02-01-24.wav',\n",
       " '03-01-07-02-01-01-24.wav',\n",
       " '03-01-04-02-01-02-24.wav',\n",
       " '03-01-08-02-01-01-24.wav',\n",
       " '03-01-08-01-02-01-24.wav',\n",
       " '03-01-05-01-02-02-24.wav',\n",
       " '03-01-06-01-02-01-24.wav',\n",
       " '03-01-06-02-01-01-24.wav',\n",
       " '03-01-05-02-01-02-24.wav',\n",
       " '03-01-07-01-01-02-24.wav',\n",
       " '03-01-04-01-01-01-24.wav',\n",
       " '03-01-04-02-02-01-24.wav',\n",
       " '03-01-07-02-02-02-24.wav',\n",
       " '03-01-08-02-02-02-24.wav',\n",
       " '03-01-08-01-01-02-24.wav',\n",
       " '03-01-03-02-02-01-24.wav',\n",
       " '03-01-03-01-01-01-24.wav',\n",
       " '03-01-02-02-01-02-24.wav',\n",
       " '03-01-01-01-02-01-24.wav',\n",
       " '03-01-02-01-02-02-24.wav',\n",
       " '03-01-04-02-01-01-24.wav',\n",
       " '03-01-07-02-01-02-24.wav',\n",
       " '03-01-07-01-02-02-24.wav',\n",
       " '03-01-04-01-02-01-24.wav',\n",
       " '03-01-06-02-02-01-24.wav',\n",
       " '03-01-05-02-02-02-24.wav',\n",
       " '03-01-05-01-01-02-24.wav',\n",
       " '03-01-06-01-01-01-24.wav',\n",
       " '03-01-08-01-02-02-24.wav',\n",
       " '03-01-08-02-01-02-24.wav',\n",
       " '03-01-01-01-01-01-24.wav',\n",
       " '03-01-02-01-01-02-24.wav',\n",
       " '03-01-02-02-02-02-24.wav',\n",
       " '03-01-03-01-02-01-24.wav',\n",
       " '03-01-03-02-01-01-24.wav',\n",
       " '03-01-02-01-02-01-24.wav',\n",
       " '03-01-01-01-02-02-24.wav',\n",
       " '03-01-02-02-01-01-24.wav',\n",
       " '03-01-03-01-01-02-24.wav',\n",
       " '03-01-03-02-02-02-24.wav',\n",
       " '03-01-07-02-02-01-24.wav',\n",
       " '03-01-04-02-02-02-24.wav',\n",
       " '03-01-04-01-01-02-24.wav',\n",
       " '03-01-07-01-01-01-24.wav',\n",
       " '03-01-05-02-01-01-24.wav',\n",
       " '03-01-06-02-01-02-24.wav',\n",
       " '03-01-06-01-02-02-24.wav',\n",
       " '03-01-05-01-02-01-24.wav',\n",
       " '03-01-08-01-01-01-24.wav',\n",
       " '03-01-08-02-02-01-24.wav']"
      ]
     },
     "execution_count": 4,
     "metadata": {},
     "output_type": "execute_result"
    }
   ],
   "source": [
    "os.listdir(audio + i)"
   ]
  },
  {
   "cell_type": "code",
   "execution_count": 5,
   "metadata": {
    "scrolled": true
   },
   "outputs": [
    {
     "data": {
      "text/html": [
       "<div>\n",
       "<style scoped>\n",
       "    .dataframe tbody tr th:only-of-type {\n",
       "        vertical-align: middle;\n",
       "    }\n",
       "\n",
       "    .dataframe tbody tr th {\n",
       "        vertical-align: top;\n",
       "    }\n",
       "\n",
       "    .dataframe thead th {\n",
       "        text-align: right;\n",
       "    }\n",
       "</style>\n",
       "<table border=\"1\" class=\"dataframe\">\n",
       "  <thead>\n",
       "    <tr style=\"text-align: right;\">\n",
       "      <th></th>\n",
       "      <th>gender</th>\n",
       "      <th>emotion</th>\n",
       "      <th>path</th>\n",
       "    </tr>\n",
       "  </thead>\n",
       "  <tbody>\n",
       "    <tr>\n",
       "      <th>0</th>\n",
       "      <td>male</td>\n",
       "      <td>surprise</td>\n",
       "      <td>/Users/murielkosaka/Desktop/capstone_project/a...</td>\n",
       "    </tr>\n",
       "    <tr>\n",
       "      <th>1</th>\n",
       "      <td>male</td>\n",
       "      <td>surprise</td>\n",
       "      <td>/Users/murielkosaka/Desktop/capstone_project/a...</td>\n",
       "    </tr>\n",
       "    <tr>\n",
       "      <th>2</th>\n",
       "      <td>male</td>\n",
       "      <td>angry</td>\n",
       "      <td>/Users/murielkosaka/Desktop/capstone_project/a...</td>\n",
       "    </tr>\n",
       "    <tr>\n",
       "      <th>3</th>\n",
       "      <td>male</td>\n",
       "      <td>fear</td>\n",
       "      <td>/Users/murielkosaka/Desktop/capstone_project/a...</td>\n",
       "    </tr>\n",
       "    <tr>\n",
       "      <th>4</th>\n",
       "      <td>male</td>\n",
       "      <td>fear</td>\n",
       "      <td>/Users/murielkosaka/Desktop/capstone_project/a...</td>\n",
       "    </tr>\n",
       "    <tr>\n",
       "      <th>...</th>\n",
       "      <td>...</td>\n",
       "      <td>...</td>\n",
       "      <td>...</td>\n",
       "    </tr>\n",
       "    <tr>\n",
       "      <th>1435</th>\n",
       "      <td>female</td>\n",
       "      <td>fear</td>\n",
       "      <td>/Users/murielkosaka/Desktop/capstone_project/a...</td>\n",
       "    </tr>\n",
       "    <tr>\n",
       "      <th>1436</th>\n",
       "      <td>female</td>\n",
       "      <td>fear</td>\n",
       "      <td>/Users/murielkosaka/Desktop/capstone_project/a...</td>\n",
       "    </tr>\n",
       "    <tr>\n",
       "      <th>1437</th>\n",
       "      <td>female</td>\n",
       "      <td>angry</td>\n",
       "      <td>/Users/murielkosaka/Desktop/capstone_project/a...</td>\n",
       "    </tr>\n",
       "    <tr>\n",
       "      <th>1438</th>\n",
       "      <td>female</td>\n",
       "      <td>surprise</td>\n",
       "      <td>/Users/murielkosaka/Desktop/capstone_project/a...</td>\n",
       "    </tr>\n",
       "    <tr>\n",
       "      <th>1439</th>\n",
       "      <td>female</td>\n",
       "      <td>surprise</td>\n",
       "      <td>/Users/murielkosaka/Desktop/capstone_project/a...</td>\n",
       "    </tr>\n",
       "  </tbody>\n",
       "</table>\n",
       "<p>1440 rows × 3 columns</p>\n",
       "</div>"
      ],
      "text/plain": [
       "      gender   emotion                                               path\n",
       "0       male  surprise  /Users/murielkosaka/Desktop/capstone_project/a...\n",
       "1       male  surprise  /Users/murielkosaka/Desktop/capstone_project/a...\n",
       "2       male     angry  /Users/murielkosaka/Desktop/capstone_project/a...\n",
       "3       male      fear  /Users/murielkosaka/Desktop/capstone_project/a...\n",
       "4       male      fear  /Users/murielkosaka/Desktop/capstone_project/a...\n",
       "...      ...       ...                                                ...\n",
       "1435  female      fear  /Users/murielkosaka/Desktop/capstone_project/a...\n",
       "1436  female      fear  /Users/murielkosaka/Desktop/capstone_project/a...\n",
       "1437  female     angry  /Users/murielkosaka/Desktop/capstone_project/a...\n",
       "1438  female  surprise  /Users/murielkosaka/Desktop/capstone_project/a...\n",
       "1439  female  surprise  /Users/murielkosaka/Desktop/capstone_project/a...\n",
       "\n",
       "[1440 rows x 3 columns]"
      ]
     },
     "execution_count": 5,
     "metadata": {},
     "output_type": "execute_result"
    }
   ],
   "source": [
    "audio_df = pd.DataFrame(emotion)\n",
    "audio_df = audio_df.replace({1:'neutral', 2:'calm', 3:'happy', 4:'sad', 5:'angry', 6:'fear', 7:'disgust', 8:'surprise'})\n",
    "audio_df\n",
    "audio_df = pd.concat([pd.DataFrame(gender),audio_df],axis=1)\n",
    "audio_df.columns = ['gender','emotion']\n",
    "# audio_df['labels'] =audio_df.gender + '_' + audio_df.emotion\n",
    "audio_df = pd.concat([audio_df,pd.DataFrame(file_path, columns = ['path'])],axis=1)\n",
    "# audio_df = audio_df.drop(['gender', 'emotion'], axis=1)\n",
    "# audio_df.labels.value_counts()\n",
    "audio_df\n",
    "\n",
    "# audio_df = pd.DataFrame(emotion)\n",
    "# audio_df = audio_df.replace({1:'neutral', 2:'calm', 3:'happy', 4:'sad', 5:'angry', 6:'fear', 7:'disgust', 8:'surprise'})\n",
    "# audio_df = pd.concat([pd.DataFrame(gender),audio_df],axis=1)\n",
    "# audio_df.columns = ['gender','emotion']\n",
    "# audio_df['labels'] =audio_df.gender + '_' + audio_df.emotion\n",
    "# audio_df = pd.concat([audio_df,pd.DataFrame(file_path, columns = ['path'])],axis=1)\n",
    "# audio_df = audio_df.drop(['gender', 'emotion'], axis=1)\n",
    "# audio_df.labels.value_counts()"
   ]
  },
  {
   "cell_type": "code",
   "execution_count": null,
   "metadata": {},
   "outputs": [],
   "source": [
    "audio_df.head()"
   ]
  },
  {
   "cell_type": "code",
   "execution_count": null,
   "metadata": {},
   "outputs": [],
   "source": [
    "audio_df.to_csv('audio.csv')"
   ]
  },
  {
   "cell_type": "code",
   "execution_count": null,
   "metadata": {},
   "outputs": [],
   "source": [
    "\n",
    "os.listdir(audio)"
   ]
  },
  {
   "cell_type": "code",
   "execution_count": null,
   "metadata": {
    "scrolled": false
   },
   "outputs": [],
   "source": [
    "fname = audio + 'Actor_02/03-01-01-01-01-01-02.wav'  #female neutral\n",
    "data_neutral, sr_neutral = librosa.load(fname)\n",
    "plt.figure(figsize=(10, 5))\n",
    "librosa.display.waveplot(data_neutral, sr=sr_neutral)\n",
    "ipd.Audio(fname)"
   ]
  },
  {
   "cell_type": "code",
   "execution_count": null,
   "metadata": {
    "scrolled": false
   },
   "outputs": [],
   "source": [
    "fname = audio + 'Actor_02/03-01-02-01-01-01-02.wav'  #female calm\n",
    "data, sampling_rate = librosa.load(fname)\n",
    "plt.figure(figsize=(10, 5))\n",
    "librosa.display.waveplot(data, sr=sampling_rate)\n",
    "ipd.Audio(fname)\n"
   ]
  },
  {
   "cell_type": "markdown",
   "metadata": {},
   "source": [
    "# MFCC\n",
    "### The mel frequency cepstral coefficients (MFCCs) of a signal are a small set of features (usually about 10–20) which concisely describe the overall shape of a spectral envelope. MFCC is a good \"representation\" of the vocal tract that produces the sound. Think of it like an x-ray of your mouth"
   ]
  },
  {
   "cell_type": "code",
   "execution_count": null,
   "metadata": {},
   "outputs": [],
   "source": [
    "fa_mfcc = librosa.feature.mfcc(y=data_neutral, sr=sr_neutral, n_mfcc=13)\n",
    "plt.figure(figsize=(15, 10))\n",
    "plt.subplot(3,1,1)\n",
    "librosa.display.specshow(fa_mfcc, x_axis='time')\n",
    "plt.ylabel('MFCC')\n",
    "plt.colorbar()"
   ]
  },
  {
   "cell_type": "code",
   "execution_count": null,
   "metadata": {},
   "outputs": [],
   "source": [
    "# MFCC\n",
    "#The mel frequency cepstral coefficients (MFCCs) of a signal are a small set of features \n",
    "#(usually about 10–20) which concisely describe the overall shape of a spectral envelope.\n",
    "# good \"representation\" of the vocal tract that produces the sound. Think of it like an \n",
    "# x-ray of your mouth\n",
    "mfcc = librosa.feature.mfcc(y=data, sr=sampling_rate, n_mfcc=13)\n",
    "\n",
    "plt.figure(figsize=(15, 10))\n",
    "plt.subplot(3,1,1)\n",
    "librosa.display.specshow(mfcc, x_axis='time')\n",
    "plt.ylabel('MFCC')\n",
    "plt.colorbar();"
   ]
  },
  {
   "cell_type": "code",
   "execution_count": null,
   "metadata": {
    "scrolled": true
   },
   "outputs": [],
   "source": [
    "mfcc.shape"
   ]
  },
  {
   "cell_type": "code",
   "execution_count": null,
   "metadata": {},
   "outputs": [],
   "source": []
  },
  {
   "cell_type": "code",
   "execution_count": null,
   "metadata": {},
   "outputs": [],
   "source": [
    "# Male surprised\n",
    "pathh = audio + 'Actor_09/03-01-08-02-02-02-09.wav'\n",
    "X, sample_rate = librosa.load(pathh, res_type='kaiser_fast',duration=2.5,sr=22050*2,offset=0.5)\n",
    "male = librosa.feature.spectral_centroid(y=X, sr=sample_rate)\n",
    "male = np.mean(librosa.feature.spectral_centroid(y=X, sr=sample_rate), axis=0)\n",
    "print(len(male))\n",
    "\n",
    "# Female surprised\n",
    "path= audio + 'Actor_08/03-01-08-02-02-02-08.wav'\n",
    "X, sample_rate = librosa.load(path,duration=2.5,sr=22050*2,offset=0.5)\n",
    "female = librosa.feature.spectral_centroid(y=X, sr=sample_rate)\n",
    "female = np.mean(librosa.feature.spectral_centroid(y=X, sr=sample_rate), axis=0)\n",
    "print(len(female))\n",
    "\n",
    "# Male happy\n",
    "pathh = audio + 'Actor_09/03-01-03-02-02-02-09.wav'\n",
    "X, sample_rate = librosa.load(pathh, res_type='kaiser_fast',duration=2.5,sr=22050*2,offset=0.5)\n",
    "male1 = librosa.feature.spectral_centroid(y=X, sr=sample_rate)\n",
    "male1 = np.mean(librosa.feature.spectral_centroid(y=X, sr=sample_rate), axis=0)\n",
    "print(len(male1))\n",
    "\n",
    "# Female happy\n",
    "path= audio + 'Actor_08/03-01-03-02-02-02-08.wav'\n",
    "X, sample_rate = librosa.load(path,duration=2.5,sr=22050*2,offset=0.5)\n",
    "female1 = librosa.feature.spectral_centroid(y=X, sr=sample_rate)\n",
    "female1 = np.mean(librosa.feature.spectral_centroid(y=X, sr=sample_rate), axis=0)\n",
    "print(len(female1))\n",
    "\n",
    "plt.figure(figsize=(20, 15))\n",
    "plt.subplot(3,1,1)\n",
    "plt.plot(female, label='Female Surprised')\n",
    "plt.plot(male, label='Male Surprised')\n",
    "plt.plot(female1, label='Female happy')\n",
    "plt.plot(male1, label='Male happy')\n",
    "plt.legend()\n",
    "\n"
   ]
  },
  {
   "cell_type": "code",
   "execution_count": null,
   "metadata": {},
   "outputs": [],
   "source": [
    "# Male surprised\n",
    "pathh = audio + 'Actor_09/03-01-08-02-02-02-09.wav'\n",
    "X, sample_rate = librosa.load(pathh, res_type='kaiser_fast',duration=2.5,sr=22050*2,offset=0.5)\n",
    "male = librosa.feature.mfcc(y=X, sr=sample_rate, n_mfcc=13)\n",
    "male = np.mean(librosa.feature.mfcc(y=X, sr=sample_rate, n_mfcc=13), axis=0)\n",
    "print(len(male))\n",
    "\n",
    "# Female surprised\n",
    "path= audio + 'Actor_08/03-01-08-02-02-02-08.wav'\n",
    "X, sample_rate = librosa.load(path,duration=2.5,sr=22050*2,offset=0.5)\n",
    "female = librosa.feature.mfcc(y=X, sr=sample_rate, n_mfcc=13)\n",
    "female = np.mean(librosa.feature.mfcc(y=X, sr=sample_rate, n_mfcc=13), axis=0)\n",
    "print(len(female))\n",
    "\n",
    "plt.figure(figsize=(20, 15))\n",
    "plt.subplot(3,1,1)\n",
    "plt.plot(female, label='Female Surprised')\n",
    "plt.plot(male, label='Male Surprised')\n",
    "plt.legend()\n",
    "\n"
   ]
  },
  {
   "cell_type": "code",
   "execution_count": null,
   "metadata": {},
   "outputs": [],
   "source": [
    "# Spectrogram - how the audio spectrum varies as a function of time\n",
    "spectrogram = librosa.feature.melspectrogram(y=X, sr=sampling_rate)\n",
    "db_spec = librosa.power_to_db(spectrogram, ref=np.max,)\n",
    "librosa.display.specshow(db_spec,y_axis='mel', x_axis='time', sr=sampling_rate)\n",
    "plt.colorbar();"
   ]
  },
  {
   "cell_type": "markdown",
   "metadata": {},
   "source": [
    "## Feature Extraction"
   ]
  },
  {
   "cell_type": "code",
   "execution_count": 6,
   "metadata": {},
   "outputs": [
    {
     "name": "stdout",
     "output_type": "stream",
     "text": [
      "1440\n"
     ]
    },
    {
     "data": {
      "text/html": [
       "<div>\n",
       "<style scoped>\n",
       "    .dataframe tbody tr th:only-of-type {\n",
       "        vertical-align: middle;\n",
       "    }\n",
       "\n",
       "    .dataframe tbody tr th {\n",
       "        vertical-align: top;\n",
       "    }\n",
       "\n",
       "    .dataframe thead th {\n",
       "        text-align: right;\n",
       "    }\n",
       "</style>\n",
       "<table border=\"1\" class=\"dataframe\">\n",
       "  <thead>\n",
       "    <tr style=\"text-align: right;\">\n",
       "      <th></th>\n",
       "      <th>log_spec</th>\n",
       "    </tr>\n",
       "  </thead>\n",
       "  <tbody>\n",
       "    <tr>\n",
       "      <th>0</th>\n",
       "      <td>[-71.20027875108568, -71.20027875108568, -71.2...</td>\n",
       "    </tr>\n",
       "    <tr>\n",
       "      <th>1</th>\n",
       "      <td>[-70.46117660668561, -70.46117660668561, -70.4...</td>\n",
       "    </tr>\n",
       "    <tr>\n",
       "      <th>2</th>\n",
       "      <td>[-64.17672605132854, -64.39367062414523, -64.4...</td>\n",
       "    </tr>\n",
       "    <tr>\n",
       "      <th>3</th>\n",
       "      <td>[-73.28034105424189, -73.28034105424189, -73.2...</td>\n",
       "    </tr>\n",
       "    <tr>\n",
       "      <th>4</th>\n",
       "      <td>[-44.96583456257647, -44.46786949308424, -44.5...</td>\n",
       "    </tr>\n",
       "  </tbody>\n",
       "</table>\n",
       "</div>"
      ],
      "text/plain": [
       "                                            log_spec\n",
       "0  [-71.20027875108568, -71.20027875108568, -71.2...\n",
       "1  [-70.46117660668561, -70.46117660668561, -70.4...\n",
       "2  [-64.17672605132854, -64.39367062414523, -64.4...\n",
       "3  [-73.28034105424189, -73.28034105424189, -73.2...\n",
       "4  [-44.96583456257647, -44.46786949308424, -44.5..."
      ]
     },
     "execution_count": 6,
     "metadata": {},
     "output_type": "execute_result"
    }
   ],
   "source": [
    "df = pd.DataFrame(columns=['log_spec'])\n",
    "\n",
    "counter=0\n",
    "\n",
    "for index,path in enumerate(audio_df.path):\n",
    "    #get wave representation\n",
    "    X, sample_rate = librosa.load(path, res_type='kaiser_fast',duration=3,sr=44100,offset=0.5)\n",
    "        \n",
    "#     #Mel-frequency cepstral coefficients (MFCCs)\n",
    "#     mfcc = librosa.feature.mfcc(y=X, sr=sample_rate, n_mfcc=13)\n",
    "#     #temporal averaging\n",
    "#     mfcc=np.mean(mfcc,axis=0)\n",
    "    \n",
    "    #get the mel-scaled spectrogram (ransform both the y-axis (frequency) to log scale, and the “color” axis (amplitude) to Decibels, which is kinda the log scale of amplitudes.)\n",
    "    spectrogram = librosa.feature.melspectrogram(y=X, sr=sample_rate, n_mels=128,fmax=8000) \n",
    "    db_spec = librosa.power_to_db(spectrogram)\n",
    "    #temporally average spectrogram\n",
    "    log_spectrogram = np.mean(db_spec, axis = 0)\n",
    "    \n",
    "#     #compute chroma energy (pertains to 12 different pitch classes)\n",
    "#     chroma = librosa.feature.chroma_stft(y=X, sr=sample_rate)\n",
    "#     #temporally average chroma\n",
    "#     chroma = np.mean(chroma, axis = 0)\n",
    "    \n",
    "    # #compute spectral contrast\n",
    "    # contrast = librosa.feature.spectral_contrast(y=X, sr=sample_rate)\n",
    "    # contrast = np.mean(contrast, axis= 0)\n",
    "\n",
    "    # compute zero-crossing-rate (zcr:the zcr is the rate of sign changes along a signal i.e.m the rate at \n",
    "    # which the signal changes from positive to negative or back - separation of voiced andunvoiced speech.)\n",
    "    # zcr = librosa.feature.zero_crossing_rate(y=X)\n",
    "    # zcr = np.mean(zcr, axis= 0)\n",
    "    \n",
    "    df.loc[counter] = [log_spectrogram]\n",
    "    counter=counter+1   \n",
    "\n",
    "print(len(df))\n",
    "df.head()"
   ]
  },
  {
   "cell_type": "code",
   "execution_count": null,
   "metadata": {},
   "outputs": [],
   "source": [
    "# def extract_feature(file_name, mfcc, chroma, mel):\n",
    "#     with soundfile.SoundFile(file_name) as sound_file:\n",
    "#         X = sound_file.read(dtype=\"float32\")\n",
    "#         sample_rate=sound_file.samplerate\n",
    "#         if chroma:\n",
    "#             stft=np.abs(librosa.stft(X))\n",
    "#         result=np.array([])\n",
    "#         if mfcc:\n",
    "#             mfccs=np.mean(librosa.feature.mfcc(y=X, sr=sample_rate, n_mfcc=40).T, axis=0)\n",
    "#             result=np.hstack((result, mfccs))\n",
    "#         if chroma:\n",
    "#             chroma=np.mean(librosa.feature.chroma_stft(S=stft, sr=sample_rate).T,axis=0)\n",
    "#             result=np.hstack((result, chroma))\n",
    "#         if mel:\n",
    "#             mel=np.mean(librosa.feature.melspectrogram(X, sr=sample_rate).T,axis=0)\n",
    "#             result=np.hstack((result, mel))"
   ]
  },
  {
   "cell_type": "markdown",
   "metadata": {},
   "source": [
    "## CNN"
   ]
  },
  {
   "cell_type": "code",
   "execution_count": 7,
   "metadata": {},
   "outputs": [
    {
     "name": "stderr",
     "output_type": "stream",
     "text": [
      "Using TensorFlow backend.\n"
     ]
    }
   ],
   "source": [
    "from sklearn.preprocessing import LabelEncoder\n",
    "from keras.utils import np_utils, to_categorical\n",
    "from sklearn.model_selection import train_test_split\n",
    "import keras\n",
    "from keras.models import Sequential, Model, model_from_json\n",
    "from keras.layers import Conv1D, MaxPooling1D, AveragePooling1D\n",
    "from keras.layers import Input, Flatten, Dropout, Activation, BatchNormalization\n",
    "from keras.layers import Dense, Embedding, LSTM"
   ]
  },
  {
   "cell_type": "code",
   "execution_count": 8,
   "metadata": {},
   "outputs": [],
   "source": [
    "# SET MEANS TO THEIR OWN COLUMNS\n",
    "df_combined = pd.concat([audio_df,pd.DataFrame(df['log_spec'].values.tolist()),\n",
    "#                          pd.DataFrame(df['chroma_feat'].values.tolist()),\n",
    "#                          pd.DataFrame(df['spec_feat'].values.tolist())\n",
    "                         ],axis=1)\n",
    "df_combined = df_combined.fillna(0)"
   ]
  },
  {
   "cell_type": "code",
   "execution_count": 9,
   "metadata": {},
   "outputs": [],
   "source": [
    "df_combined.drop(columns='gender',inplace=True)"
   ]
  },
  {
   "cell_type": "code",
   "execution_count": 10,
   "metadata": {
    "scrolled": true
   },
   "outputs": [
    {
     "data": {
      "text/html": [
       "<div>\n",
       "<style scoped>\n",
       "    .dataframe tbody tr th:only-of-type {\n",
       "        vertical-align: middle;\n",
       "    }\n",
       "\n",
       "    .dataframe tbody tr th {\n",
       "        vertical-align: top;\n",
       "    }\n",
       "\n",
       "    .dataframe thead th {\n",
       "        text-align: right;\n",
       "    }\n",
       "</style>\n",
       "<table border=\"1\" class=\"dataframe\">\n",
       "  <thead>\n",
       "    <tr style=\"text-align: right;\">\n",
       "      <th></th>\n",
       "      <th>emotion</th>\n",
       "      <th>path</th>\n",
       "      <th>0</th>\n",
       "      <th>1</th>\n",
       "      <th>2</th>\n",
       "      <th>3</th>\n",
       "      <th>4</th>\n",
       "      <th>5</th>\n",
       "      <th>6</th>\n",
       "      <th>7</th>\n",
       "      <th>...</th>\n",
       "      <th>249</th>\n",
       "      <th>250</th>\n",
       "      <th>251</th>\n",
       "      <th>252</th>\n",
       "      <th>253</th>\n",
       "      <th>254</th>\n",
       "      <th>255</th>\n",
       "      <th>256</th>\n",
       "      <th>257</th>\n",
       "      <th>258</th>\n",
       "    </tr>\n",
       "  </thead>\n",
       "  <tbody>\n",
       "    <tr>\n",
       "      <th>0</th>\n",
       "      <td>surprise</td>\n",
       "      <td>/Users/murielkosaka/Desktop/capstone_project/a...</td>\n",
       "      <td>-71.200279</td>\n",
       "      <td>-71.200279</td>\n",
       "      <td>-71.200279</td>\n",
       "      <td>-71.200279</td>\n",
       "      <td>-71.200279</td>\n",
       "      <td>-71.200279</td>\n",
       "      <td>-71.200279</td>\n",
       "      <td>-71.200279</td>\n",
       "      <td>...</td>\n",
       "      <td>-71.200279</td>\n",
       "      <td>-71.200279</td>\n",
       "      <td>-71.200279</td>\n",
       "      <td>-71.200279</td>\n",
       "      <td>-71.200279</td>\n",
       "      <td>-71.200279</td>\n",
       "      <td>-71.200279</td>\n",
       "      <td>-71.200279</td>\n",
       "      <td>-71.200279</td>\n",
       "      <td>-71.200279</td>\n",
       "    </tr>\n",
       "    <tr>\n",
       "      <th>1</th>\n",
       "      <td>surprise</td>\n",
       "      <td>/Users/murielkosaka/Desktop/capstone_project/a...</td>\n",
       "      <td>-70.461177</td>\n",
       "      <td>-70.461177</td>\n",
       "      <td>-70.461177</td>\n",
       "      <td>-70.461177</td>\n",
       "      <td>-70.461177</td>\n",
       "      <td>-70.461177</td>\n",
       "      <td>-70.461177</td>\n",
       "      <td>-70.461177</td>\n",
       "      <td>...</td>\n",
       "      <td>-70.461177</td>\n",
       "      <td>-70.461177</td>\n",
       "      <td>0.000000</td>\n",
       "      <td>0.000000</td>\n",
       "      <td>0.000000</td>\n",
       "      <td>0.000000</td>\n",
       "      <td>0.000000</td>\n",
       "      <td>0.000000</td>\n",
       "      <td>0.000000</td>\n",
       "      <td>0.000000</td>\n",
       "    </tr>\n",
       "    <tr>\n",
       "      <th>2</th>\n",
       "      <td>angry</td>\n",
       "      <td>/Users/murielkosaka/Desktop/capstone_project/a...</td>\n",
       "      <td>-64.176726</td>\n",
       "      <td>-64.393671</td>\n",
       "      <td>-64.444880</td>\n",
       "      <td>-64.267970</td>\n",
       "      <td>-64.303751</td>\n",
       "      <td>-64.468072</td>\n",
       "      <td>-64.468072</td>\n",
       "      <td>-64.468072</td>\n",
       "      <td>...</td>\n",
       "      <td>-64.468072</td>\n",
       "      <td>-64.468072</td>\n",
       "      <td>-64.468072</td>\n",
       "      <td>-64.468072</td>\n",
       "      <td>-64.422534</td>\n",
       "      <td>-64.364862</td>\n",
       "      <td>-64.468072</td>\n",
       "      <td>-64.465787</td>\n",
       "      <td>-64.354684</td>\n",
       "      <td>-64.385868</td>\n",
       "    </tr>\n",
       "    <tr>\n",
       "      <th>3</th>\n",
       "      <td>fear</td>\n",
       "      <td>/Users/murielkosaka/Desktop/capstone_project/a...</td>\n",
       "      <td>-73.280341</td>\n",
       "      <td>-73.280341</td>\n",
       "      <td>-73.280341</td>\n",
       "      <td>-73.280341</td>\n",
       "      <td>-73.280341</td>\n",
       "      <td>-73.255295</td>\n",
       "      <td>-73.086365</td>\n",
       "      <td>-73.234743</td>\n",
       "      <td>...</td>\n",
       "      <td>-72.866177</td>\n",
       "      <td>-73.029129</td>\n",
       "      <td>-73.022016</td>\n",
       "      <td>-73.157464</td>\n",
       "      <td>-73.278547</td>\n",
       "      <td>-73.280341</td>\n",
       "      <td>-73.272245</td>\n",
       "      <td>-73.042140</td>\n",
       "      <td>-72.969518</td>\n",
       "      <td>-73.264955</td>\n",
       "    </tr>\n",
       "    <tr>\n",
       "      <th>4</th>\n",
       "      <td>fear</td>\n",
       "      <td>/Users/murielkosaka/Desktop/capstone_project/a...</td>\n",
       "      <td>-44.965835</td>\n",
       "      <td>-44.467869</td>\n",
       "      <td>-44.512605</td>\n",
       "      <td>-44.934788</td>\n",
       "      <td>-44.679750</td>\n",
       "      <td>-44.350884</td>\n",
       "      <td>-45.161097</td>\n",
       "      <td>-46.124222</td>\n",
       "      <td>...</td>\n",
       "      <td>-42.328344</td>\n",
       "      <td>-42.546496</td>\n",
       "      <td>-43.290045</td>\n",
       "      <td>-42.981066</td>\n",
       "      <td>-43.380687</td>\n",
       "      <td>-44.499776</td>\n",
       "      <td>-44.815911</td>\n",
       "      <td>-45.377875</td>\n",
       "      <td>-45.876079</td>\n",
       "      <td>-46.404255</td>\n",
       "    </tr>\n",
       "  </tbody>\n",
       "</table>\n",
       "<p>5 rows × 261 columns</p>\n",
       "</div>"
      ],
      "text/plain": [
       "    emotion                                               path          0  \\\n",
       "0  surprise  /Users/murielkosaka/Desktop/capstone_project/a... -71.200279   \n",
       "1  surprise  /Users/murielkosaka/Desktop/capstone_project/a... -70.461177   \n",
       "2     angry  /Users/murielkosaka/Desktop/capstone_project/a... -64.176726   \n",
       "3      fear  /Users/murielkosaka/Desktop/capstone_project/a... -73.280341   \n",
       "4      fear  /Users/murielkosaka/Desktop/capstone_project/a... -44.965835   \n",
       "\n",
       "           1          2          3          4          5          6  \\\n",
       "0 -71.200279 -71.200279 -71.200279 -71.200279 -71.200279 -71.200279   \n",
       "1 -70.461177 -70.461177 -70.461177 -70.461177 -70.461177 -70.461177   \n",
       "2 -64.393671 -64.444880 -64.267970 -64.303751 -64.468072 -64.468072   \n",
       "3 -73.280341 -73.280341 -73.280341 -73.280341 -73.255295 -73.086365   \n",
       "4 -44.467869 -44.512605 -44.934788 -44.679750 -44.350884 -45.161097   \n",
       "\n",
       "           7  ...        249        250        251        252        253  \\\n",
       "0 -71.200279  ... -71.200279 -71.200279 -71.200279 -71.200279 -71.200279   \n",
       "1 -70.461177  ... -70.461177 -70.461177   0.000000   0.000000   0.000000   \n",
       "2 -64.468072  ... -64.468072 -64.468072 -64.468072 -64.468072 -64.422534   \n",
       "3 -73.234743  ... -72.866177 -73.029129 -73.022016 -73.157464 -73.278547   \n",
       "4 -46.124222  ... -42.328344 -42.546496 -43.290045 -42.981066 -43.380687   \n",
       "\n",
       "         254        255        256        257        258  \n",
       "0 -71.200279 -71.200279 -71.200279 -71.200279 -71.200279  \n",
       "1   0.000000   0.000000   0.000000   0.000000   0.000000  \n",
       "2 -64.364862 -64.468072 -64.465787 -64.354684 -64.385868  \n",
       "3 -73.280341 -73.272245 -73.042140 -72.969518 -73.264955  \n",
       "4 -44.499776 -44.815911 -45.377875 -45.876079 -46.404255  \n",
       "\n",
       "[5 rows x 261 columns]"
      ]
     },
     "execution_count": 10,
     "metadata": {},
     "output_type": "execute_result"
    }
   ],
   "source": [
    "df_combined.head()"
   ]
  },
  {
   "cell_type": "code",
   "execution_count": null,
   "metadata": {},
   "outputs": [],
   "source": [
    "emotions=df_combined.emotion\n",
    "emotions.value_counts()"
   ]
  },
  {
   "cell_type": "code",
   "execution_count": null,
   "metadata": {
    "scrolled": false
   },
   "outputs": [],
   "source": [
    "# SET MEANS TO THEIR OWN COLUMNS\n",
    "\n",
    "df_combined = pd.concat([audio_df,pd.DataFrame(df['mfcc_feature'].values.tolist()),pd.DataFrame(df_chroma['chroma_feat'].values.tolist())],axis=1)\n",
    "df_combined.head()"
   ]
  },
  {
   "cell_type": "code",
   "execution_count": null,
   "metadata": {
    "scrolled": true
   },
   "outputs": [],
   "source": [
    "# SET MEANS TO THEIR OWN COLUMNS\n",
    "df = pd.concat([audio_df,pd.DataFrame(df['mfcc_feature'].values.tolist())],axis=1)\n",
    "df=df.fillna(0)"
   ]
  },
  {
   "cell_type": "code",
   "execution_count": 11,
   "metadata": {
    "scrolled": true
   },
   "outputs": [],
   "source": [
    "# TRAIN TEST SPLIT\n",
    "X_model, X_test, y_model, y_test = train_test_split(df_combined.drop(['path','emotion'],axis=1)\n",
    "                                                    , df_combined.emotion\n",
    "                                                    , test_size=0.25\n",
    "                                                    , shuffle=True\n",
    "                                                    , random_state=42\n",
    "                                                   )\n",
    "# TRAIN TEST SPLIT\n",
    "X_train, X_validation, y_train, y_validation = train_test_split(X_model\n",
    "                                                    , y_model\n",
    "                                                    , test_size=0.25\n",
    "                                                    , shuffle=True\n",
    "                                                    , random_state=42\n",
    "                                                   )\n",
    "\n"
   ]
  },
  {
   "cell_type": "code",
   "execution_count": null,
   "metadata": {},
   "outputs": [],
   "source": [
    "X_model.shape"
   ]
  },
  {
   "cell_type": "code",
   "execution_count": null,
   "metadata": {
    "scrolled": true
   },
   "outputs": [],
   "source": [
    "y_test.value_counts().plot(kind='bar')"
   ]
  },
  {
   "cell_type": "code",
   "execution_count": null,
   "metadata": {},
   "outputs": [],
   "source": [
    "y_train.value_counts().plot(kind='bar')"
   ]
  },
  {
   "cell_type": "code",
   "execution_count": null,
   "metadata": {},
   "outputs": [],
   "source": [
    "y_validation.value_counts().plot(kind='bar')"
   ]
  },
  {
   "cell_type": "code",
   "execution_count": null,
   "metadata": {},
   "outputs": [],
   "source": []
  },
  {
   "cell_type": "code",
   "execution_count": null,
   "metadata": {},
   "outputs": [],
   "source": []
  },
  {
   "cell_type": "code",
   "execution_count": null,
   "metadata": {},
   "outputs": [],
   "source": [
    "X_model.shape"
   ]
  },
  {
   "cell_type": "code",
   "execution_count": 12,
   "metadata": {},
   "outputs": [],
   "source": [
    "# NORMALIZE DATA\n",
    "mean = np.mean(X_train, axis=0)\n",
    "std = np.std(X_train, axis=0)\n",
    "\n",
    "X_train = (X_train - mean)/std\n",
    "X_test = (X_test - mean)/std\n",
    "X_validation = (X_validation - mean) / std\n",
    "\n",
    "\n",
    "# Check the dataset now \n",
    "# X_train[150:160]"
   ]
  },
  {
   "cell_type": "code",
   "execution_count": 13,
   "metadata": {},
   "outputs": [],
   "source": [
    "# TURN DATA INTO ARRAYS FOR KERAS\n",
    "X_train = np.array(X_train)\n",
    "y_train = np.array(y_train)\n",
    "X_test = np.array(X_test)\n",
    "y_test = np.array(y_test)\n",
    "X_validation=np.array(X_validation)\n",
    "y_validation=np.array(y_validation)"
   ]
  },
  {
   "cell_type": "code",
   "execution_count": 14,
   "metadata": {},
   "outputs": [
    {
     "data": {
      "text/plain": [
       "array(['disgust', 'fear', 'angry', 'surprise', 'calm', 'surprise',\n",
       "       'happy', 'calm', 'disgust', 'happy', 'calm', 'angry', 'sad',\n",
       "       'surprise', 'fear', 'happy', 'calm', 'sad', 'disgust', 'disgust',\n",
       "       'disgust', 'happy', 'sad', 'happy', 'surprise', 'happy', 'happy',\n",
       "       'happy', 'surprise', 'disgust', 'neutral', 'surprise', 'surprise',\n",
       "       'angry', 'calm', 'surprise', 'disgust', 'fear', 'calm', 'angry',\n",
       "       'happy', 'neutral', 'fear', 'fear', 'fear', 'calm', 'happy',\n",
       "       'angry', 'happy', 'sad', 'sad', 'fear', 'happy', 'disgust',\n",
       "       'angry', 'calm', 'happy', 'disgust', 'surprise', 'fear', 'fear',\n",
       "       'calm', 'calm', 'angry', 'surprise', 'surprise', 'disgust', 'sad',\n",
       "       'fear', 'neutral', 'fear', 'fear', 'calm', 'angry', 'angry',\n",
       "       'fear', 'surprise', 'neutral', 'surprise', 'angry', 'surprise',\n",
       "       'fear', 'disgust', 'angry', 'fear', 'angry', 'surprise', 'neutral',\n",
       "       'disgust', 'angry', 'fear', 'angry', 'disgust', 'surprise',\n",
       "       'happy', 'disgust', 'sad', 'disgust', 'angry', 'angry', 'sad',\n",
       "       'happy', 'sad', 'happy', 'angry', 'surprise', 'calm', 'calm',\n",
       "       'angry', 'fear', 'calm', 'disgust', 'surprise', 'calm', 'disgust',\n",
       "       'happy', 'surprise', 'surprise', 'sad', 'surprise', 'surprise',\n",
       "       'happy', 'angry', 'angry', 'happy', 'disgust', 'disgust', 'happy',\n",
       "       'calm', 'happy', 'happy', 'surprise', 'disgust', 'disgust', 'fear',\n",
       "       'disgust', 'disgust', 'disgust', 'sad', 'disgust', 'angry',\n",
       "       'angry', 'sad', 'happy', 'sad', 'surprise', 'disgust', 'surprise',\n",
       "       'calm', 'disgust', 'calm', 'calm', 'calm', 'calm', 'surprise',\n",
       "       'fear', 'angry', 'surprise', 'sad', 'angry', 'disgust', 'fear',\n",
       "       'disgust', 'sad', 'surprise', 'surprise', 'sad', 'happy', 'fear',\n",
       "       'calm', 'calm', 'calm', 'surprise', 'disgust', 'angry', 'disgust',\n",
       "       'fear', 'disgust', 'surprise', 'sad', 'happy', 'disgust', 'sad',\n",
       "       'happy', 'angry', 'disgust', 'disgust', 'surprise', 'surprise',\n",
       "       'happy', 'disgust', 'fear', 'sad', 'calm', 'fear', 'angry',\n",
       "       'happy', 'fear', 'neutral', 'happy', 'sad', 'surprise', 'happy',\n",
       "       'calm', 'surprise', 'calm', 'neutral', 'angry', 'happy', 'disgust',\n",
       "       'disgust', 'surprise', 'calm', 'angry', 'angry', 'calm', 'calm',\n",
       "       'happy', 'fear', 'neutral', 'angry', 'fear', 'happy', 'sad',\n",
       "       'neutral', 'angry', 'disgust', 'disgust', 'angry', 'disgust',\n",
       "       'calm', 'fear', 'surprise', 'calm', 'calm', 'happy', 'surprise',\n",
       "       'fear', 'disgust', 'fear', 'surprise', 'angry', 'neutral', 'happy',\n",
       "       'angry', 'surprise', 'fear', 'calm', 'disgust', 'happy', 'happy',\n",
       "       'sad', 'disgust', 'surprise', 'sad', 'calm', 'surprise', 'angry',\n",
       "       'angry', 'surprise', 'angry', 'happy', 'angry', 'disgust',\n",
       "       'neutral', 'angry', 'angry', 'calm', 'calm', 'angry'], dtype=object)"
      ]
     },
     "execution_count": 14,
     "metadata": {},
     "output_type": "execute_result"
    }
   ],
   "source": [
    "y_validation"
   ]
  },
  {
   "cell_type": "code",
   "execution_count": 15,
   "metadata": {},
   "outputs": [
    {
     "data": {
      "text/plain": [
       "360"
      ]
     },
     "execution_count": 15,
     "metadata": {},
     "output_type": "execute_result"
    }
   ],
   "source": [
    "len(y_test)"
   ]
  },
  {
   "cell_type": "code",
   "execution_count": 16,
   "metadata": {},
   "outputs": [
    {
     "name": "stdout",
     "output_type": "stream",
     "text": [
      "[[0. 0. 1. 0. 0. 0. 0. 0.]\n",
      " [0. 0. 0. 1. 0. 0. 0. 0.]\n",
      " [1. 0. 0. 0. 0. 0. 0. 0.]\n",
      " [0. 0. 0. 0. 0. 0. 0. 1.]\n",
      " [0. 1. 0. 0. 0. 0. 0. 0.]\n",
      " [0. 0. 0. 0. 0. 0. 0. 1.]\n",
      " [0. 0. 0. 0. 1. 0. 0. 0.]\n",
      " [0. 1. 0. 0. 0. 0. 0. 0.]\n",
      " [0. 0. 1. 0. 0. 0. 0. 0.]\n",
      " [0. 0. 0. 0. 1. 0. 0. 0.]]\n"
     ]
    }
   ],
   "source": [
    "# ONE HOT ENCODE THE TARGET\n",
    "# CNN REQUIRES INPUT AND OUTPUT ARE NUMBERS\n",
    "lb = LabelEncoder()\n",
    "y_train = to_categorical(lb.fit_transform(y_train))\n",
    "y_test = to_categorical(lb.fit_transform(y_test))\n",
    "y_validation = to_categorical(lb.fit_transform(y_validation))\n",
    "\n",
    "\n",
    "print(y_validation[0:10])"
   ]
  },
  {
   "cell_type": "code",
   "execution_count": 17,
   "metadata": {
    "scrolled": true
   },
   "outputs": [
    {
     "name": "stdout",
     "output_type": "stream",
     "text": [
      "['angry' 'calm' 'disgust' 'fear' 'happy' 'neutral' 'sad' 'surprise']\n"
     ]
    }
   ],
   "source": [
    "print(lb.classes_)"
   ]
  },
  {
   "cell_type": "code",
   "execution_count": 18,
   "metadata": {
    "scrolled": true
   },
   "outputs": [
    {
     "data": {
      "text/plain": [
       "array([[1., 0., 0., ..., 0., 0., 0.],\n",
       "       [0., 0., 0., ..., 0., 1., 0.],\n",
       "       [0., 0., 0., ..., 0., 0., 0.],\n",
       "       ...,\n",
       "       [0., 0., 1., ..., 0., 0., 0.],\n",
       "       [0., 0., 0., ..., 0., 0., 0.],\n",
       "       [0., 0., 0., ..., 0., 1., 0.]], dtype=float32)"
      ]
     },
     "execution_count": 18,
     "metadata": {},
     "output_type": "execute_result"
    }
   ],
   "source": [
    "y_test"
   ]
  },
  {
   "cell_type": "code",
   "execution_count": 19,
   "metadata": {},
   "outputs": [
    {
     "data": {
      "text/plain": [
       "(270, 259, 1)"
      ]
     },
     "execution_count": 19,
     "metadata": {},
     "output_type": "execute_result"
    }
   ],
   "source": [
    "#time series data requires kernel sliding in only one dimension and have spatial properties: 1d CNN\n",
    "# reshape data to 3d tensor\n",
    "X_train = X_train[:,:,np.newaxis]\n",
    "X_test = X_test[:,:,np.newaxis]\n",
    "X_validation = X_validation[:,:,np.newaxis]\n",
    "\n",
    "X_validation.shape"
   ]
  },
  {
   "cell_type": "code",
   "execution_count": 150,
   "metadata": {
    "scrolled": false
   },
   "outputs": [
    {
     "name": "stdout",
     "output_type": "stream",
     "text": [
      "_________________________________________________________________\n",
      "Layer (type)                 Output Shape              Param #   \n",
      "=================================================================\n",
      "conv1d_122 (Conv1D)          (None, 250, 64)           704       \n",
      "_________________________________________________________________\n",
      "conv1d_123 (Conv1D)          (None, 241, 128)          82048     \n",
      "_________________________________________________________________\n",
      "max_pooling1d_81 (MaxPooling (None, 30, 128)           0         \n",
      "_________________________________________________________________\n",
      "dropout_108 (Dropout)        (None, 30, 128)           0         \n",
      "_________________________________________________________________\n",
      "conv1d_124 (Conv1D)          (None, 21, 128)           163968    \n",
      "_________________________________________________________________\n",
      "max_pooling1d_82 (MaxPooling (None, 2, 128)            0         \n",
      "_________________________________________________________________\n",
      "dropout_109 (Dropout)        (None, 2, 128)            0         \n",
      "_________________________________________________________________\n",
      "flatten_37 (Flatten)         (None, 256)               0         \n",
      "_________________________________________________________________\n",
      "dense_73 (Dense)             (None, 256)               65792     \n",
      "_________________________________________________________________\n",
      "dropout_110 (Dropout)        (None, 256)               0         \n",
      "_________________________________________________________________\n",
      "dense_74 (Dense)             (None, 8)                 2056      \n",
      "=================================================================\n",
      "Total params: 314,568\n",
      "Trainable params: 314,568\n",
      "Non-trainable params: 0\n",
      "_________________________________________________________________\n"
     ]
    }
   ],
   "source": [
    "import keras\n",
    "from keras.models import Sequential, Model, model_from_json\n",
    "from keras.layers import Conv1D, MaxPooling1D, AveragePooling1D\n",
    "from keras.layers import Input, Flatten, Dropout, Activation, BatchNormalization\n",
    "from keras.layers import Dense, Embedding, LSTM\n",
    "from keras.optimizers import SGD\n",
    "from keras.constraints import max_norm\n",
    "from keras.regularizers import l2\n",
    "\n",
    "\n",
    "# acc-51,test acc-48\n",
    "model = Sequential()\n",
    "model.add(Conv1D(64, kernel_size=(10), activation='relu', input_shape=(X_train.shape[1],1)))\n",
    "model.add(Conv1D(128, kernel_size=(10),activation='relu',kernel_regularizer=l2(0.01), bias_regularizer=l2(0.01)))\n",
    "model.add(MaxPooling1D(pool_size=(8)))\n",
    "model.add(Dropout(0.2))\n",
    "model.add(Conv1D(128, kernel_size=(10),activation='relu'))\n",
    "model.add(MaxPooling1D(pool_size=(8)))\n",
    "model.add(Dropout(0.2))\n",
    "# model.add(Conv1D(256, kernel_size=(4), activation='relu'))\n",
    "# model.add(MaxPooling1D(pool_size=(2)))\n",
    "model.add(Flatten())\n",
    "model.add(Dense(256, activation='relu'))\n",
    "model.add(Dropout(0.2))\n",
    "model.add(Dense(8, activation='softmax'))\n",
    "model.summary()\n",
    "opt = keras.optimizers.Adam(lr=0.0001)\n",
    "\n",
    "#acc-61,test acc-54\n",
    "# model = Sequential()\n",
    "# model.add(Conv1D(64, kernel_size=(8), activation='relu', input_shape=(X_train.shape[1],1)))\n",
    "# model.add(Conv1D(128, kernel_size=(8),activation='relu'))\n",
    "# model.add(MaxPooling1D(pool_size=(8)))\n",
    "# model.add(Dropout(0.2))\n",
    "# model.add(Conv1D(128, kernel_size=(8),activation='relu'))\n",
    "# model.add(BatchNormalization())\n",
    "# model.add(MaxPooling1D(pool_size=(8)))\n",
    "# model.add(Dropout(0.2))\n",
    "# # model.add(Conv1D(256, kernel_size=(4), activation='relu'))\n",
    "# # model.add(MaxPooling1D(pool_size=(2)))\n",
    "# model.add(Flatten())\n",
    "# model.add(Dense(256, activation='relu'))\n",
    "# model.add(Dropout(0.2))\n",
    "# model.add(Dense(8, activation='softmax'))\n",
    "# model.summary()\n",
    "# opt = keras.optimizers.Adam(lr=0.0001)\n",
    "\n",
    "# acc-82, test acc-49\n",
    "# model = Sequential()\n",
    "# model.add(Conv1D(64, kernel_size=(8), activation='relu', input_shape=(X_train.shape[1],1)))\n",
    "# model.add(Conv1D(64, kernel_size=(8),activation='relu'))\n",
    "# model.add(MaxPooling1D(pool_size=(4)))\n",
    "# model.add(Dropout(0.2))\n",
    "# model.add(Conv1D(128, kernel_size=(8),activation='relu'))\n",
    "# model.add(BatchNormalization())\n",
    "# model.add(MaxPooling1D(pool_size=(4)))\n",
    "# model.add(Dropout(0.2))\n",
    "# # model.add(Conv1D(256, kernel_size=(4), activation='relu'))\n",
    "# # model.add(MaxPooling1D(pool_size=(2)))\n",
    "# model.add(Flatten())\n",
    "# model.add(Dense(256, activation='relu'))\n",
    "# model.add(Dropout(0.2))\n",
    "# model.add(Dense(8, activation='softmax'))\n",
    "# model.summary()\n",
    "# opt = keras.optimizers.Adam(lr=0.0001)\n",
    "\n",
    "\n",
    "#BUILD CNN MODEL (even accuracy scores)\n",
    "# model = Sequential()\n",
    "# model.add(Conv1D(32, kernel_size=(8), activation='relu', input_shape=(X_train.shape[1],1)))\n",
    "# model.add(Conv1D(64, kernel_size=(8),activation='relu'))\n",
    "# model.add(MaxPooling1D(pool_size=(4)))\n",
    "# model.add(Dropout(0.4))\n",
    "# model.add(Conv1D(128, kernel_size=(8),activation='relu'))\n",
    "# model.add(BatchNormalization())\n",
    "# model.add(MaxPooling1D(pool_size=(4)))\n",
    "# model.add(Dropout(0.4))\n",
    "# # model.add(Conv1D(256, kernel_size=(4), activation='relu'))\n",
    "# # model.add(MaxPooling1D(pool_size=(2)))\n",
    "# model.add(Flatten())\n",
    "# model.add(Dense(256, activation='relu'))\n",
    "# model.add(Dropout(0.5))\n",
    "# model.add(Dense(8, activation='softmax'))\n",
    "# model.summary()\n",
    "# opt = keras.optimizers.Adam(lr=0.0001)\n"
   ]
  },
  {
   "cell_type": "code",
   "execution_count": 151,
   "metadata": {
    "scrolled": false
   },
   "outputs": [
    {
     "name": "stdout",
     "output_type": "stream",
     "text": [
      "Train on 810 samples, validate on 270 samples\n",
      "Epoch 1/50\n",
      "810/810 [==============================] - 6s 7ms/step - loss: 2.8265 - acc: 0.2198 - val_loss: 2.7373 - val_acc: 0.2593\n",
      "Epoch 2/50\n",
      "810/810 [==============================] - 2s 3ms/step - loss: 2.6445 - acc: 0.2704 - val_loss: 2.6014 - val_acc: 0.2741\n",
      "Epoch 3/50\n",
      "810/810 [==============================] - 2s 3ms/step - loss: 2.5375 - acc: 0.2704 - val_loss: 2.5059 - val_acc: 0.3037\n",
      "Epoch 4/50\n",
      "810/810 [==============================] - 2s 3ms/step - loss: 2.4470 - acc: 0.2938 - val_loss: 2.4515 - val_acc: 0.3037\n",
      "Epoch 5/50\n",
      "810/810 [==============================] - 2s 3ms/step - loss: 2.3811 - acc: 0.3074 - val_loss: 2.3837 - val_acc: 0.3333\n",
      "Epoch 6/50\n",
      "810/810 [==============================] - 2s 3ms/step - loss: 2.3290 - acc: 0.2975 - val_loss: 2.3431 - val_acc: 0.3519\n",
      "Epoch 7/50\n",
      "810/810 [==============================] - 2s 3ms/step - loss: 2.2815 - acc: 0.3370 - val_loss: 2.2929 - val_acc: 0.3370\n",
      "Epoch 8/50\n",
      "810/810 [==============================] - 2s 3ms/step - loss: 2.2449 - acc: 0.3111 - val_loss: 2.2781 - val_acc: 0.3407\n",
      "Epoch 9/50\n",
      "810/810 [==============================] - 2s 3ms/step - loss: 2.2041 - acc: 0.3383 - val_loss: 2.2074 - val_acc: 0.3556\n",
      "Epoch 10/50\n",
      "810/810 [==============================] - 2s 3ms/step - loss: 2.1507 - acc: 0.3568 - val_loss: 2.1799 - val_acc: 0.3556\n",
      "Epoch 11/50\n",
      "810/810 [==============================] - 2s 3ms/step - loss: 2.1233 - acc: 0.3543 - val_loss: 2.1526 - val_acc: 0.3519\n",
      "Epoch 12/50\n",
      "810/810 [==============================] - 2s 3ms/step - loss: 2.0841 - acc: 0.3605 - val_loss: 2.1035 - val_acc: 0.3556\n",
      "Epoch 13/50\n",
      "810/810 [==============================] - 2s 3ms/step - loss: 2.0299 - acc: 0.3778 - val_loss: 2.0996 - val_acc: 0.3667\n",
      "Epoch 14/50\n",
      "810/810 [==============================] - 2s 3ms/step - loss: 2.0081 - acc: 0.3691 - val_loss: 2.0649 - val_acc: 0.3630\n",
      "Epoch 15/50\n",
      "810/810 [==============================] - 2s 3ms/step - loss: 1.9765 - acc: 0.3852 - val_loss: 2.0403 - val_acc: 0.3481\n",
      "Epoch 16/50\n",
      "810/810 [==============================] - 2s 3ms/step - loss: 1.9617 - acc: 0.3877 - val_loss: 2.0137 - val_acc: 0.3704\n",
      "Epoch 17/50\n",
      "810/810 [==============================] - 2s 3ms/step - loss: 1.9186 - acc: 0.3963 - val_loss: 1.9776 - val_acc: 0.3519\n",
      "Epoch 18/50\n",
      "810/810 [==============================] - 2s 3ms/step - loss: 1.9180 - acc: 0.3778 - val_loss: 1.9636 - val_acc: 0.3556\n",
      "Epoch 19/50\n",
      "810/810 [==============================] - 2s 3ms/step - loss: 1.8743 - acc: 0.4247 - val_loss: 1.9448 - val_acc: 0.3519\n",
      "Epoch 20/50\n",
      "810/810 [==============================] - 2s 3ms/step - loss: 1.8497 - acc: 0.3938 - val_loss: 1.9328 - val_acc: 0.3815\n",
      "Epoch 21/50\n",
      "810/810 [==============================] - 2s 3ms/step - loss: 1.8422 - acc: 0.3963 - val_loss: 1.9058 - val_acc: 0.3926\n",
      "Epoch 22/50\n",
      "810/810 [==============================] - 2s 3ms/step - loss: 1.8318 - acc: 0.4012 - val_loss: 1.9049 - val_acc: 0.3852\n",
      "Epoch 23/50\n",
      "810/810 [==============================] - 2s 3ms/step - loss: 1.8325 - acc: 0.4099 - val_loss: 1.8849 - val_acc: 0.3815\n",
      "Epoch 24/50\n",
      "810/810 [==============================] - 2s 3ms/step - loss: 1.7985 - acc: 0.4037 - val_loss: 1.8644 - val_acc: 0.3815\n",
      "Epoch 25/50\n",
      "810/810 [==============================] - 2s 3ms/step - loss: 1.7770 - acc: 0.4198 - val_loss: 1.8424 - val_acc: 0.4037\n",
      "Epoch 26/50\n",
      "810/810 [==============================] - 2s 3ms/step - loss: 1.7220 - acc: 0.4346 - val_loss: 1.8381 - val_acc: 0.3963\n",
      "Epoch 27/50\n",
      "810/810 [==============================] - 2s 3ms/step - loss: 1.7304 - acc: 0.4309 - val_loss: 1.8238 - val_acc: 0.4148\n",
      "Epoch 28/50\n",
      "810/810 [==============================] - 2s 3ms/step - loss: 1.7334 - acc: 0.4185 - val_loss: 1.8014 - val_acc: 0.4185\n",
      "Epoch 29/50\n",
      "810/810 [==============================] - 2s 3ms/step - loss: 1.7033 - acc: 0.4506 - val_loss: 1.8068 - val_acc: 0.4037\n",
      "Epoch 30/50\n",
      "810/810 [==============================] - 2s 3ms/step - loss: 1.6783 - acc: 0.4296 - val_loss: 1.8066 - val_acc: 0.4000\n",
      "Epoch 31/50\n",
      "810/810 [==============================] - 2s 3ms/step - loss: 1.6751 - acc: 0.4444 - val_loss: 1.7817 - val_acc: 0.4148\n",
      "Epoch 32/50\n",
      "810/810 [==============================] - 2s 3ms/step - loss: 1.6521 - acc: 0.4617 - val_loss: 1.7730 - val_acc: 0.4037\n",
      "Epoch 33/50\n",
      "810/810 [==============================] - 2s 3ms/step - loss: 1.6622 - acc: 0.4469 - val_loss: 1.7537 - val_acc: 0.4074\n",
      "Epoch 34/50\n",
      "810/810 [==============================] - 2s 3ms/step - loss: 1.6225 - acc: 0.4519 - val_loss: 1.7460 - val_acc: 0.4370\n",
      "Epoch 35/50\n",
      "810/810 [==============================] - 3s 3ms/step - loss: 1.6041 - acc: 0.4630 - val_loss: 1.7434 - val_acc: 0.4333\n",
      "Epoch 36/50\n",
      "810/810 [==============================] - 3s 4ms/step - loss: 1.5730 - acc: 0.4790 - val_loss: 1.7221 - val_acc: 0.4444\n",
      "Epoch 37/50\n",
      "810/810 [==============================] - 3s 3ms/step - loss: 1.6152 - acc: 0.4630 - val_loss: 1.7224 - val_acc: 0.4407\n",
      "Epoch 38/50\n",
      "810/810 [==============================] - 2s 3ms/step - loss: 1.5810 - acc: 0.4630 - val_loss: 1.7348 - val_acc: 0.4296\n",
      "Epoch 39/50\n",
      "810/810 [==============================] - 2s 3ms/step - loss: 1.5568 - acc: 0.4642 - val_loss: 1.7134 - val_acc: 0.4370\n",
      "Epoch 40/50\n",
      "810/810 [==============================] - 3s 3ms/step - loss: 1.5590 - acc: 0.4728 - val_loss: 1.6821 - val_acc: 0.4593\n",
      "Epoch 41/50\n",
      "810/810 [==============================] - 2s 3ms/step - loss: 1.5273 - acc: 0.4778 - val_loss: 1.6823 - val_acc: 0.4481\n",
      "Epoch 42/50\n",
      "810/810 [==============================] - 3s 3ms/step - loss: 1.5053 - acc: 0.4889 - val_loss: 1.6639 - val_acc: 0.4444\n",
      "Epoch 43/50\n",
      "810/810 [==============================] - 2s 3ms/step - loss: 1.4864 - acc: 0.5049 - val_loss: 1.6812 - val_acc: 0.4407\n",
      "Epoch 44/50\n",
      "810/810 [==============================] - 3s 3ms/step - loss: 1.4791 - acc: 0.5086 - val_loss: 1.6739 - val_acc: 0.4259\n",
      "Epoch 45/50\n",
      "810/810 [==============================] - 3s 3ms/step - loss: 1.4724 - acc: 0.4963 - val_loss: 1.6564 - val_acc: 0.4333\n",
      "Epoch 46/50\n",
      "810/810 [==============================] - 3s 4ms/step - loss: 1.4686 - acc: 0.4926 - val_loss: 1.6410 - val_acc: 0.4481\n",
      "Epoch 47/50\n",
      "810/810 [==============================] - 3s 4ms/step - loss: 1.4436 - acc: 0.5074 - val_loss: 1.6547 - val_acc: 0.4556\n",
      "Epoch 48/50\n",
      "810/810 [==============================] - 3s 4ms/step - loss: 1.4664 - acc: 0.5025 - val_loss: 1.6411 - val_acc: 0.4444\n",
      "Epoch 49/50\n",
      "810/810 [==============================] - 3s 4ms/step - loss: 1.4290 - acc: 0.5395 - val_loss: 1.6212 - val_acc: 0.4519\n",
      "Epoch 50/50\n",
      "810/810 [==============================] - 3s 4ms/step - loss: 1.4337 - acc: 0.5210 - val_loss: 1.6148 - val_acc: 0.4481\n"
     ]
    }
   ],
   "source": [
    "from keras.callbacks import EarlyStopping, ModelCheckpoint\n",
    "\n",
    "cb = ModelCheckpoint(filepath='best_model.h5', monitor='val_accuracy', save_best_only=True)\n",
    "# FIT MODEL\n",
    "model.compile(loss='categorical_crossentropy', optimizer=opt,metrics=['accuracy'])\n",
    "model_history=model.fit(X_train, y_train,batch_size=32, epochs=50, validation_data=(X_validation, y_validation),callbacks=[cb])"
   ]
  },
  {
   "cell_type": "code",
   "execution_count": 152,
   "metadata": {
    "scrolled": true
   },
   "outputs": [
    {
     "name": "stdout",
     "output_type": "stream",
     "text": [
      "360/360 [==============================] - 0s 1ms/step\n",
      "Loss of the model is -  1.4910373979144627\n",
      "360/360 [==============================] - 0s 1ms/step\n",
      "Accuracy of the model is -  49.44444444444444 %\n"
     ]
    }
   ],
   "source": [
    "print(\"Loss of the model is - \" , model.evaluate(X_test,y_test)[0])\n",
    "print(\"Accuracy of the model is - \" , model.evaluate(X_test,y_test)[1]*100 , \"%\")"
   ]
  },
  {
   "cell_type": "code",
   "execution_count": 153,
   "metadata": {
    "scrolled": false
   },
   "outputs": [
    {
     "data": {
      "image/png": "[encoded data removed]",
      "text/plain": [
       "<Figure size 432x288 with 1 Axes>"
      ]
     },
     "metadata": {
      "needs_background": "light"
     },
     "output_type": "display_data"
    },
    {
     "data": {
      "image/png": "[encoded data removed]",
      "text/plain": [
       "<Figure size 432x288 with 1 Axes>"
      ]
     },
     "metadata": {
      "needs_background": "light"
     },
     "output_type": "display_data"
    }
   ],
   "source": [
    "plt.plot(model_history.history['acc'])\n",
    "plt.plot(model_history.history['val_acc'])\n",
    "plt.title('model accuracy')\n",
    "plt.ylabel('accuracy')\n",
    "plt.xlabel('epoch')\n",
    "plt.legend(['train', 'test'], loc='upper left')\n",
    "plt.show()\n",
    "# summarize history for loss\n",
    "plt.plot(model_history.history['loss'])\n",
    "plt.plot(model_history.history['val_loss'])\n",
    "plt.title('model loss')\n",
    "plt.ylabel('loss')\n",
    "plt.xlabel('epoch')\n",
    "plt.legend(['train', 'test'], loc='upper left')\n",
    "plt.show()"
   ]
  },
  {
   "cell_type": "code",
   "execution_count": null,
   "metadata": {},
   "outputs": [],
   "source": []
  },
  {
   "cell_type": "markdown",
   "metadata": {},
   "source": [
    "## Hyperparameter Tuning"
   ]
  },
  {
   "cell_type": "code",
   "execution_count": null,
   "metadata": {},
   "outputs": [],
   "source": [
    "import h5py\n",
    "hf = h5py.File('best_model.h5', 'r')\n",
    "hf.keys"
   ]
  },
  {
   "cell_type": "code",
   "execution_count": null,
   "metadata": {},
   "outputs": [],
   "source": [
    "# TRAIN TEST SPLIT\n",
    "X_model, X_test, y_model, y_test = train_test_split(df_combined.drop(['path','emotion'],axis=1)\n",
    "                                                    , df_combined.emotion\n",
    "                                                    , test_size=0.25\n",
    "                                                    , shuffle=False\n",
    "                                                    , random_state=42\n",
    "                                                   )\n",
    "# TRAIN TEST SPLIT\n",
    "X_train, X_validation, y_train, y_validation = train_test_split(X_model\n",
    "                                                    , y_model\n",
    "                                                    , test_size=0.25\n",
    "                                                    , shuffle=False\n",
    "                                                    , random_state=42\n",
    "                                                   )\n",
    "\n",
    "\n"
   ]
  },
  {
   "cell_type": "code",
   "execution_count": null,
   "metadata": {},
   "outputs": [],
   "source": [
    "# NORMALIZE DATA\n",
    "mean = np.mean(X_train, axis=0)\n",
    "std = np.std(X_train, axis=0)\n",
    "\n",
    "X_train = (X_train - mean)/std\n",
    "X_test = (X_test - mean)/std\n",
    "X_validation = (X_validation - mean) / std\n",
    "\n",
    "\n"
   ]
  },
  {
   "cell_type": "code",
   "execution_count": null,
   "metadata": {},
   "outputs": [],
   "source": [
    "# TURN DATA INTO ARRAYS FOR KERAS\n",
    "X_train = np.array(X_train)\n",
    "y_train = np.array(y_train)\n",
    "X_test = np.array(X_test)\n",
    "y_test = np.array(y_test)\n",
    "X_validation=np.array(X_validation)\n",
    "y_validation=np.array(y_validation)"
   ]
  },
  {
   "cell_type": "code",
   "execution_count": null,
   "metadata": {},
   "outputs": [],
   "source": [
    "#time series data requires kernel sliding in only one dimension and have spatial properties: 1d CNN\n",
    "# reshape data to 3d tensor\n",
    "X_train = X_train[:,:,np.newaxis]\n",
    "X_test = X_test[:,:,np.newaxis]\n",
    "X_validation = X_validation[:,:,np.newaxis]\n",
    "\n",
    "X_validation.shape"
   ]
  },
  {
   "cell_type": "code",
   "execution_count": null,
   "metadata": {},
   "outputs": [],
   "source": [
    "from sklearn.model_selection import GridSearchCV\n",
    "from keras.wrappers.scikit_learn import KerasClassifier\n",
    "\n",
    "def make_classifier(optimizer='adam'):\n",
    "    #BUILD CNN MODEL\n",
    "    model = Sequential()\n",
    "    model.add(Conv1D(32, kernel_size=(4), activation='relu', input_shape=(X_train.shape[1],1)))\n",
    "    model.add(Conv1D(64, kernel_size=(4), activation='relu'))\n",
    "    model.add(MaxPooling1D(pool_size=(2)))\n",
    "    model.add(Dropout(0.25))\n",
    "    model.add(Conv1D(64, kernel_size=(4), activation='relu'))\n",
    "    model.add(MaxPooling1D(pool_size=(2)))\n",
    "    model.add(Dropout(0.25))\n",
    "    model.add(Conv1D(128, kernel_size=(4), activation='relu'))\n",
    "    model.add(BatchNormalization())\n",
    "    model.add(MaxPooling1D(pool_size=(2)))\n",
    "    model.add(Dropout(0.25))\n",
    "    model.add(Conv1D(256, kernel_size=(4), activation='relu'))\n",
    "    model.add(MaxPooling1D(pool_size=(2)))\n",
    "    model.add(Dropout(0.25))\n",
    "    model.add(Flatten())\n",
    "    model.add(Dense(256, activation='relu'))\n",
    "    model.add(Dropout(0.25))\n",
    "    model.add(Dense(8, activation='softmax'))\n",
    "    model.compile(loss='categorical_crossentropy', optimizer= 'adam',metrics=['accuracy'])\n",
    "    return model"
   ]
  },
  {
   "cell_type": "code",
   "execution_count": null,
   "metadata": {},
   "outputs": [],
   "source": [
    "classifier = KerasClassifier(build_fn = make_classifier)\n",
    "params = {\n",
    "    'batch_size':[20,40],\n",
    "    'nb_epoch':[10,15],\n",
    "    'optimizer':['adam','rmsprop']\n",
    "}\n",
    "\n",
    "grid_search = GridSearchCV(estimator=classifier,\n",
    "                           param_grid=params,\n",
    "                           scoring='accuracy',\n",
    "                           cv=5)\n",
    "grid_search = grid_search.fit(X_train,y_train)\n",
    "best_param = grid_search.best_params_\n",
    "best_accuracy = grid_search.best_score_"
   ]
  },
  {
   "cell_type": "code",
   "execution_count": null,
   "metadata": {},
   "outputs": [],
   "source": [
    "print (best_param)\n",
    "print (best_accuracy)"
   ]
  },
  {
   "cell_type": "code",
   "execution_count": null,
   "metadata": {},
   "outputs": [],
   "source": []
  },
  {
   "cell_type": "code",
   "execution_count": null,
   "metadata": {},
   "outputs": [],
   "source": [
    "print(\"=== Confusion Matrix ===\")\n",
    "print(confusion_matrix(y_test, rfc_predict))\n",
    "print('\\n')\n",
    "print(\"=== Classification Report ===\")\n",
    "print(classification_report(y_test, rfc_predict))\n",
    "print('\\n')\n",
    "print(\"=== All AUC Scores ===\")\n",
    "print(rfc_cv_score)\n",
    "print('\\n')\n",
    "print(\"=== Mean AUC Score ===\")\n",
    "print(\"Mean AUC Score - Random Forest: \", rfc_cv_score.mean())"
   ]
  },
  {
   "cell_type": "code",
   "execution_count": null,
   "metadata": {},
   "outputs": [],
   "source": []
  },
  {
   "cell_type": "code",
   "execution_count": null,
   "metadata": {},
   "outputs": [],
   "source": []
  },
  {
   "cell_type": "code",
   "execution_count": null,
   "metadata": {},
   "outputs": [],
   "source": []
  }
 ],
 "metadata": {
  "kernelspec": {
   "display_name": "Python 3",
   "language": "python",
   "name": "python3"
  },
  "language_info": {
   "codemirror_mode": {
    "name": "ipython",
    "version": 3
   },
   "file_extension": ".py",
   "mimetype": "text/x-python",
   "name": "python",
   "nbconvert_exporter": "python",
   "pygments_lexer": "ipython3",
   "version": "3.6.9"
  }
 },
 "nbformat": 4,
 "nbformat_minor": 2
}
