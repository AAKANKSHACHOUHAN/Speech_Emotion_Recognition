{
 "cells": [
  {
   "cell_type": "code",
   "execution_count": null,
   "metadata": {},
   "outputs": [],
   "source": [
    "from google.colab import drive\n",
    "drive.mount('/content/drive')"
   ]
  },
  {
   "cell_type": "code",
   "execution_count": null,
   "metadata": {},
   "outputs": [],
   "source": [
    "ls"
   ]
  },
  {
   "cell_type": "markdown",
   "metadata": {},
   "source": [
    "# Single file"
   ]
  },
  {
   "cell_type": "code",
   "execution_count": null,
   "metadata": {},
   "outputs": [],
   "source": [
    "import librosa\n",
    "x, sr = librosa.load('/Users/murielkosaka/Desktop/capstone_project/audio/audio_speech_actors_01-24/Actor_01/03-01-01-01-01-01-01.wav')"
   ]
  },
  {
   "cell_type": "code",
   "execution_count": null,
   "metadata": {},
   "outputs": [],
   "source": [
    "print(x.shape)\n",
    "print(sr)"
   ]
  },
  {
   "cell_type": "code",
   "execution_count": null,
   "metadata": {},
   "outputs": [],
   "source": [
    "%matplotlib inline\n",
    "import matplotlib.pyplot as plt\n",
    "import librosa.display"
   ]
  },
  {
   "cell_type": "code",
   "execution_count": null,
   "metadata": {
    "scrolled": true
   },
   "outputs": [],
   "source": [
    "plt.figure(figsize=(14, 5))\n",
    "librosa.display.waveplot(x, sr=sr)"
   ]
  },
  {
   "cell_type": "code",
   "execution_count": null,
   "metadata": {},
   "outputs": [],
   "source": [
    "from IPython.display import Audio"
   ]
  },
  {
   "cell_type": "code",
   "execution_count": null,
   "metadata": {
    "scrolled": false
   },
   "outputs": [],
   "source": [
    "Audio(data=x, rate=sr)"
   ]
  },
  {
   "cell_type": "code",
   "execution_count": null,
   "metadata": {
    "scrolled": true
   },
   "outputs": [],
   "source": [
    "single_mfcc = librosa.feature.mfcc(y=x, sr=sr, n_mfcc=13)\n",
    "plt.figure(figsize=(15, 10))\n",
    "plt.subplot(3,1,1)\n",
    "librosa.display.specshow(single_mfcc, x_axis='time')\n",
    "plt.ylabel('MFCC')\n",
    "plt.colorbar()"
   ]
  },
  {
   "cell_type": "code",
   "execution_count": null,
   "metadata": {},
   "outputs": [],
   "source": [
    "single_mfcc"
   ]
  },
  {
   "cell_type": "markdown",
   "metadata": {},
   "source": [
    "# Whole Dataset (1440 files)"
   ]
  },
  {
   "cell_type": "code",
   "execution_count": 35,
   "metadata": {},
   "outputs": [],
   "source": [
    "import librosa\n",
    "import librosa.display\n",
    "import numpy as np\n",
    "import matplotlib.pyplot as plt\n",
    "import tensorflow as tf\n",
    "from matplotlib.pyplot import specgram\n",
    "import pandas as pd\n",
    "import glob \n",
    "from sklearn.metrics import confusion_matrix\n",
    "import IPython.display as ipd  # To play sound in the notebook\n",
    "import os # interface with underlying OS that python is running on\n",
    "import sys\n",
    "import warnings\n",
    "# ignore warnings \n",
    "if not sys.warnoptions:\n",
    "    warnings.simplefilter(\"ignore\")\n",
    "warnings.filterwarnings(\"ignore\", category=DeprecationWarning)\n",
    "from sklearn.model_selection import train_test_split\n",
    "\n"
   ]
  },
  {
   "cell_type": "markdown",
   "metadata": {},
   "source": [
    "Modality (01 = full-AV, 02 = video-only, 03 = audio-only).\n",
    "\n",
    "Vocal channel (01 = speech, 02 = song).\n",
    "\n",
    "Emotion (01 = neutral, 02 = calm, 03 = happy, 04 = sad, 05 = angry, 06 = fearful, 07 = disgust, 08 = surprised).\n",
    "\n",
    "Emotional intensity (01 = normal, 02 = strong). NOTE: There is no strong intensity for the 'neutral' emotion.\n",
    "\n",
    "Statement (01 = \"Kids are talking by the door\", 02 = \"Dogs are sitting by the door\").\n",
    "\n",
    "Repetition (01 = 1st repetition, 02 = 2nd repetition).\n",
    "\n",
    "Actor (01 to 24. Odd numbered actors are male, even numbered actors are female).\n",
    "\n",
    "So, here's an example of an audio filename. 02-01-06-01-02-01-12.mp4\n",
    "\n",
    "This means the meta data for the audio file is:\n",
    "\n",
    "Video-only (02)\n",
    "\n",
    "Speech (01)\n",
    "\n",
    "Fearful (06)\n",
    "\n",
    "Normal intensity (01)\n",
    "\n",
    "Statement \"dogs\" (02)\n",
    "\n",
    "1st Repetition (01)\n",
    "\n",
    "12th Actor (12) - Female (as the actor ID number is even)"
   ]
  },
  {
   "cell_type": "code",
   "execution_count": null,
   "metadata": {},
   "outputs": [],
   "source": [
    "audio = \"/content/drive/My Drive/audio/audio_speech_actors_01-24/\"\n",
    "actor_folders = os.listdir(audio) #list files in audio directory\n",
    "actor_folders.sort() \n",
    "actor_folders[0:5]"
   ]
  },
  {
   "cell_type": "code",
   "execution_count": null,
   "metadata": {},
   "outputs": [],
   "source": [
    "ls -a"
   ]
  },
  {
   "cell_type": "code",
   "execution_count": null,
   "metadata": {},
   "outputs": [],
   "source": [
    "!find . -name '.DS_Store' -type f -delete"
   ]
  },
  {
   "cell_type": "code",
   "execution_count": 36,
   "metadata": {
    "scrolled": true
   },
   "outputs": [
    {
     "data": {
      "text/plain": [
       "['Actor_01', 'Actor_02', 'Actor_03', 'Actor_04', 'Actor_05']"
      ]
     },
     "execution_count": 36,
     "metadata": {},
     "output_type": "execute_result"
    }
   ],
   "source": [
    "audio = \"/Users/murielkosaka/Desktop/capstone_project/audio/audio_speech_actors_01-24/\"\n",
    "\n",
    "actor_folders = os.listdir(audio) #list files in audio directory\n",
    "actor_folders.sort() \n",
    "actor_folders[0:5]"
   ]
  },
  {
   "cell_type": "code",
   "execution_count": 37,
   "metadata": {
    "scrolled": true
   },
   "outputs": [
    {
     "data": {
      "text/plain": [
       "'/Users/murielkosaka/Desktop/capstone_project/audio/audio_speech_actors_01-24/'"
      ]
     },
     "execution_count": 37,
     "metadata": {},
     "output_type": "execute_result"
    }
   ],
   "source": [
    "audio"
   ]
  },
  {
   "cell_type": "code",
   "execution_count": 38,
   "metadata": {},
   "outputs": [],
   "source": [
    "# audio/audio/audio_speech_actors_01-24/Actor_14\n",
    "# 03-01-02-01-02-01-14.wav\n",
    "\n",
    "emotion = []\n",
    "gender = []\n",
    "file_path = []\n",
    "for i in actor_folders:\n",
    "    filename = os.listdir(audio + i) #iterate over Actor folders\n",
    "    for f in filename: # go through files in Actor folder\n",
    "        part = f.split('.')[0].split('-')\n",
    "        emotion.append(int(part[2]))\n",
    "        bg = int(part[6])\n",
    "        if bg%2 == 0:\n",
    "            bg = \"female\"\n",
    "        else:\n",
    "            bg = \"male\"\n",
    "        gender.append(bg)\n",
    "        file_path.append(audio + i + '/' + f)"
   ]
  },
  {
   "cell_type": "code",
   "execution_count": 39,
   "metadata": {},
   "outputs": [
    {
     "data": {
      "text/plain": [
       "['03-01-03-02-01-02-24.wav',\n",
       " '03-01-03-01-02-02-24.wav',\n",
       " '03-01-02-02-02-01-24.wav',\n",
       " '03-01-02-01-01-01-24.wav',\n",
       " '03-01-01-01-01-02-24.wav',\n",
       " '03-01-06-01-01-02-24.wav',\n",
       " '03-01-05-01-01-01-24.wav',\n",
       " '03-01-05-02-02-01-24.wav',\n",
       " '03-01-06-02-02-02-24.wav',\n",
       " '03-01-04-01-02-02-24.wav',\n",
       " '03-01-07-01-02-01-24.wav',\n",
       " '03-01-07-02-01-01-24.wav',\n",
       " '03-01-04-02-01-02-24.wav',\n",
       " '03-01-08-02-01-01-24.wav',\n",
       " '03-01-08-01-02-01-24.wav',\n",
       " '03-01-05-01-02-02-24.wav',\n",
       " '03-01-06-01-02-01-24.wav',\n",
       " '03-01-06-02-01-01-24.wav',\n",
       " '03-01-05-02-01-02-24.wav',\n",
       " '03-01-07-01-01-02-24.wav',\n",
       " '03-01-04-01-01-01-24.wav',\n",
       " '03-01-04-02-02-01-24.wav',\n",
       " '03-01-07-02-02-02-24.wav',\n",
       " '03-01-08-02-02-02-24.wav',\n",
       " '03-01-08-01-01-02-24.wav',\n",
       " '03-01-03-02-02-01-24.wav',\n",
       " '03-01-03-01-01-01-24.wav',\n",
       " '03-01-02-02-01-02-24.wav',\n",
       " '03-01-01-01-02-01-24.wav',\n",
       " '03-01-02-01-02-02-24.wav',\n",
       " '03-01-04-02-01-01-24.wav',\n",
       " '03-01-07-02-01-02-24.wav',\n",
       " '03-01-07-01-02-02-24.wav',\n",
       " '03-01-04-01-02-01-24.wav',\n",
       " '03-01-06-02-02-01-24.wav',\n",
       " '03-01-05-02-02-02-24.wav',\n",
       " '03-01-05-01-01-02-24.wav',\n",
       " '03-01-06-01-01-01-24.wav',\n",
       " '03-01-08-01-02-02-24.wav',\n",
       " '03-01-08-02-01-02-24.wav',\n",
       " '03-01-01-01-01-01-24.wav',\n",
       " '03-01-02-01-01-02-24.wav',\n",
       " '03-01-02-02-02-02-24.wav',\n",
       " '03-01-03-01-02-01-24.wav',\n",
       " '03-01-03-02-01-01-24.wav',\n",
       " '03-01-02-01-02-01-24.wav',\n",
       " '03-01-01-01-02-02-24.wav',\n",
       " '03-01-02-02-01-01-24.wav',\n",
       " '03-01-03-01-01-02-24.wav',\n",
       " '03-01-03-02-02-02-24.wav',\n",
       " '03-01-07-02-02-01-24.wav',\n",
       " '03-01-04-02-02-02-24.wav',\n",
       " '03-01-04-01-01-02-24.wav',\n",
       " '03-01-07-01-01-01-24.wav',\n",
       " '03-01-05-02-01-01-24.wav',\n",
       " '03-01-06-02-01-02-24.wav',\n",
       " '03-01-06-01-02-02-24.wav',\n",
       " '03-01-05-01-02-01-24.wav',\n",
       " '03-01-08-01-01-01-24.wav',\n",
       " '03-01-08-02-02-01-24.wav']"
      ]
     },
     "execution_count": 39,
     "metadata": {},
     "output_type": "execute_result"
    }
   ],
   "source": [
    "os.listdir(audio + i)"
   ]
  },
  {
   "cell_type": "code",
   "execution_count": 40,
   "metadata": {
    "scrolled": true
   },
   "outputs": [
    {
     "data": {
      "text/html": [
       "<div>\n",
       "<style scoped>\n",
       "    .dataframe tbody tr th:only-of-type {\n",
       "        vertical-align: middle;\n",
       "    }\n",
       "\n",
       "    .dataframe tbody tr th {\n",
       "        vertical-align: top;\n",
       "    }\n",
       "\n",
       "    .dataframe thead th {\n",
       "        text-align: right;\n",
       "    }\n",
       "</style>\n",
       "<table border=\"1\" class=\"dataframe\">\n",
       "  <thead>\n",
       "    <tr style=\"text-align: right;\">\n",
       "      <th></th>\n",
       "      <th>gender</th>\n",
       "      <th>emotion</th>\n",
       "      <th>path</th>\n",
       "    </tr>\n",
       "  </thead>\n",
       "  <tbody>\n",
       "    <tr>\n",
       "      <th>0</th>\n",
       "      <td>male</td>\n",
       "      <td>surprise</td>\n",
       "      <td>/Users/murielkosaka/Desktop/capstone_project/a...</td>\n",
       "    </tr>\n",
       "    <tr>\n",
       "      <th>1</th>\n",
       "      <td>male</td>\n",
       "      <td>surprise</td>\n",
       "      <td>/Users/murielkosaka/Desktop/capstone_project/a...</td>\n",
       "    </tr>\n",
       "    <tr>\n",
       "      <th>2</th>\n",
       "      <td>male</td>\n",
       "      <td>angry</td>\n",
       "      <td>/Users/murielkosaka/Desktop/capstone_project/a...</td>\n",
       "    </tr>\n",
       "    <tr>\n",
       "      <th>3</th>\n",
       "      <td>male</td>\n",
       "      <td>fear</td>\n",
       "      <td>/Users/murielkosaka/Desktop/capstone_project/a...</td>\n",
       "    </tr>\n",
       "    <tr>\n",
       "      <th>4</th>\n",
       "      <td>male</td>\n",
       "      <td>fear</td>\n",
       "      <td>/Users/murielkosaka/Desktop/capstone_project/a...</td>\n",
       "    </tr>\n",
       "    <tr>\n",
       "      <th>...</th>\n",
       "      <td>...</td>\n",
       "      <td>...</td>\n",
       "      <td>...</td>\n",
       "    </tr>\n",
       "    <tr>\n",
       "      <th>1435</th>\n",
       "      <td>female</td>\n",
       "      <td>fear</td>\n",
       "      <td>/Users/murielkosaka/Desktop/capstone_project/a...</td>\n",
       "    </tr>\n",
       "    <tr>\n",
       "      <th>1436</th>\n",
       "      <td>female</td>\n",
       "      <td>fear</td>\n",
       "      <td>/Users/murielkosaka/Desktop/capstone_project/a...</td>\n",
       "    </tr>\n",
       "    <tr>\n",
       "      <th>1437</th>\n",
       "      <td>female</td>\n",
       "      <td>angry</td>\n",
       "      <td>/Users/murielkosaka/Desktop/capstone_project/a...</td>\n",
       "    </tr>\n",
       "    <tr>\n",
       "      <th>1438</th>\n",
       "      <td>female</td>\n",
       "      <td>surprise</td>\n",
       "      <td>/Users/murielkosaka/Desktop/capstone_project/a...</td>\n",
       "    </tr>\n",
       "    <tr>\n",
       "      <th>1439</th>\n",
       "      <td>female</td>\n",
       "      <td>surprise</td>\n",
       "      <td>/Users/murielkosaka/Desktop/capstone_project/a...</td>\n",
       "    </tr>\n",
       "  </tbody>\n",
       "</table>\n",
       "<p>1440 rows × 3 columns</p>\n",
       "</div>"
      ],
      "text/plain": [
       "      gender   emotion                                               path\n",
       "0       male  surprise  /Users/murielkosaka/Desktop/capstone_project/a...\n",
       "1       male  surprise  /Users/murielkosaka/Desktop/capstone_project/a...\n",
       "2       male     angry  /Users/murielkosaka/Desktop/capstone_project/a...\n",
       "3       male      fear  /Users/murielkosaka/Desktop/capstone_project/a...\n",
       "4       male      fear  /Users/murielkosaka/Desktop/capstone_project/a...\n",
       "...      ...       ...                                                ...\n",
       "1435  female      fear  /Users/murielkosaka/Desktop/capstone_project/a...\n",
       "1436  female      fear  /Users/murielkosaka/Desktop/capstone_project/a...\n",
       "1437  female     angry  /Users/murielkosaka/Desktop/capstone_project/a...\n",
       "1438  female  surprise  /Users/murielkosaka/Desktop/capstone_project/a...\n",
       "1439  female  surprise  /Users/murielkosaka/Desktop/capstone_project/a...\n",
       "\n",
       "[1440 rows x 3 columns]"
      ]
     },
     "execution_count": 40,
     "metadata": {},
     "output_type": "execute_result"
    }
   ],
   "source": [
    "audio_df = pd.DataFrame(emotion)\n",
    "audio_df = audio_df.replace({1:'neutral', 2:'calm', 3:'happy', 4:'sad', 5:'angry', 6:'fear', 7:'disgust', 8:'surprise'})\n",
    "audio_df\n",
    "audio_df = pd.concat([pd.DataFrame(gender),audio_df],axis=1)\n",
    "audio_df.columns = ['gender','emotion']\n",
    "# audio_df['labels'] =audio_df.gender + '_' + audio_df.emotion\n",
    "audio_df = pd.concat([audio_df,pd.DataFrame(file_path, columns = ['path'])],axis=1)\n",
    "# audio_df = audio_df.drop(['gender', 'emotion'], axis=1)\n",
    "# audio_df.labels.value_counts()\n",
    "audio_df\n",
    "\n",
    "# audio_df = pd.DataFrame(emotion)\n",
    "# audio_df = audio_df.replace({1:'neutral', 2:'calm', 3:'happy', 4:'sad', 5:'angry', 6:'fear', 7:'disgust', 8:'surprise'})\n",
    "# audio_df = pd.concat([pd.DataFrame(gender),audio_df],axis=1)\n",
    "# audio_df.columns = ['gender','emotion']\n",
    "# audio_df['labels'] =audio_df.gender + '_' + audio_df.emotion\n",
    "# audio_df = pd.concat([audio_df,pd.DataFrame(file_path, columns = ['path'])],axis=1)\n",
    "# audio_df = audio_df.drop(['gender', 'emotion'], axis=1)\n",
    "# audio_df.labels.value_counts()"
   ]
  },
  {
   "cell_type": "code",
   "execution_count": null,
   "metadata": {},
   "outputs": [],
   "source": [
    "audio_df.head()"
   ]
  },
  {
   "cell_type": "code",
   "execution_count": null,
   "metadata": {},
   "outputs": [],
   "source": [
    "audio_df.to_csv('audio.csv')"
   ]
  },
  {
   "cell_type": "code",
   "execution_count": null,
   "metadata": {},
   "outputs": [],
   "source": [
    "\n",
    "os.listdir(audio)"
   ]
  },
  {
   "cell_type": "code",
   "execution_count": null,
   "metadata": {
    "scrolled": false
   },
   "outputs": [],
   "source": [
    "fname = audio + 'Actor_02/03-01-01-01-01-01-02.wav'  #female neutral\n",
    "data_neutral, sr_neutral = librosa.load(fname)\n",
    "plt.figure(figsize=(10, 5))\n",
    "librosa.display.waveplot(data_neutral, sr=sr_neutral)\n",
    "ipd.Audio(fname)"
   ]
  },
  {
   "cell_type": "code",
   "execution_count": null,
   "metadata": {
    "scrolled": false
   },
   "outputs": [],
   "source": [
    "fname = audio + 'Actor_02/03-01-02-01-01-01-02.wav'  #female calm\n",
    "data, sampling_rate = librosa.load(fname)\n",
    "plt.figure(figsize=(10, 5))\n",
    "librosa.display.waveplot(data, sr=sampling_rate)\n",
    "ipd.Audio(fname)\n"
   ]
  },
  {
   "cell_type": "markdown",
   "metadata": {},
   "source": [
    "# MFCC\n",
    "### The mel frequency cepstral coefficients (MFCCs) of a signal are a small set of features (usually about 10–20) which concisely describe the overall shape of a spectral envelope. MFCC is a good \"representation\" of the vocal tract that produces the sound. Think of it like an x-ray of your mouth"
   ]
  },
  {
   "cell_type": "code",
   "execution_count": null,
   "metadata": {},
   "outputs": [],
   "source": [
    "fa_mfcc = librosa.feature.mfcc(y=data_neutral, sr=sr_neutral, n_mfcc=13)\n",
    "plt.figure(figsize=(15, 10))\n",
    "plt.subplot(3,1,1)\n",
    "librosa.display.specshow(fa_mfcc, x_axis='time')\n",
    "plt.ylabel('MFCC')\n",
    "plt.colorbar()"
   ]
  },
  {
   "cell_type": "code",
   "execution_count": null,
   "metadata": {},
   "outputs": [],
   "source": [
    "# MFCC\n",
    "#The mel frequency cepstral coefficients (MFCCs) of a signal are a small set of features \n",
    "#(usually about 10–20) which concisely describe the overall shape of a spectral envelope.\n",
    "# good \"representation\" of the vocal tract that produces the sound. Think of it like an \n",
    "# x-ray of your mouth\n",
    "mfcc = librosa.feature.mfcc(y=data, sr=sampling_rate, n_mfcc=13)\n",
    "\n",
    "plt.figure(figsize=(15, 10))\n",
    "plt.subplot(3,1,1)\n",
    "librosa.display.specshow(mfcc, x_axis='time')\n",
    "plt.ylabel('MFCC')\n",
    "plt.colorbar();"
   ]
  },
  {
   "cell_type": "code",
   "execution_count": null,
   "metadata": {
    "scrolled": true
   },
   "outputs": [],
   "source": [
    "mfcc.shape"
   ]
  },
  {
   "cell_type": "code",
   "execution_count": null,
   "metadata": {},
   "outputs": [],
   "source": []
  },
  {
   "cell_type": "code",
   "execution_count": null,
   "metadata": {},
   "outputs": [],
   "source": [
    "# Male surprised\n",
    "pathh = audio + 'Actor_09/03-01-08-02-02-02-09.wav'\n",
    "X, sample_rate = librosa.load(pathh, res_type='kaiser_fast',duration=2.5,sr=22050*2,offset=0.5)\n",
    "male = librosa.feature.spectral_centroid(y=X, sr=sample_rate)\n",
    "male = np.mean(librosa.feature.spectral_centroid(y=X, sr=sample_rate), axis=0)\n",
    "print(len(male))\n",
    "\n",
    "# Female surprised\n",
    "path= audio + 'Actor_08/03-01-08-02-02-02-08.wav'\n",
    "X, sample_rate = librosa.load(path,duration=2.5,sr=22050*2,offset=0.5)\n",
    "female = librosa.feature.spectral_centroid(y=X, sr=sample_rate)\n",
    "female = np.mean(librosa.feature.spectral_centroid(y=X, sr=sample_rate), axis=0)\n",
    "print(len(female))\n",
    "\n",
    "# Male happy\n",
    "pathh = audio + 'Actor_09/03-01-03-02-02-02-09.wav'\n",
    "X, sample_rate = librosa.load(pathh, res_type='kaiser_fast',duration=2.5,sr=22050*2,offset=0.5)\n",
    "male1 = librosa.feature.spectral_centroid(y=X, sr=sample_rate)\n",
    "male1 = np.mean(librosa.feature.spectral_centroid(y=X, sr=sample_rate), axis=0)\n",
    "print(len(male1))\n",
    "\n",
    "# Female happy\n",
    "path= audio + 'Actor_08/03-01-03-02-02-02-08.wav'\n",
    "X, sample_rate = librosa.load(path,duration=2.5,sr=22050*2,offset=0.5)\n",
    "female1 = librosa.feature.spectral_centroid(y=X, sr=sample_rate)\n",
    "female1 = np.mean(librosa.feature.spectral_centroid(y=X, sr=sample_rate), axis=0)\n",
    "print(len(female1))\n",
    "\n",
    "plt.figure(figsize=(20, 15))\n",
    "plt.subplot(3,1,1)\n",
    "plt.plot(female, label='Female Surprised')\n",
    "plt.plot(male, label='Male Surprised')\n",
    "plt.plot(female1, label='Female happy')\n",
    "plt.plot(male1, label='Male happy')\n",
    "plt.legend()\n",
    "\n"
   ]
  },
  {
   "cell_type": "code",
   "execution_count": null,
   "metadata": {},
   "outputs": [],
   "source": [
    "# Male surprised\n",
    "pathh = audio + 'Actor_09/03-01-08-02-02-02-09.wav'\n",
    "X, sample_rate = librosa.load(pathh, res_type='kaiser_fast',duration=2.5,sr=22050*2,offset=0.5)\n",
    "male = librosa.feature.mfcc(y=X, sr=sample_rate, n_mfcc=13)\n",
    "male = np.mean(librosa.feature.mfcc(y=X, sr=sample_rate, n_mfcc=13), axis=0)\n",
    "print(len(male))\n",
    "\n",
    "# Female surprised\n",
    "path= audio + 'Actor_08/03-01-08-02-02-02-08.wav'\n",
    "X, sample_rate = librosa.load(path,duration=2.5,sr=22050*2,offset=0.5)\n",
    "female = librosa.feature.mfcc(y=X, sr=sample_rate, n_mfcc=13)\n",
    "female = np.mean(librosa.feature.mfcc(y=X, sr=sample_rate, n_mfcc=13), axis=0)\n",
    "print(len(female))\n",
    "\n",
    "plt.figure(figsize=(20, 15))\n",
    "plt.subplot(3,1,1)\n",
    "plt.plot(female, label='Female Surprised')\n",
    "plt.plot(male, label='Male Surprised')\n",
    "plt.legend()\n",
    "\n"
   ]
  },
  {
   "cell_type": "code",
   "execution_count": null,
   "metadata": {},
   "outputs": [],
   "source": [
    "# Spectrogram - how the audio spectrum varies as a function of time\n",
    "spectrogram = librosa.feature.melspectrogram(y=X, sr=sampling_rate)\n",
    "db_spec = librosa.power_to_db(spectrogram, ref=np.max,)\n",
    "librosa.display.specshow(db_spec,y_axis='mel', x_axis='time', sr=sampling_rate)\n",
    "plt.colorbar();"
   ]
  },
  {
   "cell_type": "markdown",
   "metadata": {},
   "source": [
    "## Feature Extraction"
   ]
  },
  {
   "cell_type": "code",
   "execution_count": 133,
   "metadata": {},
   "outputs": [
    {
     "name": "stdout",
     "output_type": "stream",
     "text": [
      "1440\n"
     ]
    },
    {
     "data": {
      "text/html": [
       "<div>\n",
       "<style scoped>\n",
       "    .dataframe tbody tr th:only-of-type {\n",
       "        vertical-align: middle;\n",
       "    }\n",
       "\n",
       "    .dataframe tbody tr th {\n",
       "        vertical-align: top;\n",
       "    }\n",
       "\n",
       "    .dataframe thead th {\n",
       "        text-align: right;\n",
       "    }\n",
       "</style>\n",
       "<table border=\"1\" class=\"dataframe\">\n",
       "  <thead>\n",
       "    <tr style=\"text-align: right;\">\n",
       "      <th></th>\n",
       "      <th>mfcc_feature</th>\n",
       "      <th>spec_feat</th>\n",
       "      <th>chroma_feat</th>\n",
       "    </tr>\n",
       "  </thead>\n",
       "  <tbody>\n",
       "    <tr>\n",
       "      <th>0</th>\n",
       "      <td>[-61.862374191339036, -61.862374191339036, -61...</td>\n",
       "      <td>[1.3741229047718469e-09, 1.5239228189166296e-0...</td>\n",
       "      <td>[0.865426322480605, 0.8620605280897284, 0.7588...</td>\n",
       "    </tr>\n",
       "    <tr>\n",
       "      <th>1</th>\n",
       "      <td>[-61.50800105381538, -61.50800105381538, -61.5...</td>\n",
       "      <td>[0.0, 1.3606633402277747e-11, 6.32103249071507...</td>\n",
       "      <td>[0.0, 0.87482955575437, 0.6967531610081279, 0....</td>\n",
       "    </tr>\n",
       "    <tr>\n",
       "      <th>2</th>\n",
       "      <td>[-55.66308593160217, -56.17033629546251, -56.1...</td>\n",
       "      <td>[1.2350618281001831e-07, 7.426664085773938e-08...</td>\n",
       "      <td>[0.29114246085998124, 0.314183837229905, 0.401...</td>\n",
       "    </tr>\n",
       "    <tr>\n",
       "      <th>3</th>\n",
       "      <td>[-63.52352959684379, -63.52352959684379, -63.5...</td>\n",
       "      <td>[2.440053844431309e-09, 2.478540403723405e-09,...</td>\n",
       "      <td>[0.742726209424653, 0.8283234352310779, 0.8610...</td>\n",
       "    </tr>\n",
       "    <tr>\n",
       "      <th>4</th>\n",
       "      <td>[-43.19739053316282, -44.238600301837614, -43....</td>\n",
       "      <td>[8.924060298953827e-05, 9.056816514606684e-05,...</td>\n",
       "      <td>[0.39732771606750594, 0.38809135998807426, 0.3...</td>\n",
       "    </tr>\n",
       "  </tbody>\n",
       "</table>\n",
       "</div>"
      ],
      "text/plain": [
       "                                        mfcc_feature  \\\n",
       "0  [-61.862374191339036, -61.862374191339036, -61...   \n",
       "1  [-61.50800105381538, -61.50800105381538, -61.5...   \n",
       "2  [-55.66308593160217, -56.17033629546251, -56.1...   \n",
       "3  [-63.52352959684379, -63.52352959684379, -63.5...   \n",
       "4  [-43.19739053316282, -44.238600301837614, -43....   \n",
       "\n",
       "                                           spec_feat  \\\n",
       "0  [1.3741229047718469e-09, 1.5239228189166296e-0...   \n",
       "1  [0.0, 1.3606633402277747e-11, 6.32103249071507...   \n",
       "2  [1.2350618281001831e-07, 7.426664085773938e-08...   \n",
       "3  [2.440053844431309e-09, 2.478540403723405e-09,...   \n",
       "4  [8.924060298953827e-05, 9.056816514606684e-05,...   \n",
       "\n",
       "                                         chroma_feat  \n",
       "0  [0.865426322480605, 0.8620605280897284, 0.7588...  \n",
       "1  [0.0, 0.87482955575437, 0.6967531610081279, 0....  \n",
       "2  [0.29114246085998124, 0.314183837229905, 0.401...  \n",
       "3  [0.742726209424653, 0.8283234352310779, 0.8610...  \n",
       "4  [0.39732771606750594, 0.38809135998807426, 0.3...  "
      ]
     },
     "execution_count": 133,
     "metadata": {},
     "output_type": "execute_result"
    }
   ],
   "source": [
    "df = pd.DataFrame(columns=['mfcc_feature','spec_feat','chroma_feat'])\n",
    "\n",
    "counter=0\n",
    "\n",
    "for index,path in enumerate(audio_df.path):\n",
    "    #get wave representation\n",
    "    X, sample_rate = librosa.load(path, res_type='kaiser_fast',duration=3,sr=44100,offset=0.5)\n",
    "        \n",
    "    #Mel-frequency cepstral coefficients (MFCCs)\n",
    "    mfcc = librosa.feature.mfcc(y=X, sr=sample_rate, n_mfcc=13)\n",
    "    #temporal averaging\n",
    "    mfcc=np.mean(mfcc,axis=0)\n",
    "    \n",
    "    #get the mel-scaled spectrogram ()\n",
    "    spectrogram = librosa.feature.melspectrogram(y=X, sr=sample_rate, n_mels=128,fmax=8000)  \n",
    "    #temporally average spectrogram\n",
    "    spectrogram = np.mean(spectrogram, axis = 0)\n",
    "    \n",
    "#     #compute chroma energy (pertains to 12 different pitch classes)\n",
    "    chroma = librosa.feature.chroma_stft(y=X, sr=sample_rate)\n",
    "    #temporally average chroma\n",
    "    chroma = np.mean(chroma, axis = 0)\n",
    "    \n",
    "    # #compute spectral contrast\n",
    "    # contrast = librosa.feature.spectral_contrast(y=X, sr=sample_rate)\n",
    "    # contrast = np.mean(contrast, axis= 0)\n",
    "\n",
    "    # compute zero-crossing-rate (zcr:the zcr is the rate of sign changes along a signal i.e.m the rate at \n",
    "    # which the signal changes from positive to negative or back - separation of voiced andunvoiced speech.)\n",
    "    # zcr = librosa.feature.zero_crossing_rate(y=X)\n",
    "    # zcr = np.mean(zcr, axis= 0)\n",
    "    \n",
    "    df.loc[counter] = [mfcc, spectrogram,chroma]\n",
    "    counter=counter+1   \n",
    "\n",
    "print(len(df))\n",
    "df.head()"
   ]
  },
  {
   "cell_type": "code",
   "execution_count": null,
   "metadata": {},
   "outputs": [],
   "source": [
    "# def extract_feature(file_name, mfcc, chroma, mel):\n",
    "#     with soundfile.SoundFile(file_name) as sound_file:\n",
    "#         X = sound_file.read(dtype=\"float32\")\n",
    "#         sample_rate=sound_file.samplerate\n",
    "#         if chroma:\n",
    "#             stft=np.abs(librosa.stft(X))\n",
    "#         result=np.array([])\n",
    "#         if mfcc:\n",
    "#             mfccs=np.mean(librosa.feature.mfcc(y=X, sr=sample_rate, n_mfcc=40).T, axis=0)\n",
    "#             result=np.hstack((result, mfccs))\n",
    "#         if chroma:\n",
    "#             chroma=np.mean(librosa.feature.chroma_stft(S=stft, sr=sample_rate).T,axis=0)\n",
    "#             result=np.hstack((result, chroma))\n",
    "#         if mel:\n",
    "#             mel=np.mean(librosa.feature.melspectrogram(X, sr=sample_rate).T,axis=0)\n",
    "#             result=np.hstack((result, mel))"
   ]
  },
  {
   "cell_type": "markdown",
   "metadata": {},
   "source": [
    "## CNN"
   ]
  },
  {
   "cell_type": "code",
   "execution_count": 114,
   "metadata": {},
   "outputs": [],
   "source": [
    "from sklearn.preprocessing import LabelEncoder\n",
    "from keras.utils import np_utils, to_categorical\n",
    "from sklearn.model_selection import train_test_split\n",
    "import keras\n",
    "from keras.models import Sequential, Model, model_from_json\n",
    "from keras.layers import Conv1D, MaxPooling1D, AveragePooling1D\n",
    "from keras.layers import Input, Flatten, Dropout, Activation, BatchNormalization\n",
    "from keras.layers import Dense, Embedding, LSTM"
   ]
  },
  {
   "cell_type": "code",
   "execution_count": 134,
   "metadata": {},
   "outputs": [],
   "source": [
    "# SET MEANS TO THEIR OWN COLUMNS\n",
    "df_combined = pd.concat([audio_df,pd.DataFrame(df['mfcc_feature'].values.tolist()),\n",
    "                         pd.DataFrame(df['chroma_feat'].values.tolist()),\n",
    "                         pd.DataFrame(df['spec_feat'].values.tolist())\n",
    "                         ],axis=1)\n",
    "df_combined = df_combined.fillna(0)"
   ]
  },
  {
   "cell_type": "code",
   "execution_count": 135,
   "metadata": {},
   "outputs": [],
   "source": [
    "df_combined.drop(columns='gender',inplace=True)"
   ]
  },
  {
   "cell_type": "code",
   "execution_count": 136,
   "metadata": {},
   "outputs": [
    {
     "data": {
      "text/html": [
       "<div>\n",
       "<style scoped>\n",
       "    .dataframe tbody tr th:only-of-type {\n",
       "        vertical-align: middle;\n",
       "    }\n",
       "\n",
       "    .dataframe tbody tr th {\n",
       "        vertical-align: top;\n",
       "    }\n",
       "\n",
       "    .dataframe thead th {\n",
       "        text-align: right;\n",
       "    }\n",
       "</style>\n",
       "<table border=\"1\" class=\"dataframe\">\n",
       "  <thead>\n",
       "    <tr style=\"text-align: right;\">\n",
       "      <th></th>\n",
       "      <th>emotion</th>\n",
       "      <th>path</th>\n",
       "      <th>0</th>\n",
       "      <th>1</th>\n",
       "      <th>2</th>\n",
       "      <th>3</th>\n",
       "      <th>4</th>\n",
       "      <th>5</th>\n",
       "      <th>6</th>\n",
       "      <th>7</th>\n",
       "      <th>...</th>\n",
       "      <th>249</th>\n",
       "      <th>250</th>\n",
       "      <th>251</th>\n",
       "      <th>252</th>\n",
       "      <th>253</th>\n",
       "      <th>254</th>\n",
       "      <th>255</th>\n",
       "      <th>256</th>\n",
       "      <th>257</th>\n",
       "      <th>258</th>\n",
       "    </tr>\n",
       "  </thead>\n",
       "  <tbody>\n",
       "    <tr>\n",
       "      <th>0</th>\n",
       "      <td>surprise</td>\n",
       "      <td>/Users/murielkosaka/Desktop/capstone_project/a...</td>\n",
       "      <td>-61.862374</td>\n",
       "      <td>-61.862374</td>\n",
       "      <td>-61.862374</td>\n",
       "      <td>-61.862374</td>\n",
       "      <td>-61.862374</td>\n",
       "      <td>-61.862374</td>\n",
       "      <td>-61.862374</td>\n",
       "      <td>-61.862374</td>\n",
       "      <td>...</td>\n",
       "      <td>2.040609e-11</td>\n",
       "      <td>2.028449e-11</td>\n",
       "      <td>3.195879e-11</td>\n",
       "      <td>2.476433e-12</td>\n",
       "      <td>6.167496e-11</td>\n",
       "      <td>1.374700e-10</td>\n",
       "      <td>5.418467e-11</td>\n",
       "      <td>1.486475e-10</td>\n",
       "      <td>1.671580e-10</td>\n",
       "      <td>9.214651e-12</td>\n",
       "    </tr>\n",
       "    <tr>\n",
       "      <th>1</th>\n",
       "      <td>surprise</td>\n",
       "      <td>/Users/murielkosaka/Desktop/capstone_project/a...</td>\n",
       "      <td>-61.508001</td>\n",
       "      <td>-61.508001</td>\n",
       "      <td>-61.508001</td>\n",
       "      <td>-61.508001</td>\n",
       "      <td>-61.508001</td>\n",
       "      <td>-61.508001</td>\n",
       "      <td>-61.508001</td>\n",
       "      <td>-61.508001</td>\n",
       "      <td>...</td>\n",
       "      <td>1.684405e-10</td>\n",
       "      <td>1.812914e-10</td>\n",
       "      <td>0.000000e+00</td>\n",
       "      <td>0.000000e+00</td>\n",
       "      <td>0.000000e+00</td>\n",
       "      <td>0.000000e+00</td>\n",
       "      <td>0.000000e+00</td>\n",
       "      <td>0.000000e+00</td>\n",
       "      <td>0.000000e+00</td>\n",
       "      <td>0.000000e+00</td>\n",
       "    </tr>\n",
       "    <tr>\n",
       "      <th>2</th>\n",
       "      <td>angry</td>\n",
       "      <td>/Users/murielkosaka/Desktop/capstone_project/a...</td>\n",
       "      <td>-55.663086</td>\n",
       "      <td>-56.170336</td>\n",
       "      <td>-56.157848</td>\n",
       "      <td>-54.663471</td>\n",
       "      <td>-55.166778</td>\n",
       "      <td>-56.156944</td>\n",
       "      <td>-56.156944</td>\n",
       "      <td>-56.156944</td>\n",
       "      <td>...</td>\n",
       "      <td>5.313996e-11</td>\n",
       "      <td>2.290157e-10</td>\n",
       "      <td>2.298775e-09</td>\n",
       "      <td>6.499785e-09</td>\n",
       "      <td>2.434586e-08</td>\n",
       "      <td>3.582143e-08</td>\n",
       "      <td>8.971266e-09</td>\n",
       "      <td>1.244140e-08</td>\n",
       "      <td>3.891506e-08</td>\n",
       "      <td>2.646189e-08</td>\n",
       "    </tr>\n",
       "    <tr>\n",
       "      <th>3</th>\n",
       "      <td>fear</td>\n",
       "      <td>/Users/murielkosaka/Desktop/capstone_project/a...</td>\n",
       "      <td>-63.523530</td>\n",
       "      <td>-63.523530</td>\n",
       "      <td>-63.523530</td>\n",
       "      <td>-63.523530</td>\n",
       "      <td>-63.523530</td>\n",
       "      <td>-63.377373</td>\n",
       "      <td>-61.595853</td>\n",
       "      <td>-63.160227</td>\n",
       "      <td>...</td>\n",
       "      <td>2.531549e-08</td>\n",
       "      <td>1.924894e-08</td>\n",
       "      <td>1.741787e-08</td>\n",
       "      <td>1.225668e-08</td>\n",
       "      <td>7.529888e-09</td>\n",
       "      <td>5.454092e-09</td>\n",
       "      <td>6.819510e-09</td>\n",
       "      <td>1.796941e-08</td>\n",
       "      <td>1.751192e-08</td>\n",
       "      <td>7.574554e-09</td>\n",
       "    </tr>\n",
       "    <tr>\n",
       "      <th>4</th>\n",
       "      <td>fear</td>\n",
       "      <td>/Users/murielkosaka/Desktop/capstone_project/a...</td>\n",
       "      <td>-43.197391</td>\n",
       "      <td>-44.238600</td>\n",
       "      <td>-43.996203</td>\n",
       "      <td>-44.132351</td>\n",
       "      <td>-44.267863</td>\n",
       "      <td>-44.346034</td>\n",
       "      <td>-44.142895</td>\n",
       "      <td>-44.255212</td>\n",
       "      <td>...</td>\n",
       "      <td>1.008777e-04</td>\n",
       "      <td>1.028079e-04</td>\n",
       "      <td>9.480856e-05</td>\n",
       "      <td>1.000125e-04</td>\n",
       "      <td>1.159116e-04</td>\n",
       "      <td>9.352593e-05</td>\n",
       "      <td>7.361985e-05</td>\n",
       "      <td>5.787774e-05</td>\n",
       "      <td>4.664970e-05</td>\n",
       "      <td>4.228274e-05</td>\n",
       "    </tr>\n",
       "  </tbody>\n",
       "</table>\n",
       "<p>5 rows × 779 columns</p>\n",
       "</div>"
      ],
      "text/plain": [
       "    emotion                                               path          0  \\\n",
       "0  surprise  /Users/murielkosaka/Desktop/capstone_project/a... -61.862374   \n",
       "1  surprise  /Users/murielkosaka/Desktop/capstone_project/a... -61.508001   \n",
       "2     angry  /Users/murielkosaka/Desktop/capstone_project/a... -55.663086   \n",
       "3      fear  /Users/murielkosaka/Desktop/capstone_project/a... -63.523530   \n",
       "4      fear  /Users/murielkosaka/Desktop/capstone_project/a... -43.197391   \n",
       "\n",
       "           1          2          3          4          5          6  \\\n",
       "0 -61.862374 -61.862374 -61.862374 -61.862374 -61.862374 -61.862374   \n",
       "1 -61.508001 -61.508001 -61.508001 -61.508001 -61.508001 -61.508001   \n",
       "2 -56.170336 -56.157848 -54.663471 -55.166778 -56.156944 -56.156944   \n",
       "3 -63.523530 -63.523530 -63.523530 -63.523530 -63.377373 -61.595853   \n",
       "4 -44.238600 -43.996203 -44.132351 -44.267863 -44.346034 -44.142895   \n",
       "\n",
       "           7  ...           249           250           251           252  \\\n",
       "0 -61.862374  ...  2.040609e-11  2.028449e-11  3.195879e-11  2.476433e-12   \n",
       "1 -61.508001  ...  1.684405e-10  1.812914e-10  0.000000e+00  0.000000e+00   \n",
       "2 -56.156944  ...  5.313996e-11  2.290157e-10  2.298775e-09  6.499785e-09   \n",
       "3 -63.160227  ...  2.531549e-08  1.924894e-08  1.741787e-08  1.225668e-08   \n",
       "4 -44.255212  ...  1.008777e-04  1.028079e-04  9.480856e-05  1.000125e-04   \n",
       "\n",
       "            253           254           255           256           257  \\\n",
       "0  6.167496e-11  1.374700e-10  5.418467e-11  1.486475e-10  1.671580e-10   \n",
       "1  0.000000e+00  0.000000e+00  0.000000e+00  0.000000e+00  0.000000e+00   \n",
       "2  2.434586e-08  3.582143e-08  8.971266e-09  1.244140e-08  3.891506e-08   \n",
       "3  7.529888e-09  5.454092e-09  6.819510e-09  1.796941e-08  1.751192e-08   \n",
       "4  1.159116e-04  9.352593e-05  7.361985e-05  5.787774e-05  4.664970e-05   \n",
       "\n",
       "            258  \n",
       "0  9.214651e-12  \n",
       "1  0.000000e+00  \n",
       "2  2.646189e-08  \n",
       "3  7.574554e-09  \n",
       "4  4.228274e-05  \n",
       "\n",
       "[5 rows x 779 columns]"
      ]
     },
     "execution_count": 136,
     "metadata": {},
     "output_type": "execute_result"
    }
   ],
   "source": [
    "df_combined.head()"
   ]
  },
  {
   "cell_type": "code",
   "execution_count": null,
   "metadata": {
    "scrolled": false
   },
   "outputs": [],
   "source": [
    "# SET MEANS TO THEIR OWN COLUMNS\n",
    "\n",
    "df_combined = pd.concat([audio_df,pd.DataFrame(df['mfcc_feature'].values.tolist()),pd.DataFrame(df_chroma['chroma_feat'].values.tolist())],axis=1)\n",
    "df_combined.head()"
   ]
  },
  {
   "cell_type": "code",
   "execution_count": null,
   "metadata": {
    "scrolled": true
   },
   "outputs": [],
   "source": [
    "# SET MEANS TO THEIR OWN COLUMNS\n",
    "df = pd.concat([audio_df,pd.DataFrame(df['mfcc_feature'].values.tolist())],axis=1)\n",
    "df=df.fillna(0)"
   ]
  },
  {
   "cell_type": "code",
   "execution_count": 137,
   "metadata": {
    "scrolled": false
   },
   "outputs": [
    {
     "data": {
      "text/html": [
       "<div>\n",
       "<style scoped>\n",
       "    .dataframe tbody tr th:only-of-type {\n",
       "        vertical-align: middle;\n",
       "    }\n",
       "\n",
       "    .dataframe tbody tr th {\n",
       "        vertical-align: top;\n",
       "    }\n",
       "\n",
       "    .dataframe thead th {\n",
       "        text-align: right;\n",
       "    }\n",
       "</style>\n",
       "<table border=\"1\" class=\"dataframe\">\n",
       "  <thead>\n",
       "    <tr style=\"text-align: right;\">\n",
       "      <th></th>\n",
       "      <th>0</th>\n",
       "      <th>1</th>\n",
       "      <th>2</th>\n",
       "      <th>3</th>\n",
       "      <th>4</th>\n",
       "      <th>5</th>\n",
       "      <th>6</th>\n",
       "      <th>7</th>\n",
       "      <th>8</th>\n",
       "      <th>9</th>\n",
       "      <th>...</th>\n",
       "      <th>249</th>\n",
       "      <th>250</th>\n",
       "      <th>251</th>\n",
       "      <th>252</th>\n",
       "      <th>253</th>\n",
       "      <th>254</th>\n",
       "      <th>255</th>\n",
       "      <th>256</th>\n",
       "      <th>257</th>\n",
       "      <th>258</th>\n",
       "    </tr>\n",
       "  </thead>\n",
       "  <tbody>\n",
       "    <tr>\n",
       "      <th>0</th>\n",
       "      <td>-61.862374</td>\n",
       "      <td>-61.862374</td>\n",
       "      <td>-61.862374</td>\n",
       "      <td>-61.862374</td>\n",
       "      <td>-61.862374</td>\n",
       "      <td>-61.862374</td>\n",
       "      <td>-61.862374</td>\n",
       "      <td>-61.862374</td>\n",
       "      <td>-61.862374</td>\n",
       "      <td>-61.862374</td>\n",
       "      <td>...</td>\n",
       "      <td>2.040609e-11</td>\n",
       "      <td>2.028449e-11</td>\n",
       "      <td>3.195879e-11</td>\n",
       "      <td>2.476433e-12</td>\n",
       "      <td>6.167496e-11</td>\n",
       "      <td>1.374700e-10</td>\n",
       "      <td>5.418467e-11</td>\n",
       "      <td>1.486475e-10</td>\n",
       "      <td>1.671580e-10</td>\n",
       "      <td>9.214651e-12</td>\n",
       "    </tr>\n",
       "    <tr>\n",
       "      <th>1</th>\n",
       "      <td>-61.508001</td>\n",
       "      <td>-61.508001</td>\n",
       "      <td>-61.508001</td>\n",
       "      <td>-61.508001</td>\n",
       "      <td>-61.508001</td>\n",
       "      <td>-61.508001</td>\n",
       "      <td>-61.508001</td>\n",
       "      <td>-61.508001</td>\n",
       "      <td>-61.508001</td>\n",
       "      <td>-61.508001</td>\n",
       "      <td>...</td>\n",
       "      <td>1.684405e-10</td>\n",
       "      <td>1.812914e-10</td>\n",
       "      <td>0.000000e+00</td>\n",
       "      <td>0.000000e+00</td>\n",
       "      <td>0.000000e+00</td>\n",
       "      <td>0.000000e+00</td>\n",
       "      <td>0.000000e+00</td>\n",
       "      <td>0.000000e+00</td>\n",
       "      <td>0.000000e+00</td>\n",
       "      <td>0.000000e+00</td>\n",
       "    </tr>\n",
       "    <tr>\n",
       "      <th>2</th>\n",
       "      <td>-55.663086</td>\n",
       "      <td>-56.170336</td>\n",
       "      <td>-56.157848</td>\n",
       "      <td>-54.663471</td>\n",
       "      <td>-55.166778</td>\n",
       "      <td>-56.156944</td>\n",
       "      <td>-56.156944</td>\n",
       "      <td>-56.156944</td>\n",
       "      <td>-56.156944</td>\n",
       "      <td>-56.156944</td>\n",
       "      <td>...</td>\n",
       "      <td>5.313996e-11</td>\n",
       "      <td>2.290157e-10</td>\n",
       "      <td>2.298775e-09</td>\n",
       "      <td>6.499785e-09</td>\n",
       "      <td>2.434586e-08</td>\n",
       "      <td>3.582143e-08</td>\n",
       "      <td>8.971266e-09</td>\n",
       "      <td>1.244140e-08</td>\n",
       "      <td>3.891506e-08</td>\n",
       "      <td>2.646189e-08</td>\n",
       "    </tr>\n",
       "    <tr>\n",
       "      <th>3</th>\n",
       "      <td>-63.523530</td>\n",
       "      <td>-63.523530</td>\n",
       "      <td>-63.523530</td>\n",
       "      <td>-63.523530</td>\n",
       "      <td>-63.523530</td>\n",
       "      <td>-63.377373</td>\n",
       "      <td>-61.595853</td>\n",
       "      <td>-63.160227</td>\n",
       "      <td>-63.523530</td>\n",
       "      <td>-63.523530</td>\n",
       "      <td>...</td>\n",
       "      <td>2.531549e-08</td>\n",
       "      <td>1.924894e-08</td>\n",
       "      <td>1.741787e-08</td>\n",
       "      <td>1.225668e-08</td>\n",
       "      <td>7.529888e-09</td>\n",
       "      <td>5.454092e-09</td>\n",
       "      <td>6.819510e-09</td>\n",
       "      <td>1.796941e-08</td>\n",
       "      <td>1.751192e-08</td>\n",
       "      <td>7.574554e-09</td>\n",
       "    </tr>\n",
       "    <tr>\n",
       "      <th>4</th>\n",
       "      <td>-43.197391</td>\n",
       "      <td>-44.238600</td>\n",
       "      <td>-43.996203</td>\n",
       "      <td>-44.132351</td>\n",
       "      <td>-44.267863</td>\n",
       "      <td>-44.346034</td>\n",
       "      <td>-44.142895</td>\n",
       "      <td>-44.255212</td>\n",
       "      <td>-43.666567</td>\n",
       "      <td>-43.591595</td>\n",
       "      <td>...</td>\n",
       "      <td>1.008777e-04</td>\n",
       "      <td>1.028079e-04</td>\n",
       "      <td>9.480856e-05</td>\n",
       "      <td>1.000125e-04</td>\n",
       "      <td>1.159116e-04</td>\n",
       "      <td>9.352593e-05</td>\n",
       "      <td>7.361985e-05</td>\n",
       "      <td>5.787774e-05</td>\n",
       "      <td>4.664970e-05</td>\n",
       "      <td>4.228274e-05</td>\n",
       "    </tr>\n",
       "  </tbody>\n",
       "</table>\n",
       "<p>5 rows × 777 columns</p>\n",
       "</div>"
      ],
      "text/plain": [
       "         0          1          2          3          4          5    \\\n",
       "0 -61.862374 -61.862374 -61.862374 -61.862374 -61.862374 -61.862374   \n",
       "1 -61.508001 -61.508001 -61.508001 -61.508001 -61.508001 -61.508001   \n",
       "2 -55.663086 -56.170336 -56.157848 -54.663471 -55.166778 -56.156944   \n",
       "3 -63.523530 -63.523530 -63.523530 -63.523530 -63.523530 -63.377373   \n",
       "4 -43.197391 -44.238600 -43.996203 -44.132351 -44.267863 -44.346034   \n",
       "\n",
       "         6          7          8          9    ...           249  \\\n",
       "0 -61.862374 -61.862374 -61.862374 -61.862374  ...  2.040609e-11   \n",
       "1 -61.508001 -61.508001 -61.508001 -61.508001  ...  1.684405e-10   \n",
       "2 -56.156944 -56.156944 -56.156944 -56.156944  ...  5.313996e-11   \n",
       "3 -61.595853 -63.160227 -63.523530 -63.523530  ...  2.531549e-08   \n",
       "4 -44.142895 -44.255212 -43.666567 -43.591595  ...  1.008777e-04   \n",
       "\n",
       "            250           251           252           253           254  \\\n",
       "0  2.028449e-11  3.195879e-11  2.476433e-12  6.167496e-11  1.374700e-10   \n",
       "1  1.812914e-10  0.000000e+00  0.000000e+00  0.000000e+00  0.000000e+00   \n",
       "2  2.290157e-10  2.298775e-09  6.499785e-09  2.434586e-08  3.582143e-08   \n",
       "3  1.924894e-08  1.741787e-08  1.225668e-08  7.529888e-09  5.454092e-09   \n",
       "4  1.028079e-04  9.480856e-05  1.000125e-04  1.159116e-04  9.352593e-05   \n",
       "\n",
       "            255           256           257           258  \n",
       "0  5.418467e-11  1.486475e-10  1.671580e-10  9.214651e-12  \n",
       "1  0.000000e+00  0.000000e+00  0.000000e+00  0.000000e+00  \n",
       "2  8.971266e-09  1.244140e-08  3.891506e-08  2.646189e-08  \n",
       "3  6.819510e-09  1.796941e-08  1.751192e-08  7.574554e-09  \n",
       "4  7.361985e-05  5.787774e-05  4.664970e-05  4.228274e-05  \n",
       "\n",
       "[5 rows x 777 columns]"
      ]
     },
     "execution_count": 137,
     "metadata": {},
     "output_type": "execute_result"
    }
   ],
   "source": [
    "# TRAIN TEST SPLIT\n",
    "X_train, X_test, y_train, y_test = train_test_split(df_combined.drop(['path','emotion'],axis=1)\n",
    "                                                    , df_combined.emotion\n",
    "                                                    , test_size=0.25\n",
    "                                                    , shuffle=False\n",
    "                                                    , random_state=42\n",
    "                                                   )\n",
    "\n",
    "X_train.head()"
   ]
  },
  {
   "cell_type": "code",
   "execution_count": 138,
   "metadata": {},
   "outputs": [
    {
     "data": {
      "text/html": [
       "<div>\n",
       "<style scoped>\n",
       "    .dataframe tbody tr th:only-of-type {\n",
       "        vertical-align: middle;\n",
       "    }\n",
       "\n",
       "    .dataframe tbody tr th {\n",
       "        vertical-align: top;\n",
       "    }\n",
       "\n",
       "    .dataframe thead th {\n",
       "        text-align: right;\n",
       "    }\n",
       "</style>\n",
       "<table border=\"1\" class=\"dataframe\">\n",
       "  <thead>\n",
       "    <tr style=\"text-align: right;\">\n",
       "      <th></th>\n",
       "      <th>0</th>\n",
       "      <th>1</th>\n",
       "      <th>2</th>\n",
       "      <th>3</th>\n",
       "      <th>4</th>\n",
       "      <th>5</th>\n",
       "      <th>6</th>\n",
       "      <th>7</th>\n",
       "      <th>8</th>\n",
       "      <th>9</th>\n",
       "      <th>...</th>\n",
       "      <th>249</th>\n",
       "      <th>250</th>\n",
       "      <th>251</th>\n",
       "      <th>252</th>\n",
       "      <th>253</th>\n",
       "      <th>254</th>\n",
       "      <th>255</th>\n",
       "      <th>256</th>\n",
       "      <th>257</th>\n",
       "      <th>258</th>\n",
       "    </tr>\n",
       "  </thead>\n",
       "  <tbody>\n",
       "    <tr>\n",
       "      <th>150</th>\n",
       "      <td>1.860439</td>\n",
       "      <td>1.646547</td>\n",
       "      <td>1.625259</td>\n",
       "      <td>1.630015</td>\n",
       "      <td>1.615211</td>\n",
       "      <td>2.221735</td>\n",
       "      <td>2.881991</td>\n",
       "      <td>3.128599</td>\n",
       "      <td>2.799683</td>\n",
       "      <td>2.708658</td>\n",
       "      <td>...</td>\n",
       "      <td>-0.057948</td>\n",
       "      <td>-0.059032</td>\n",
       "      <td>-0.062371</td>\n",
       "      <td>-0.065568</td>\n",
       "      <td>-0.063540</td>\n",
       "      <td>-0.060731</td>\n",
       "      <td>-0.057958</td>\n",
       "      <td>-0.058134</td>\n",
       "      <td>-0.056757</td>\n",
       "      <td>-0.054036</td>\n",
       "    </tr>\n",
       "    <tr>\n",
       "      <th>151</th>\n",
       "      <td>-0.251443</td>\n",
       "      <td>-0.268598</td>\n",
       "      <td>-0.326715</td>\n",
       "      <td>-0.315636</td>\n",
       "      <td>-0.154919</td>\n",
       "      <td>-0.195329</td>\n",
       "      <td>-0.300030</td>\n",
       "      <td>-0.325681</td>\n",
       "      <td>-0.350304</td>\n",
       "      <td>-0.358490</td>\n",
       "      <td>...</td>\n",
       "      <td>-0.072325</td>\n",
       "      <td>-0.064139</td>\n",
       "      <td>-0.065155</td>\n",
       "      <td>-0.066837</td>\n",
       "      <td>-0.065262</td>\n",
       "      <td>-0.061913</td>\n",
       "      <td>-0.058914</td>\n",
       "      <td>-0.059409</td>\n",
       "      <td>-0.057931</td>\n",
       "      <td>-0.054738</td>\n",
       "    </tr>\n",
       "    <tr>\n",
       "      <th>152</th>\n",
       "      <td>-0.150055</td>\n",
       "      <td>-0.144817</td>\n",
       "      <td>-0.283172</td>\n",
       "      <td>-0.405642</td>\n",
       "      <td>-0.265444</td>\n",
       "      <td>-0.105165</td>\n",
       "      <td>-0.131269</td>\n",
       "      <td>-0.262507</td>\n",
       "      <td>-0.329080</td>\n",
       "      <td>-0.439035</td>\n",
       "      <td>...</td>\n",
       "      <td>-0.072263</td>\n",
       "      <td>-0.064106</td>\n",
       "      <td>-0.065051</td>\n",
       "      <td>-0.066608</td>\n",
       "      <td>-0.064920</td>\n",
       "      <td>-0.061577</td>\n",
       "      <td>-0.058659</td>\n",
       "      <td>-0.059219</td>\n",
       "      <td>-0.057831</td>\n",
       "      <td>-0.054660</td>\n",
       "    </tr>\n",
       "    <tr>\n",
       "      <th>153</th>\n",
       "      <td>-0.540839</td>\n",
       "      <td>-0.570932</td>\n",
       "      <td>-0.573546</td>\n",
       "      <td>-0.572807</td>\n",
       "      <td>-0.572471</td>\n",
       "      <td>-0.575050</td>\n",
       "      <td>-0.570308</td>\n",
       "      <td>-0.566397</td>\n",
       "      <td>-0.578047</td>\n",
       "      <td>-0.580683</td>\n",
       "      <td>...</td>\n",
       "      <td>-0.066721</td>\n",
       "      <td>-0.060243</td>\n",
       "      <td>-0.062647</td>\n",
       "      <td>-0.065437</td>\n",
       "      <td>-0.064588</td>\n",
       "      <td>-0.061577</td>\n",
       "      <td>-0.058743</td>\n",
       "      <td>-0.059308</td>\n",
       "      <td>-0.057878</td>\n",
       "      <td>-0.054732</td>\n",
       "    </tr>\n",
       "    <tr>\n",
       "      <th>154</th>\n",
       "      <td>-1.069451</td>\n",
       "      <td>-1.110693</td>\n",
       "      <td>-1.115849</td>\n",
       "      <td>-1.119553</td>\n",
       "      <td>-1.115025</td>\n",
       "      <td>-1.114022</td>\n",
       "      <td>-1.100614</td>\n",
       "      <td>-1.094594</td>\n",
       "      <td>-1.108360</td>\n",
       "      <td>-1.109855</td>\n",
       "      <td>...</td>\n",
       "      <td>-0.072361</td>\n",
       "      <td>-0.064169</td>\n",
       "      <td>-0.065185</td>\n",
       "      <td>-0.066870</td>\n",
       "      <td>-0.065285</td>\n",
       "      <td>-0.061929</td>\n",
       "      <td>-0.058922</td>\n",
       "      <td>-0.059412</td>\n",
       "      <td>-0.057935</td>\n",
       "      <td>-0.054746</td>\n",
       "    </tr>\n",
       "    <tr>\n",
       "      <th>155</th>\n",
       "      <td>-0.325357</td>\n",
       "      <td>-0.358062</td>\n",
       "      <td>-0.373064</td>\n",
       "      <td>-0.359625</td>\n",
       "      <td>-0.278754</td>\n",
       "      <td>-0.258015</td>\n",
       "      <td>-0.362443</td>\n",
       "      <td>-0.356551</td>\n",
       "      <td>-0.361104</td>\n",
       "      <td>-0.368342</td>\n",
       "      <td>...</td>\n",
       "      <td>-0.072360</td>\n",
       "      <td>-0.064169</td>\n",
       "      <td>-0.065185</td>\n",
       "      <td>-0.066870</td>\n",
       "      <td>-0.065279</td>\n",
       "      <td>-0.061913</td>\n",
       "      <td>-0.058893</td>\n",
       "      <td>-0.059386</td>\n",
       "      <td>-0.057899</td>\n",
       "      <td>-0.054680</td>\n",
       "    </tr>\n",
       "    <tr>\n",
       "      <th>156</th>\n",
       "      <td>-0.017271</td>\n",
       "      <td>-0.016484</td>\n",
       "      <td>-0.021907</td>\n",
       "      <td>-0.077599</td>\n",
       "      <td>-0.043242</td>\n",
       "      <td>0.036738</td>\n",
       "      <td>0.040097</td>\n",
       "      <td>0.020280</td>\n",
       "      <td>0.034211</td>\n",
       "      <td>-0.024187</td>\n",
       "      <td>...</td>\n",
       "      <td>-0.072275</td>\n",
       "      <td>-0.064118</td>\n",
       "      <td>-0.065155</td>\n",
       "      <td>-0.066844</td>\n",
       "      <td>-0.065263</td>\n",
       "      <td>-0.061919</td>\n",
       "      <td>-0.058916</td>\n",
       "      <td>-0.059410</td>\n",
       "      <td>-0.057933</td>\n",
       "      <td>-0.054745</td>\n",
       "    </tr>\n",
       "    <tr>\n",
       "      <th>157</th>\n",
       "      <td>1.727010</td>\n",
       "      <td>1.664644</td>\n",
       "      <td>1.635203</td>\n",
       "      <td>1.618345</td>\n",
       "      <td>1.637263</td>\n",
       "      <td>1.668740</td>\n",
       "      <td>1.700971</td>\n",
       "      <td>1.627442</td>\n",
       "      <td>1.677243</td>\n",
       "      <td>1.665321</td>\n",
       "      <td>...</td>\n",
       "      <td>1.869282</td>\n",
       "      <td>1.108275</td>\n",
       "      <td>1.474828</td>\n",
       "      <td>1.825141</td>\n",
       "      <td>1.383429</td>\n",
       "      <td>0.315265</td>\n",
       "      <td>0.041801</td>\n",
       "      <td>0.000916</td>\n",
       "      <td>-0.014659</td>\n",
       "      <td>-0.024607</td>\n",
       "    </tr>\n",
       "    <tr>\n",
       "      <th>158</th>\n",
       "      <td>3.928042</td>\n",
       "      <td>3.772271</td>\n",
       "      <td>3.734206</td>\n",
       "      <td>3.987709</td>\n",
       "      <td>4.192950</td>\n",
       "      <td>4.343095</td>\n",
       "      <td>4.272212</td>\n",
       "      <td>3.763718</td>\n",
       "      <td>3.550771</td>\n",
       "      <td>3.776200</td>\n",
       "      <td>...</td>\n",
       "      <td>-0.072362</td>\n",
       "      <td>-0.064171</td>\n",
       "      <td>-0.065187</td>\n",
       "      <td>-0.066872</td>\n",
       "      <td>-0.065286</td>\n",
       "      <td>-0.061930</td>\n",
       "      <td>-0.058923</td>\n",
       "      <td>-0.059414</td>\n",
       "      <td>-0.057937</td>\n",
       "      <td>-0.054747</td>\n",
       "    </tr>\n",
       "    <tr>\n",
       "      <th>159</th>\n",
       "      <td>-1.427528</td>\n",
       "      <td>-1.445043</td>\n",
       "      <td>-1.461981</td>\n",
       "      <td>-1.460395</td>\n",
       "      <td>-1.358151</td>\n",
       "      <td>-1.412326</td>\n",
       "      <td>-1.455841</td>\n",
       "      <td>-1.448409</td>\n",
       "      <td>-1.463592</td>\n",
       "      <td>-1.464324</td>\n",
       "      <td>...</td>\n",
       "      <td>-0.072348</td>\n",
       "      <td>-0.064158</td>\n",
       "      <td>-0.065171</td>\n",
       "      <td>-0.066853</td>\n",
       "      <td>-0.065274</td>\n",
       "      <td>-0.061916</td>\n",
       "      <td>-0.058908</td>\n",
       "      <td>-0.059401</td>\n",
       "      <td>-0.057927</td>\n",
       "      <td>-0.054734</td>\n",
       "    </tr>\n",
       "  </tbody>\n",
       "</table>\n",
       "<p>10 rows × 777 columns</p>\n",
       "</div>"
      ],
      "text/plain": [
       "          0         1         2         3         4         5         6    \\\n",
       "150  1.860439  1.646547  1.625259  1.630015  1.615211  2.221735  2.881991   \n",
       "151 -0.251443 -0.268598 -0.326715 -0.315636 -0.154919 -0.195329 -0.300030   \n",
       "152 -0.150055 -0.144817 -0.283172 -0.405642 -0.265444 -0.105165 -0.131269   \n",
       "153 -0.540839 -0.570932 -0.573546 -0.572807 -0.572471 -0.575050 -0.570308   \n",
       "154 -1.069451 -1.110693 -1.115849 -1.119553 -1.115025 -1.114022 -1.100614   \n",
       "155 -0.325357 -0.358062 -0.373064 -0.359625 -0.278754 -0.258015 -0.362443   \n",
       "156 -0.017271 -0.016484 -0.021907 -0.077599 -0.043242  0.036738  0.040097   \n",
       "157  1.727010  1.664644  1.635203  1.618345  1.637263  1.668740  1.700971   \n",
       "158  3.928042  3.772271  3.734206  3.987709  4.192950  4.343095  4.272212   \n",
       "159 -1.427528 -1.445043 -1.461981 -1.460395 -1.358151 -1.412326 -1.455841   \n",
       "\n",
       "          7         8         9    ...       249       250       251  \\\n",
       "150  3.128599  2.799683  2.708658  ... -0.057948 -0.059032 -0.062371   \n",
       "151 -0.325681 -0.350304 -0.358490  ... -0.072325 -0.064139 -0.065155   \n",
       "152 -0.262507 -0.329080 -0.439035  ... -0.072263 -0.064106 -0.065051   \n",
       "153 -0.566397 -0.578047 -0.580683  ... -0.066721 -0.060243 -0.062647   \n",
       "154 -1.094594 -1.108360 -1.109855  ... -0.072361 -0.064169 -0.065185   \n",
       "155 -0.356551 -0.361104 -0.368342  ... -0.072360 -0.064169 -0.065185   \n",
       "156  0.020280  0.034211 -0.024187  ... -0.072275 -0.064118 -0.065155   \n",
       "157  1.627442  1.677243  1.665321  ...  1.869282  1.108275  1.474828   \n",
       "158  3.763718  3.550771  3.776200  ... -0.072362 -0.064171 -0.065187   \n",
       "159 -1.448409 -1.463592 -1.464324  ... -0.072348 -0.064158 -0.065171   \n",
       "\n",
       "          252       253       254       255       256       257       258  \n",
       "150 -0.065568 -0.063540 -0.060731 -0.057958 -0.058134 -0.056757 -0.054036  \n",
       "151 -0.066837 -0.065262 -0.061913 -0.058914 -0.059409 -0.057931 -0.054738  \n",
       "152 -0.066608 -0.064920 -0.061577 -0.058659 -0.059219 -0.057831 -0.054660  \n",
       "153 -0.065437 -0.064588 -0.061577 -0.058743 -0.059308 -0.057878 -0.054732  \n",
       "154 -0.066870 -0.065285 -0.061929 -0.058922 -0.059412 -0.057935 -0.054746  \n",
       "155 -0.066870 -0.065279 -0.061913 -0.058893 -0.059386 -0.057899 -0.054680  \n",
       "156 -0.066844 -0.065263 -0.061919 -0.058916 -0.059410 -0.057933 -0.054745  \n",
       "157  1.825141  1.383429  0.315265  0.041801  0.000916 -0.014659 -0.024607  \n",
       "158 -0.066872 -0.065286 -0.061930 -0.058923 -0.059414 -0.057937 -0.054747  \n",
       "159 -0.066853 -0.065274 -0.061916 -0.058908 -0.059401 -0.057927 -0.054734  \n",
       "\n",
       "[10 rows x 777 columns]"
      ]
     },
     "execution_count": 138,
     "metadata": {},
     "output_type": "execute_result"
    }
   ],
   "source": [
    "# NORMALIZE DATA\n",
    "mean = np.mean(X_train, axis=0)\n",
    "std = np.std(X_train, axis=0)\n",
    "\n",
    "X_train = (X_train - mean)/std\n",
    "X_test = (X_test - mean)/std\n",
    "\n",
    "X_train[150:160]"
   ]
  },
  {
   "cell_type": "code",
   "execution_count": 139,
   "metadata": {},
   "outputs": [],
   "source": [
    "# TURN DATA INTO ARRAYS FOR KERAS\n",
    "X_train = np.array(X_train)\n",
    "y_train = np.array(y_train)\n",
    "X_test = np.array(X_test)\n",
    "y_test = np.array(y_test)"
   ]
  },
  {
   "cell_type": "code",
   "execution_count": 140,
   "metadata": {},
   "outputs": [
    {
     "data": {
      "text/plain": [
       "array(['neutral', 'calm', 'calm', 'happy', 'happy', 'sad', 'disgust',\n",
       "       'disgust', 'sad', 'fear', 'angry', 'angry', 'fear', 'surprise',\n",
       "       'surprise', 'disgust', 'sad', 'sad', 'disgust', 'angry', 'fear',\n",
       "       'fear', 'angry', 'surprise', 'surprise', 'calm', 'neutral', 'calm',\n",
       "       'happy', 'happy', 'fear', 'angry', 'angry', 'fear', 'sad',\n",
       "       'disgust', 'disgust', 'sad', 'surprise', 'surprise', 'happy',\n",
       "       'happy', 'calm', 'calm', 'neutral', 'happy', 'happy', 'calm',\n",
       "       'neutral', 'calm', 'angry', 'fear', 'fear', 'angry', 'disgust',\n",
       "       'sad', 'sad', 'disgust', 'surprise', 'surprise', 'surprise',\n",
       "       'surprise', 'sad', 'disgust', 'disgust', 'sad', 'fear', 'angry',\n",
       "       'angry', 'fear', 'neutral', 'calm', 'calm', 'happy', 'happy',\n",
       "       'calm', 'neutral', 'calm', 'happy', 'happy', 'surprise',\n",
       "       'surprise', 'disgust', 'sad', 'sad', 'disgust', 'angry', 'fear',\n",
       "       'fear', 'angry', 'happy', 'happy', 'calm', 'calm', 'neutral',\n",
       "       'surprise', 'surprise', 'fear', 'angry', 'angry', 'fear', 'sad',\n",
       "       'disgust', 'disgust', 'sad', 'surprise', 'surprise', 'angry',\n",
       "       'fear', 'fear', 'angry', 'disgust', 'sad', 'sad', 'disgust',\n",
       "       'happy', 'happy', 'calm', 'neutral', 'calm', 'surprise',\n",
       "       'surprise', 'fear', 'angry', 'angry', 'fear', 'sad', 'disgust',\n",
       "       'disgust', 'sad', 'happy', 'happy', 'calm', 'calm', 'neutral',\n",
       "       'happy', 'happy', 'calm', 'neutral', 'calm', 'surprise',\n",
       "       'surprise', 'angry', 'fear', 'fear', 'angry', 'disgust', 'sad',\n",
       "       'sad', 'disgust', 'neutral', 'calm', 'calm', 'happy', 'happy',\n",
       "       'surprise', 'surprise', 'sad', 'disgust', 'disgust', 'sad', 'fear',\n",
       "       'angry', 'angry', 'fear', 'surprise', 'surprise', 'disgust', 'sad',\n",
       "       'sad', 'disgust', 'angry', 'fear', 'fear', 'angry', 'calm',\n",
       "       'neutral', 'calm', 'happy', 'happy', 'angry', 'fear', 'fear',\n",
       "       'angry', 'disgust', 'sad', 'sad', 'disgust', 'surprise',\n",
       "       'surprise', 'happy', 'happy', 'calm', 'neutral', 'calm', 'happy',\n",
       "       'happy', 'calm', 'calm', 'neutral', 'fear', 'angry', 'angry',\n",
       "       'fear', 'sad', 'disgust', 'disgust', 'sad', 'surprise', 'surprise',\n",
       "       'calm', 'neutral', 'calm', 'happy', 'happy', 'disgust', 'sad',\n",
       "       'sad', 'disgust', 'angry', 'fear', 'fear', 'angry', 'surprise',\n",
       "       'surprise', 'sad', 'disgust', 'disgust', 'sad', 'fear', 'angry',\n",
       "       'angry', 'fear', 'surprise', 'surprise', 'neutral', 'calm', 'calm',\n",
       "       'happy', 'happy', 'disgust', 'sad', 'sad', 'disgust', 'angry',\n",
       "       'fear', 'fear', 'angry', 'surprise', 'surprise', 'calm', 'neutral',\n",
       "       'calm', 'happy', 'happy', 'neutral', 'calm', 'calm', 'happy',\n",
       "       'happy', 'sad', 'disgust', 'disgust', 'sad', 'fear', 'angry',\n",
       "       'angry', 'fear', 'surprise', 'surprise', 'happy', 'happy', 'calm',\n",
       "       'neutral', 'calm', 'angry', 'fear', 'fear', 'angry', 'disgust',\n",
       "       'sad', 'sad', 'disgust', 'surprise', 'surprise', 'fear', 'angry',\n",
       "       'angry', 'fear', 'sad', 'disgust', 'disgust', 'sad', 'surprise',\n",
       "       'surprise', 'happy', 'happy', 'calm', 'calm', 'neutral', 'happy',\n",
       "       'happy', 'calm', 'calm', 'neutral', 'fear', 'angry', 'angry',\n",
       "       'fear', 'sad', 'disgust', 'disgust', 'sad', 'surprise', 'surprise',\n",
       "       'angry', 'fear', 'fear', 'angry', 'disgust', 'sad', 'sad',\n",
       "       'disgust', 'surprise', 'surprise', 'happy', 'happy', 'calm',\n",
       "       'neutral', 'calm', 'sad', 'disgust', 'disgust', 'sad', 'fear',\n",
       "       'angry', 'angry', 'fear', 'surprise', 'surprise', 'neutral',\n",
       "       'calm', 'calm', 'happy', 'happy', 'calm', 'neutral', 'calm',\n",
       "       'happy', 'happy', 'disgust', 'sad', 'sad', 'disgust', 'angry',\n",
       "       'fear', 'fear', 'angry', 'surprise', 'surprise'], dtype=object)"
      ]
     },
     "execution_count": 140,
     "metadata": {},
     "output_type": "execute_result"
    }
   ],
   "source": [
    "y_test"
   ]
  },
  {
   "cell_type": "code",
   "execution_count": 141,
   "metadata": {},
   "outputs": [
    {
     "data": {
      "text/plain": [
       "360"
      ]
     },
     "execution_count": 141,
     "metadata": {},
     "output_type": "execute_result"
    }
   ],
   "source": [
    "len(y_test)"
   ]
  },
  {
   "cell_type": "code",
   "execution_count": 142,
   "metadata": {},
   "outputs": [
    {
     "name": "stdout",
     "output_type": "stream",
     "text": [
      "[[0. 0. 0. 0. 0. 0. 0. 1.]\n",
      " [0. 0. 0. 0. 0. 0. 0. 1.]\n",
      " [1. 0. 0. 0. 0. 0. 0. 0.]\n",
      " [0. 0. 0. 1. 0. 0. 0. 0.]\n",
      " [0. 0. 0. 1. 0. 0. 0. 0.]\n",
      " [1. 0. 0. 0. 0. 0. 0. 0.]\n",
      " [0. 0. 1. 0. 0. 0. 0. 0.]\n",
      " [0. 0. 0. 0. 0. 0. 1. 0.]\n",
      " [0. 0. 0. 0. 0. 0. 1. 0.]\n",
      " [0. 0. 1. 0. 0. 0. 0. 0.]]\n"
     ]
    }
   ],
   "source": [
    "# ONE HOT ENCODE THE TARGET\n",
    "# CNN REQUIRES INPUT AND OUTPUT ARE NUMBERS\n",
    "lb = LabelEncoder()\n",
    "y_train = to_categorical(lb.fit_transform(y_train))\n",
    "y_test = to_categorical(lb.fit_transform(y_test))\n",
    "print(y_train[0:10])"
   ]
  },
  {
   "cell_type": "code",
   "execution_count": 143,
   "metadata": {
    "scrolled": true
   },
   "outputs": [
    {
     "name": "stdout",
     "output_type": "stream",
     "text": [
      "['angry' 'calm' 'disgust' 'fear' 'happy' 'neutral' 'sad' 'surprise']\n"
     ]
    }
   ],
   "source": [
    "print(lb.classes_)"
   ]
  },
  {
   "cell_type": "code",
   "execution_count": 144,
   "metadata": {},
   "outputs": [
    {
     "data": {
      "text/plain": [
       "array([[0., 0., 0., ..., 1., 0., 0.],\n",
       "       [0., 1., 0., ..., 0., 0., 0.],\n",
       "       [0., 1., 0., ..., 0., 0., 0.],\n",
       "       ...,\n",
       "       [1., 0., 0., ..., 0., 0., 0.],\n",
       "       [0., 0., 0., ..., 0., 0., 1.],\n",
       "       [0., 0., 0., ..., 0., 0., 1.]], dtype=float32)"
      ]
     },
     "execution_count": 144,
     "metadata": {},
     "output_type": "execute_result"
    }
   ],
   "source": [
    "y_test"
   ]
  },
  {
   "cell_type": "code",
   "execution_count": 145,
   "metadata": {},
   "outputs": [
    {
     "data": {
      "text/plain": [
       "(1080, 777, 1)"
      ]
     },
     "execution_count": 145,
     "metadata": {},
     "output_type": "execute_result"
    }
   ],
   "source": [
    "#time series data requires kernel sliding in only one dimension and have spatial properties: 1d CNN\n",
    "# reshape data to 3d tensor\n",
    "X_train = X_train[:,:,np.newaxis]\n",
    "X_test = X_test[:,:,np.newaxis]\n",
    "\n",
    "X_train.shape"
   ]
  },
  {
   "cell_type": "code",
   "execution_count": 146,
   "metadata": {
    "scrolled": true
   },
   "outputs": [
    {
     "name": "stdout",
     "output_type": "stream",
     "text": [
      "_________________________________________________________________\n",
      "Layer (type)                 Output Shape              Param #   \n",
      "=================================================================\n",
      "conv1d_53 (Conv1D)           (None, 774, 32)           160       \n",
      "_________________________________________________________________\n",
      "conv1d_54 (Conv1D)           (None, 771, 64)           8256      \n",
      "_________________________________________________________________\n",
      "max_pooling1d_40 (MaxPooling (None, 385, 64)           0         \n",
      "_________________________________________________________________\n",
      "dropout_42 (Dropout)         (None, 385, 64)           0         \n",
      "_________________________________________________________________\n",
      "conv1d_55 (Conv1D)           (None, 382, 64)           16448     \n",
      "_________________________________________________________________\n",
      "max_pooling1d_41 (MaxPooling (None, 191, 64)           0         \n",
      "_________________________________________________________________\n",
      "dropout_43 (Dropout)         (None, 191, 64)           0         \n",
      "_________________________________________________________________\n",
      "conv1d_56 (Conv1D)           (None, 188, 128)          32896     \n",
      "_________________________________________________________________\n",
      "max_pooling1d_42 (MaxPooling (None, 94, 128)           0         \n",
      "_________________________________________________________________\n",
      "dropout_44 (Dropout)         (None, 94, 128)           0         \n",
      "_________________________________________________________________\n",
      "conv1d_57 (Conv1D)           (None, 91, 128)           65664     \n",
      "_________________________________________________________________\n",
      "max_pooling1d_43 (MaxPooling (None, 45, 128)           0         \n",
      "_________________________________________________________________\n",
      "conv1d_58 (Conv1D)           (None, 42, 128)           65664     \n",
      "_________________________________________________________________\n",
      "max_pooling1d_44 (MaxPooling (None, 21, 128)           0         \n",
      "_________________________________________________________________\n",
      "dropout_45 (Dropout)         (None, 21, 128)           0         \n",
      "_________________________________________________________________\n",
      "flatten_13 (Flatten)         (None, 2688)              0         \n",
      "_________________________________________________________________\n",
      "dense_25 (Dense)             (None, 256)               688384    \n",
      "_________________________________________________________________\n",
      "dropout_46 (Dropout)         (None, 256)               0         \n",
      "_________________________________________________________________\n",
      "dense_26 (Dense)             (None, 8)                 2056      \n",
      "=================================================================\n",
      "Total params: 879,528\n",
      "Trainable params: 879,528\n",
      "Non-trainable params: 0\n",
      "_________________________________________________________________\n"
     ]
    }
   ],
   "source": [
    "import keras\n",
    "from keras.models import Sequential, Model, model_from_json\n",
    "from keras.layers import Conv1D, MaxPooling1D, AveragePooling1D\n",
    "from keras.layers import Input, Flatten, Dropout, Activation, BatchNormalization\n",
    "from keras.layers import Dense, Embedding, LSTM\n",
    "\n",
    "#BUILD CNN MODEL\n",
    "model = Sequential()\n",
    "model.add(Conv1D(32, kernel_size=(4), activation='relu', input_shape=(X_train.shape[1],1)))\n",
    "model.add(Conv1D(64, kernel_size=(4), activation='relu'))\n",
    "model.add(MaxPooling1D(pool_size=(2)))\n",
    "model.add(Dropout(0.25))\n",
    "model.add(Conv1D(64, kernel_size=(4), activation='relu'))\n",
    "model.add(MaxPooling1D(pool_size=(2)))\n",
    "model.add(Dropout(0.25))\n",
    "model.add(Conv1D(128, kernel_size=(4), activation='relu'))\n",
    "model.add(MaxPooling1D(pool_size=(2)))\n",
    "model.add(Dropout(0.25))\n",
    "model.add(Conv1D(128, kernel_size=(4), activation='relu'))\n",
    "model.add(MaxPooling1D(pool_size=(2)))\n",
    "model.add(Conv1D(128, kernel_size=(4), activation='relu'))\n",
    "model.add(MaxPooling1D(pool_size=(2)))\n",
    "model.add(Dropout(0.25))\n",
    "model.add(Flatten())\n",
    "model.add(Dense(256, activation='relu'))\n",
    "model.add(Dropout(0.5))\n",
    "model.add(Dense(8, activation='softmax'))\n",
    "model.summary()\n",
    "opt = keras.optimizers.Adam(lr=0.0001)\n"
   ]
  },
  {
   "cell_type": "code",
   "execution_count": 147,
   "metadata": {
    "scrolled": true
   },
   "outputs": [
    {
     "name": "stdout",
     "output_type": "stream",
     "text": [
      "Train on 1080 samples, validate on 360 samples\n",
      "Epoch 1/50\n",
      "1080/1080 [==============================] - 12s 11ms/step - loss: 2.0434 - acc: 0.1704 - val_loss: 2.0136 - val_acc: 0.2583\n",
      "Epoch 2/50\n",
      "1080/1080 [==============================] - 8s 7ms/step - loss: 1.9560 - acc: 0.2398 - val_loss: 1.9419 - val_acc: 0.2778\n",
      "Epoch 3/50\n",
      "1080/1080 [==============================] - 6s 5ms/step - loss: 1.8760 - acc: 0.2676 - val_loss: 1.9010 - val_acc: 0.2833\n",
      "Epoch 4/50\n",
      "1080/1080 [==============================] - 6s 5ms/step - loss: 1.7825 - acc: 0.2981 - val_loss: 1.8729 - val_acc: 0.3000\n",
      "Epoch 5/50\n",
      "1080/1080 [==============================] - 8s 7ms/step - loss: 1.7329 - acc: 0.3194 - val_loss: 1.8700 - val_acc: 0.2806\n",
      "Epoch 6/50\n",
      "1080/1080 [==============================] - 6s 5ms/step - loss: 1.7185 - acc: 0.3278 - val_loss: 1.8548 - val_acc: 0.2944\n",
      "Epoch 7/50\n",
      "1080/1080 [==============================] - 8s 7ms/step - loss: 1.7105 - acc: 0.3454 - val_loss: 1.8355 - val_acc: 0.3028\n",
      "Epoch 8/50\n",
      "1080/1080 [==============================] - 10s 10ms/step - loss: 1.6660 - acc: 0.3463 - val_loss: 1.8374 - val_acc: 0.3056\n",
      "Epoch 9/50\n",
      "1080/1080 [==============================] - 9s 8ms/step - loss: 1.6510 - acc: 0.3491 - val_loss: 1.8356 - val_acc: 0.3000\n",
      "Epoch 10/50\n",
      "1080/1080 [==============================] - 7s 7ms/step - loss: 1.6108 - acc: 0.3796 - val_loss: 1.8247 - val_acc: 0.3194\n",
      "Epoch 11/50\n",
      "1080/1080 [==============================] - 7s 6ms/step - loss: 1.6251 - acc: 0.3787 - val_loss: 1.7950 - val_acc: 0.3139\n",
      "Epoch 12/50\n",
      "1080/1080 [==============================] - 7s 6ms/step - loss: 1.5825 - acc: 0.3935 - val_loss: 1.7718 - val_acc: 0.3333\n",
      "Epoch 13/50\n",
      "1080/1080 [==============================] - 12s 11ms/step - loss: 1.5581 - acc: 0.4028 - val_loss: 1.7692 - val_acc: 0.3556\n",
      "Epoch 14/50\n",
      "1080/1080 [==============================] - 7s 7ms/step - loss: 1.5665 - acc: 0.4009 - val_loss: 1.7584 - val_acc: 0.3528\n",
      "Epoch 15/50\n",
      "1080/1080 [==============================] - 6s 6ms/step - loss: 1.5336 - acc: 0.4176 - val_loss: 1.7577 - val_acc: 0.3611\n",
      "Epoch 16/50\n",
      "1080/1080 [==============================] - 7s 6ms/step - loss: 1.5102 - acc: 0.4102 - val_loss: 1.7595 - val_acc: 0.3694\n",
      "Epoch 17/50\n",
      "1080/1080 [==============================] - 7s 7ms/step - loss: 1.4851 - acc: 0.4343 - val_loss: 1.7539 - val_acc: 0.3639\n",
      "Epoch 18/50\n",
      "1080/1080 [==============================] - 7s 7ms/step - loss: 1.4891 - acc: 0.4250 - val_loss: 1.7530 - val_acc: 0.3639\n",
      "Epoch 19/50\n",
      "1080/1080 [==============================] - 8s 7ms/step - loss: 1.4583 - acc: 0.4315 - val_loss: 1.7619 - val_acc: 0.3667\n",
      "Epoch 20/50\n",
      "1080/1080 [==============================] - 8s 7ms/step - loss: 1.4491 - acc: 0.4787 - val_loss: 1.7486 - val_acc: 0.3833\n",
      "Epoch 21/50\n",
      "1080/1080 [==============================] - 7s 6ms/step - loss: 1.4429 - acc: 0.4519 - val_loss: 1.7537 - val_acc: 0.4056\n",
      "Epoch 22/50\n",
      "1080/1080 [==============================] - 8s 7ms/step - loss: 1.4118 - acc: 0.4704 - val_loss: 1.7703 - val_acc: 0.3806\n",
      "Epoch 23/50\n",
      "1080/1080 [==============================] - 8s 7ms/step - loss: 1.4194 - acc: 0.4648 - val_loss: 1.7520 - val_acc: 0.3861\n",
      "Epoch 24/50\n",
      "1080/1080 [==============================] - 6s 6ms/step - loss: 1.3548 - acc: 0.5037 - val_loss: 1.7849 - val_acc: 0.3944\n",
      "Epoch 25/50\n",
      "1080/1080 [==============================] - 6s 5ms/step - loss: 1.3827 - acc: 0.4685 - val_loss: 1.7465 - val_acc: 0.3917\n",
      "Epoch 26/50\n",
      "1080/1080 [==============================] - 6s 6ms/step - loss: 1.3429 - acc: 0.5009 - val_loss: 1.8002 - val_acc: 0.3889\n",
      "Epoch 27/50\n",
      "1080/1080 [==============================] - 6s 5ms/step - loss: 1.3140 - acc: 0.5065 - val_loss: 1.7837 - val_acc: 0.4028\n",
      "Epoch 28/50\n",
      "1080/1080 [==============================] - 6s 6ms/step - loss: 1.3303 - acc: 0.5139 - val_loss: 1.7782 - val_acc: 0.3833\n",
      "Epoch 29/50\n",
      "1080/1080 [==============================] - 6s 6ms/step - loss: 1.2794 - acc: 0.5185 - val_loss: 1.8148 - val_acc: 0.3750\n",
      "Epoch 30/50\n",
      "1080/1080 [==============================] - 6s 5ms/step - loss: 1.2929 - acc: 0.5167 - val_loss: 1.8260 - val_acc: 0.4056\n",
      "Epoch 31/50\n",
      "1080/1080 [==============================] - 6s 5ms/step - loss: 1.2607 - acc: 0.5324 - val_loss: 1.7794 - val_acc: 0.4083\n",
      "Epoch 32/50\n",
      "1080/1080 [==============================] - 6s 6ms/step - loss: 1.2352 - acc: 0.5444 - val_loss: 1.8137 - val_acc: 0.3750\n",
      "Epoch 33/50\n",
      "1080/1080 [==============================] - 7s 7ms/step - loss: 1.2094 - acc: 0.5537 - val_loss: 1.8258 - val_acc: 0.3917\n",
      "Epoch 34/50\n",
      "1080/1080 [==============================] - 7s 6ms/step - loss: 1.1972 - acc: 0.5481 - val_loss: 1.8181 - val_acc: 0.4056\n",
      "Epoch 35/50\n",
      "1080/1080 [==============================] - 7s 7ms/step - loss: 1.1966 - acc: 0.5565 - val_loss: 1.8502 - val_acc: 0.3972\n",
      "Epoch 36/50\n",
      "1080/1080 [==============================] - 7s 7ms/step - loss: 1.1604 - acc: 0.5676 - val_loss: 1.8465 - val_acc: 0.3833\n",
      "Epoch 37/50\n",
      "1080/1080 [==============================] - 6s 6ms/step - loss: 1.1311 - acc: 0.5852 - val_loss: 1.8878 - val_acc: 0.3806\n",
      "Epoch 38/50\n",
      "1080/1080 [==============================] - 6s 5ms/step - loss: 1.1471 - acc: 0.5917 - val_loss: 1.8945 - val_acc: 0.3917\n",
      "Epoch 39/50\n",
      "1080/1080 [==============================] - 7s 6ms/step - loss: 1.1213 - acc: 0.5898 - val_loss: 1.9375 - val_acc: 0.4000\n",
      "Epoch 40/50\n",
      "1080/1080 [==============================] - 6s 6ms/step - loss: 1.0429 - acc: 0.6176 - val_loss: 1.9565 - val_acc: 0.3944\n",
      "Epoch 41/50\n",
      "1080/1080 [==============================] - 6s 5ms/step - loss: 1.1022 - acc: 0.5972 - val_loss: 1.9538 - val_acc: 0.3944\n",
      "Epoch 42/50\n",
      "1080/1080 [==============================] - 6s 5ms/step - loss: 1.0340 - acc: 0.6028 - val_loss: 1.9692 - val_acc: 0.3944\n",
      "Epoch 43/50\n",
      "1080/1080 [==============================] - 6s 5ms/step - loss: 1.0002 - acc: 0.6380 - val_loss: 2.0355 - val_acc: 0.4139\n",
      "Epoch 44/50\n",
      "1080/1080 [==============================] - 7s 6ms/step - loss: 1.0563 - acc: 0.6139 - val_loss: 1.9654 - val_acc: 0.3750\n",
      "Epoch 45/50\n",
      "1080/1080 [==============================] - 9s 8ms/step - loss: 0.9645 - acc: 0.6352 - val_loss: 2.0385 - val_acc: 0.3972\n",
      "Epoch 46/50\n",
      "1080/1080 [==============================] - 5s 5ms/step - loss: 0.9744 - acc: 0.6491 - val_loss: 2.0562 - val_acc: 0.3750\n",
      "Epoch 47/50\n",
      "1080/1080 [==============================] - 5s 5ms/step - loss: 0.9817 - acc: 0.6426 - val_loss: 2.0115 - val_acc: 0.3917\n",
      "Epoch 48/50\n",
      "1080/1080 [==============================] - 5s 5ms/step - loss: 0.9262 - acc: 0.6657 - val_loss: 2.0523 - val_acc: 0.3917\n",
      "Epoch 49/50\n",
      "1080/1080 [==============================] - 6s 5ms/step - loss: 0.9283 - acc: 0.6556 - val_loss: 2.0765 - val_acc: 0.3833\n",
      "Epoch 50/50\n",
      "1080/1080 [==============================] - 6s 5ms/step - loss: 0.9040 - acc: 0.6713 - val_loss: 2.1253 - val_acc: 0.3917\n"
     ]
    }
   ],
   "source": [
    "# FIT MODEL\n",
    "model.compile(loss='categorical_crossentropy', optimizer=opt,metrics=['accuracy'])\n",
    "model_history=model.fit(X_train, y_train,batch_size=32, epochs=50, validation_data=(X_test, y_test))"
   ]
  },
  {
   "cell_type": "code",
   "execution_count": 148,
   "metadata": {
    "scrolled": true
   },
   "outputs": [
    {
     "name": "stdout",
     "output_type": "stream",
     "text": [
      "360/360 [==============================] - 1s 1ms/step\n",
      "Loss of the model is -  2.1253310415479874\n",
      "360/360 [==============================] - 0s 1ms/step\n",
      "Accuracy of the model is -  39.166666666666664 %\n"
     ]
    }
   ],
   "source": [
    "print(\"Loss of the model is - \" , model.evaluate(X_test,y_test)[0])\n",
    "print(\"Accuracy of the model is - \" , model.evaluate(X_test,y_test)[1]*100 , \"%\")"
   ]
  },
  {
   "cell_type": "code",
   "execution_count": 149,
   "metadata": {},
   "outputs": [
    {
     "data": {
      "image/png": "[encoded data removed]",
      "text/plain": [
       "<Figure size 432x288 with 1 Axes>"
      ]
     },
     "metadata": {
      "needs_background": "light"
     },
     "output_type": "display_data"
    },
    {
     "data": {
      "image/png": "[encoded data removed]",
      "text/plain": [
       "<Figure size 432x288 with 1 Axes>"
      ]
     },
     "metadata": {
      "needs_background": "light"
     },
     "output_type": "display_data"
    }
   ],
   "source": [
    "plt.plot(model_history.history['acc'])\n",
    "plt.plot(model_history.history['val_acc'])\n",
    "plt.title('model accuracy')\n",
    "plt.ylabel('accuracy')\n",
    "plt.xlabel('epoch')\n",
    "plt.legend(['train', 'test'], loc='upper left')\n",
    "plt.show()\n",
    "# summarize history for loss\n",
    "plt.plot(model_history.history['loss'])\n",
    "plt.plot(model_history.history['val_loss'])\n",
    "plt.title('model loss')\n",
    "plt.ylabel('loss')\n",
    "plt.xlabel('epoch')\n",
    "plt.legend(['train', 'test'], loc='upper left')\n",
    "plt.show()"
   ]
  },
  {
   "cell_type": "code",
   "execution_count": null,
   "metadata": {},
   "outputs": [],
   "source": [
    "# 50 epoch\n",
    "# val_accuracy = .3972 mfcc\n",
    "    # .3722 mfcc\n",
    "# val_accuracy = 0.2139 chroma\n",
    "# val_accuracy = 0.0639 mfcc + chroma\n",
    "# 50 epoch - changed random_state\n",
    "# val_accuracy"
   ]
  },
  {
   "cell_type": "code",
   "execution_count": null,
   "metadata": {},
   "outputs": [],
   "source": [
    "# ranfom forest on MFCC features\n",
    "rfc_mfcc = RandomForestClassifier(n_estimators=1000, max_depth=None, min_samples_split=2,n_jobs=-1, random_state=42)\n",
    "rfc_mfcc.fit(X_train,Y_train)"
   ]
  },
  {
   "cell_type": "markdown",
   "metadata": {},
   "source": [
    "## MLP Classifier"
   ]
  },
  {
   "cell_type": "code",
   "execution_count": 87,
   "metadata": {},
   "outputs": [],
   "source": [
    "from sklearn.neural_network import MLPClassifier\n",
    "from sklearn.metrics import accuracy_score\n",
    "\n",
    "\n"
   ]
  },
  {
   "cell_type": "code",
   "execution_count": null,
   "metadata": {},
   "outputs": [],
   "source": [
    "# Extract the mean bands to its own feature columns\n",
    "df = pd.concat([audio_df,pd.DataFrame(df['mfcc_feature'].values.tolist())],axis=1)\n",
    "df=df.fillna(0)"
   ]
  },
  {
   "cell_type": "code",
   "execution_count": null,
   "metadata": {
    "scrolled": true
   },
   "outputs": [],
   "source": [
    "# Split between train and test \n",
    "X_train, X_test, y_train, y_test = train_test_split(df.drop(['path','labels'],axis=1)\n",
    "                                                    , df.labels\n",
    "                                                    , test_size=0.25\n",
    "                                                    , shuffle=True\n",
    "                                                    , random_state=22\n",
    "                                                   )\n",
    "\n",
    "# Lets see how the data present itself before normalisation \n",
    "X_train[150:160]"
   ]
  },
  {
   "cell_type": "code",
   "execution_count": 88,
   "metadata": {},
   "outputs": [
    {
     "ename": "ValueError",
     "evalue": "Found array with dim 3. Estimator expected <= 2.",
     "output_type": "error",
     "traceback": [
      "\u001b[0;31m---------------------------------------------------------------------------\u001b[0m",
      "\u001b[0;31mValueError\u001b[0m                                Traceback (most recent call last)",
      "\u001b[0;32m<ipython-input-88-87ff8a4721c2>\u001b[0m in \u001b[0;36m<module>\u001b[0;34m\u001b[0m\n\u001b[1;32m      1\u001b[0m \u001b[0mmodel\u001b[0m\u001b[0;34m=\u001b[0m\u001b[0mMLPClassifier\u001b[0m\u001b[0;34m(\u001b[0m\u001b[0malpha\u001b[0m\u001b[0;34m=\u001b[0m\u001b[0;36m0.01\u001b[0m\u001b[0;34m,\u001b[0m \u001b[0mbatch_size\u001b[0m\u001b[0;34m=\u001b[0m\u001b[0;36m216\u001b[0m\u001b[0;34m,\u001b[0m\u001b[0mepsilon\u001b[0m\u001b[0;34m=\u001b[0m\u001b[0;36m1e-08\u001b[0m\u001b[0;34m,\u001b[0m \u001b[0mhidden_layer_sizes\u001b[0m\u001b[0;34m=\u001b[0m\u001b[0;34m(\u001b[0m\u001b[0;36m300\u001b[0m\u001b[0;34m,\u001b[0m\u001b[0;34m)\u001b[0m\u001b[0;34m,\u001b[0m \u001b[0mlearning_rate\u001b[0m\u001b[0;34m=\u001b[0m\u001b[0;34m'adaptive'\u001b[0m\u001b[0;34m,\u001b[0m \u001b[0mmax_iter\u001b[0m\u001b[0;34m=\u001b[0m\u001b[0;36m500\u001b[0m\u001b[0;34m)\u001b[0m\u001b[0;34m\u001b[0m\u001b[0;34m\u001b[0m\u001b[0m\n\u001b[0;32m----> 2\u001b[0;31m \u001b[0mmodel\u001b[0m\u001b[0;34m.\u001b[0m\u001b[0mfit\u001b[0m\u001b[0;34m(\u001b[0m\u001b[0mX_train\u001b[0m\u001b[0;34m,\u001b[0m\u001b[0my_train\u001b[0m\u001b[0;34m)\u001b[0m\u001b[0;34m\u001b[0m\u001b[0;34m\u001b[0m\u001b[0m\n\u001b[0m\u001b[1;32m      3\u001b[0m \u001b[0my_pred\u001b[0m\u001b[0;34m=\u001b[0m\u001b[0mmodel\u001b[0m\u001b[0;34m.\u001b[0m\u001b[0mpredict\u001b[0m\u001b[0;34m(\u001b[0m\u001b[0mX_test\u001b[0m\u001b[0;34m)\u001b[0m\u001b[0;34m\u001b[0m\u001b[0;34m\u001b[0m\u001b[0m\n",
      "\u001b[0;32m/opt/anaconda3/envs/learn-env/lib/python3.6/site-packages/sklearn/neural_network/_multilayer_perceptron.py\u001b[0m in \u001b[0;36mfit\u001b[0;34m(self, X, y)\u001b[0m\n\u001b[1;32m   1026\u001b[0m         \"\"\"\n\u001b[1;32m   1027\u001b[0m         return self._fit(X, y, incremental=(self.warm_start and\n\u001b[0;32m-> 1028\u001b[0;31m                                             hasattr(self, \"classes_\")))\n\u001b[0m\u001b[1;32m   1029\u001b[0m \u001b[0;34m\u001b[0m\u001b[0m\n\u001b[1;32m   1030\u001b[0m     \u001b[0;34m@\u001b[0m\u001b[0mproperty\u001b[0m\u001b[0;34m\u001b[0m\u001b[0;34m\u001b[0m\u001b[0m\n",
      "\u001b[0;32m/opt/anaconda3/envs/learn-env/lib/python3.6/site-packages/sklearn/neural_network/_multilayer_perceptron.py\u001b[0m in \u001b[0;36m_fit\u001b[0;34m(self, X, y, incremental)\u001b[0m\n\u001b[1;32m    324\u001b[0m                              hidden_layer_sizes)\n\u001b[1;32m    325\u001b[0m \u001b[0;34m\u001b[0m\u001b[0m\n\u001b[0;32m--> 326\u001b[0;31m         \u001b[0mX\u001b[0m\u001b[0;34m,\u001b[0m \u001b[0my\u001b[0m \u001b[0;34m=\u001b[0m \u001b[0mself\u001b[0m\u001b[0;34m.\u001b[0m\u001b[0m_validate_input\u001b[0m\u001b[0;34m(\u001b[0m\u001b[0mX\u001b[0m\u001b[0;34m,\u001b[0m \u001b[0my\u001b[0m\u001b[0;34m,\u001b[0m \u001b[0mincremental\u001b[0m\u001b[0;34m)\u001b[0m\u001b[0;34m\u001b[0m\u001b[0;34m\u001b[0m\u001b[0m\n\u001b[0m\u001b[1;32m    327\u001b[0m         \u001b[0mn_samples\u001b[0m\u001b[0;34m,\u001b[0m \u001b[0mn_features\u001b[0m \u001b[0;34m=\u001b[0m \u001b[0mX\u001b[0m\u001b[0;34m.\u001b[0m\u001b[0mshape\u001b[0m\u001b[0;34m\u001b[0m\u001b[0;34m\u001b[0m\u001b[0m\n\u001b[1;32m    328\u001b[0m \u001b[0;34m\u001b[0m\u001b[0m\n",
      "\u001b[0;32m/opt/anaconda3/envs/learn-env/lib/python3.6/site-packages/sklearn/neural_network/_multilayer_perceptron.py\u001b[0m in \u001b[0;36m_validate_input\u001b[0;34m(self, X, y, incremental)\u001b[0m\n\u001b[1;32m    963\u001b[0m     \u001b[0;32mdef\u001b[0m \u001b[0m_validate_input\u001b[0m\u001b[0;34m(\u001b[0m\u001b[0mself\u001b[0m\u001b[0;34m,\u001b[0m \u001b[0mX\u001b[0m\u001b[0;34m,\u001b[0m \u001b[0my\u001b[0m\u001b[0;34m,\u001b[0m \u001b[0mincremental\u001b[0m\u001b[0;34m)\u001b[0m\u001b[0;34m:\u001b[0m\u001b[0;34m\u001b[0m\u001b[0;34m\u001b[0m\u001b[0m\n\u001b[1;32m    964\u001b[0m         X, y = self._validate_data(X, y, accept_sparse=['csr', 'csc'],\n\u001b[0;32m--> 965\u001b[0;31m                                    multi_output=True)\n\u001b[0m\u001b[1;32m    966\u001b[0m         \u001b[0;32mif\u001b[0m \u001b[0my\u001b[0m\u001b[0;34m.\u001b[0m\u001b[0mndim\u001b[0m \u001b[0;34m==\u001b[0m \u001b[0;36m2\u001b[0m \u001b[0;32mand\u001b[0m \u001b[0my\u001b[0m\u001b[0;34m.\u001b[0m\u001b[0mshape\u001b[0m\u001b[0;34m[\u001b[0m\u001b[0;36m1\u001b[0m\u001b[0;34m]\u001b[0m \u001b[0;34m==\u001b[0m \u001b[0;36m1\u001b[0m\u001b[0;34m:\u001b[0m\u001b[0;34m\u001b[0m\u001b[0;34m\u001b[0m\u001b[0m\n\u001b[1;32m    967\u001b[0m             \u001b[0my\u001b[0m \u001b[0;34m=\u001b[0m \u001b[0mcolumn_or_1d\u001b[0m\u001b[0;34m(\u001b[0m\u001b[0my\u001b[0m\u001b[0;34m,\u001b[0m \u001b[0mwarn\u001b[0m\u001b[0;34m=\u001b[0m\u001b[0;32mTrue\u001b[0m\u001b[0;34m)\u001b[0m\u001b[0;34m\u001b[0m\u001b[0;34m\u001b[0m\u001b[0m\n",
      "\u001b[0;32m/opt/anaconda3/envs/learn-env/lib/python3.6/site-packages/sklearn/base.py\u001b[0m in \u001b[0;36m_validate_data\u001b[0;34m(self, X, y, reset, validate_separately, **check_params)\u001b[0m\n\u001b[1;32m    430\u001b[0m                 \u001b[0my\u001b[0m \u001b[0;34m=\u001b[0m \u001b[0mcheck_array\u001b[0m\u001b[0;34m(\u001b[0m\u001b[0my\u001b[0m\u001b[0;34m,\u001b[0m \u001b[0;34m**\u001b[0m\u001b[0mcheck_y_params\u001b[0m\u001b[0;34m)\u001b[0m\u001b[0;34m\u001b[0m\u001b[0;34m\u001b[0m\u001b[0m\n\u001b[1;32m    431\u001b[0m             \u001b[0;32melse\u001b[0m\u001b[0;34m:\u001b[0m\u001b[0;34m\u001b[0m\u001b[0;34m\u001b[0m\u001b[0m\n\u001b[0;32m--> 432\u001b[0;31m                 \u001b[0mX\u001b[0m\u001b[0;34m,\u001b[0m \u001b[0my\u001b[0m \u001b[0;34m=\u001b[0m \u001b[0mcheck_X_y\u001b[0m\u001b[0;34m(\u001b[0m\u001b[0mX\u001b[0m\u001b[0;34m,\u001b[0m \u001b[0my\u001b[0m\u001b[0;34m,\u001b[0m \u001b[0;34m**\u001b[0m\u001b[0mcheck_params\u001b[0m\u001b[0;34m)\u001b[0m\u001b[0;34m\u001b[0m\u001b[0;34m\u001b[0m\u001b[0m\n\u001b[0m\u001b[1;32m    433\u001b[0m             \u001b[0mout\u001b[0m \u001b[0;34m=\u001b[0m \u001b[0mX\u001b[0m\u001b[0;34m,\u001b[0m \u001b[0my\u001b[0m\u001b[0;34m\u001b[0m\u001b[0;34m\u001b[0m\u001b[0m\n\u001b[1;32m    434\u001b[0m \u001b[0;34m\u001b[0m\u001b[0m\n",
      "\u001b[0;32m/opt/anaconda3/envs/learn-env/lib/python3.6/site-packages/sklearn/utils/validation.py\u001b[0m in \u001b[0;36minner_f\u001b[0;34m(*args, **kwargs)\u001b[0m\n\u001b[1;32m     71\u001b[0m                           FutureWarning)\n\u001b[1;32m     72\u001b[0m         \u001b[0mkwargs\u001b[0m\u001b[0;34m.\u001b[0m\u001b[0mupdate\u001b[0m\u001b[0;34m(\u001b[0m\u001b[0;34m{\u001b[0m\u001b[0mk\u001b[0m\u001b[0;34m:\u001b[0m \u001b[0marg\u001b[0m \u001b[0;32mfor\u001b[0m \u001b[0mk\u001b[0m\u001b[0;34m,\u001b[0m \u001b[0marg\u001b[0m \u001b[0;32min\u001b[0m \u001b[0mzip\u001b[0m\u001b[0;34m(\u001b[0m\u001b[0msig\u001b[0m\u001b[0;34m.\u001b[0m\u001b[0mparameters\u001b[0m\u001b[0;34m,\u001b[0m \u001b[0margs\u001b[0m\u001b[0;34m)\u001b[0m\u001b[0;34m}\u001b[0m\u001b[0;34m)\u001b[0m\u001b[0;34m\u001b[0m\u001b[0;34m\u001b[0m\u001b[0m\n\u001b[0;32m---> 73\u001b[0;31m         \u001b[0;32mreturn\u001b[0m \u001b[0mf\u001b[0m\u001b[0;34m(\u001b[0m\u001b[0;34m**\u001b[0m\u001b[0mkwargs\u001b[0m\u001b[0;34m)\u001b[0m\u001b[0;34m\u001b[0m\u001b[0;34m\u001b[0m\u001b[0m\n\u001b[0m\u001b[1;32m     74\u001b[0m     \u001b[0;32mreturn\u001b[0m \u001b[0minner_f\u001b[0m\u001b[0;34m\u001b[0m\u001b[0;34m\u001b[0m\u001b[0m\n\u001b[1;32m     75\u001b[0m \u001b[0;34m\u001b[0m\u001b[0m\n",
      "\u001b[0;32m/opt/anaconda3/envs/learn-env/lib/python3.6/site-packages/sklearn/utils/validation.py\u001b[0m in \u001b[0;36mcheck_X_y\u001b[0;34m(X, y, accept_sparse, accept_large_sparse, dtype, order, copy, force_all_finite, ensure_2d, allow_nd, multi_output, ensure_min_samples, ensure_min_features, y_numeric, estimator)\u001b[0m\n\u001b[1;32m    801\u001b[0m                     \u001b[0mensure_min_samples\u001b[0m\u001b[0;34m=\u001b[0m\u001b[0mensure_min_samples\u001b[0m\u001b[0;34m,\u001b[0m\u001b[0;34m\u001b[0m\u001b[0;34m\u001b[0m\u001b[0m\n\u001b[1;32m    802\u001b[0m                     \u001b[0mensure_min_features\u001b[0m\u001b[0;34m=\u001b[0m\u001b[0mensure_min_features\u001b[0m\u001b[0;34m,\u001b[0m\u001b[0;34m\u001b[0m\u001b[0;34m\u001b[0m\u001b[0m\n\u001b[0;32m--> 803\u001b[0;31m                     estimator=estimator)\n\u001b[0m\u001b[1;32m    804\u001b[0m     \u001b[0;32mif\u001b[0m \u001b[0mmulti_output\u001b[0m\u001b[0;34m:\u001b[0m\u001b[0;34m\u001b[0m\u001b[0;34m\u001b[0m\u001b[0m\n\u001b[1;32m    805\u001b[0m         y = check_array(y, accept_sparse='csr', force_all_finite=True,\n",
      "\u001b[0;32m/opt/anaconda3/envs/learn-env/lib/python3.6/site-packages/sklearn/utils/validation.py\u001b[0m in \u001b[0;36minner_f\u001b[0;34m(*args, **kwargs)\u001b[0m\n\u001b[1;32m     71\u001b[0m                           FutureWarning)\n\u001b[1;32m     72\u001b[0m         \u001b[0mkwargs\u001b[0m\u001b[0;34m.\u001b[0m\u001b[0mupdate\u001b[0m\u001b[0;34m(\u001b[0m\u001b[0;34m{\u001b[0m\u001b[0mk\u001b[0m\u001b[0;34m:\u001b[0m \u001b[0marg\u001b[0m \u001b[0;32mfor\u001b[0m \u001b[0mk\u001b[0m\u001b[0;34m,\u001b[0m \u001b[0marg\u001b[0m \u001b[0;32min\u001b[0m \u001b[0mzip\u001b[0m\u001b[0;34m(\u001b[0m\u001b[0msig\u001b[0m\u001b[0;34m.\u001b[0m\u001b[0mparameters\u001b[0m\u001b[0;34m,\u001b[0m \u001b[0margs\u001b[0m\u001b[0;34m)\u001b[0m\u001b[0;34m}\u001b[0m\u001b[0;34m)\u001b[0m\u001b[0;34m\u001b[0m\u001b[0;34m\u001b[0m\u001b[0m\n\u001b[0;32m---> 73\u001b[0;31m         \u001b[0;32mreturn\u001b[0m \u001b[0mf\u001b[0m\u001b[0;34m(\u001b[0m\u001b[0;34m**\u001b[0m\u001b[0mkwargs\u001b[0m\u001b[0;34m)\u001b[0m\u001b[0;34m\u001b[0m\u001b[0;34m\u001b[0m\u001b[0m\n\u001b[0m\u001b[1;32m     74\u001b[0m     \u001b[0;32mreturn\u001b[0m \u001b[0minner_f\u001b[0m\u001b[0;34m\u001b[0m\u001b[0;34m\u001b[0m\u001b[0m\n\u001b[1;32m     75\u001b[0m \u001b[0;34m\u001b[0m\u001b[0m\n",
      "\u001b[0;32m/opt/anaconda3/envs/learn-env/lib/python3.6/site-packages/sklearn/utils/validation.py\u001b[0m in \u001b[0;36mcheck_array\u001b[0;34m(array, accept_sparse, accept_large_sparse, dtype, order, copy, force_all_finite, ensure_2d, allow_nd, ensure_min_samples, ensure_min_features, estimator)\u001b[0m\n\u001b[1;32m    640\u001b[0m         \u001b[0;32mif\u001b[0m \u001b[0;32mnot\u001b[0m \u001b[0mallow_nd\u001b[0m \u001b[0;32mand\u001b[0m \u001b[0marray\u001b[0m\u001b[0;34m.\u001b[0m\u001b[0mndim\u001b[0m \u001b[0;34m>=\u001b[0m \u001b[0;36m3\u001b[0m\u001b[0;34m:\u001b[0m\u001b[0;34m\u001b[0m\u001b[0;34m\u001b[0m\u001b[0m\n\u001b[1;32m    641\u001b[0m             raise ValueError(\"Found array with dim %d. %s expected <= 2.\"\n\u001b[0;32m--> 642\u001b[0;31m                              % (array.ndim, estimator_name))\n\u001b[0m\u001b[1;32m    643\u001b[0m \u001b[0;34m\u001b[0m\u001b[0m\n\u001b[1;32m    644\u001b[0m         \u001b[0;32mif\u001b[0m \u001b[0mforce_all_finite\u001b[0m\u001b[0;34m:\u001b[0m\u001b[0;34m\u001b[0m\u001b[0;34m\u001b[0m\u001b[0m\n",
      "\u001b[0;31mValueError\u001b[0m: Found array with dim 3. Estimator expected <= 2."
     ]
    }
   ],
   "source": [
    "model=MLPClassifier(alpha=0.01, batch_size=216,epsilon=1e-08, hidden_layer_sizes=(300,), learning_rate='adaptive', max_iter=500)\n",
    "model.fit(X_train,y_train)\n",
    "y_pred=model.predict(X_test)"
   ]
  },
  {
   "cell_type": "code",
   "execution_count": null,
   "metadata": {
    "scrolled": true
   },
   "outputs": [],
   "source": [
    "#DataFlair - Calculate the accuracy of our model\n",
    "from sklearn.metrics import accuracy_score\n",
    "\n",
    "accuracy=accuracy_score(y_true=y_test, y_pred=y_pred)\n",
    "#DataFlair - Print the accuracy\n",
    "print(\"Accuracy: {:.2f}%\".format(accuracy*100))"
   ]
  },
  {
   "cell_type": "markdown",
   "metadata": {},
   "source": [
    "## RFC"
   ]
  },
  {
   "cell_type": "code",
   "execution_count": null,
   "metadata": {},
   "outputs": [],
   "source": [
    "# Split between train and test \n",
    "X_train, X_test, y_train, y_test = train_test_split(df.drop(['path','labels'],axis=1)\n",
    "                                                    , df.labels\n",
    "                                                    , test_size=0.25\n",
    "                                                    , shuffle=True\n",
    "                                                    , random_state=22\n",
    "                                                   )\n",
    "\n",
    "# Lets see how the data present itself before normalisation \n",
    "X_train[150:160]"
   ]
  },
  {
   "cell_type": "code",
   "execution_count": null,
   "metadata": {},
   "outputs": [],
   "source": [
    "from sklearn import model_selection\n",
    "# random forest model creation\n",
    "rfc = RandomForestClassifier()\n",
    "rfc.fit(X_train,y_train)\n",
    "# predictions\n",
    "rfc_predict = rfc.predict(X_test)"
   ]
  },
  {
   "cell_type": "code",
   "execution_count": null,
   "metadata": {},
   "outputs": [],
   "source": [
    "from sklearn.model_selection import cross_val_score\n",
    "from sklearn.metrics import classification_report, confusion_matrix"
   ]
  },
  {
   "cell_type": "code",
   "execution_count": null,
   "metadata": {},
   "outputs": [],
   "source": [
    "rfc_cv_score = cross_val_score(rfc, X, y, cv=10, scoring=’roc_auc’)\n"
   ]
  },
  {
   "cell_type": "code",
   "execution_count": null,
   "metadata": {},
   "outputs": [],
   "source": [
    "print(\"=== Confusion Matrix ===\")\n",
    "print(confusion_matrix(y_test, rfc_predict))\n",
    "print('\\n')\n",
    "print(\"=== Classification Report ===\")\n",
    "print(classification_report(y_test, rfc_predict))\n",
    "print('\\n')\n",
    "print(\"=== All AUC Scores ===\")\n",
    "print(rfc_cv_score)\n",
    "print('\\n')\n",
    "print(\"=== Mean AUC Score ===\")\n",
    "print(\"Mean AUC Score - Random Forest: \", rfc_cv_score.mean())"
   ]
  },
  {
   "cell_type": "code",
   "execution_count": null,
   "metadata": {},
   "outputs": [],
   "source": []
  },
  {
   "cell_type": "code",
   "execution_count": null,
   "metadata": {},
   "outputs": [],
   "source": []
  },
  {
   "cell_type": "code",
   "execution_count": null,
   "metadata": {},
   "outputs": [],
   "source": [
    "from sklearn.model_selection import RandomizedSearchCV\n",
    "# number of trees in random forest\n",
    "n_estimators = [int(x) for x in np.linspace(start = 200, stop = 2000, num = 10)]\n",
    "# number of features at every split\n",
    "max_features = [‘auto’, ‘sqrt’]\n",
    "\n",
    "# max depth\n",
    "max_depth = [int(x) for x in np.linspace(100, 500, num = 11)]\n",
    "max_depth.append(None)\n",
    "# create random grid\n",
    "random_grid = {\n",
    " ‘n_estimators’: n_estimators,\n",
    " ‘max_features’: max_features,\n",
    " ‘max_depth’: max_depth\n",
    " }\n",
    "# Random search of parameters\n",
    "rfc_random = RandomizedSearchCV(estimator = rfc, param_distributions = random_grid, n_iter = 100, cv = 3, verbose=2, random_state=42, n_jobs = -1)\n",
    "# Fit the model\n",
    "rfc_random.fit(X_train, y_train)\n",
    "# print results\n",
    "print(rfc_random.best_params_)"
   ]
  },
  {
   "cell_type": "code",
   "execution_count": null,
   "metadata": {},
   "outputs": [],
   "source": []
  },
  {
   "cell_type": "code",
   "execution_count": null,
   "metadata": {},
   "outputs": [],
   "source": [
    "#preparing data\n",
    "train_data = pd.DataFrame()\n",
    "train_data['fname'] = train['fname']\n",
    "test_data = pd.DataFrame()\n",
    "test_data['fname'] = audio_test_files\n",
    "\n",
    "train_data = train_data['fname'].apply(get_mfcc, path='../input/audio_train/')\n",
    "print('done loading train mfcc')\n",
    "test_data = test_data['fname'].apply(get_mfcc, path='../input/audio_test/')\n",
    "print('done loading test mfcc')\n",
    "\n",
    "train_data['label'] = train['label']\n",
    "test_data['label'] = np.zeros((len(audio_test_files)))"
   ]
  }
 ],
 "metadata": {
  "kernelspec": {
   "display_name": "Python 3",
   "language": "python",
   "name": "python3"
  },
  "language_info": {
   "codemirror_mode": {
    "name": "ipython",
    "version": 3
   },
   "file_extension": ".py",
   "mimetype": "text/x-python",
   "name": "python",
   "nbconvert_exporter": "python",
   "pygments_lexer": "ipython3",
   "version": "3.6.9"
  }
 },
 "nbformat": 4,
 "nbformat_minor": 2
}
