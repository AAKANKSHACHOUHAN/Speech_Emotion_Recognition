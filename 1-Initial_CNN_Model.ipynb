{
 "cells": [
  {
   "cell_type": "markdown",
   "metadata": {},
   "source": [
    "# EDA"
   ]
  },
  {
   "cell_type": "code",
   "execution_count": 53,
   "metadata": {},
   "outputs": [],
   "source": [
    "# IMPORT NECESSARY LIBRARIES\n",
    "import librosa\n",
    "%matplotlib inline\n",
    "import matplotlib.pyplot as plt\n",
    "import librosa.display\n",
    "from IPython.display import Audio\n",
    "import numpy as np\n",
    "import tensorflow as tf\n",
    "from matplotlib.pyplot import specgram\n",
    "import pandas as pd\n",
    "from sklearn.metrics import confusion_matrix\n",
    "import IPython.display as ipd  # To play sound in the notebook\n",
    "import os # interface with underlying OS that python is running on\n",
    "import sys\n",
    "import warnings\n",
    "# ignore warnings \n",
    "if not sys.warnoptions:\n",
    "    warnings.simplefilter(\"ignore\")\n",
    "warnings.filterwarnings(\"ignore\", category=DeprecationWarning)\n",
    "from sklearn.model_selection import train_test_split\n",
    "from sklearn.preprocessing import LabelEncoder\n",
    "import tensorflow.keras\n",
    "from tensorflow.keras.models import Sequential\n",
    "from tensorflow.keras.layers import Conv1D, MaxPooling1D, AveragePooling1D\n",
    "from tensorflow.keras.layers import Input, Flatten, Dropout, Activation, BatchNormalization, Dense\n",
    "from sklearn.model_selection import GridSearchCV\n",
    "from tensorflow.keras.wrappers.scikit_learn import KerasClassifier\n",
    "from tensorflow.keras.optimizers import SGD\n",
    "from tensorflow.keras.regularizers import l2\n",
    "import seaborn as sns\n",
    "from tensorflow.keras.callbacks import EarlyStopping, ModelCheckpoint\n",
    "from tensorflow.keras.utils import to_categorical\n",
    "from sklearn.metrics import classification_report"
   ]
  },
  {
   "cell_type": "markdown",
   "metadata": {},
   "source": [
    "## Male Neutral"
   ]
  },
  {
   "cell_type": "code",
   "execution_count": null,
   "metadata": {},
   "outputs": [],
   "source": [
    "# LOAD IN FILE\n",
    "x, sr = librosa.load('/Users/murielkosaka/Desktop/capstone_project/audio/audio_speech_actors_01-24/Actor_01/03-01-01-01-01-01-01.wav')"
   ]
  },
  {
   "cell_type": "code",
   "execution_count": null,
   "metadata": {},
   "outputs": [],
   "source": [
    "# DISPLAY WAVEPLOT\n",
    "plt.figure(figsize=(8, 4))\n",
    "librosa.display.waveplot(x, sr=sr)\n",
    "plt.title('Waveplot - Male Neutral')\n",
    "plt.savefig('Waveplot_MaleNeutral.png')"
   ]
  },
  {
   "cell_type": "code",
   "execution_count": null,
   "metadata": {
    "scrolled": false
   },
   "outputs": [],
   "source": [
    "# PLAY AUDIO FILE\n",
    "librosa.output.write_wav('ipd.Audio Files/MaleNeutral.wav', x, sr)\n",
    "Audio(data=x, rate=sr)"
   ]
  },
  {
   "cell_type": "code",
   "execution_count": null,
   "metadata": {
    "scrolled": true
   },
   "outputs": [],
   "source": [
    "# CREATE LOG MEL SPECTROGRAM\n",
    "spectrogram = librosa.feature.melspectrogram(y=x, sr=sr, n_mels=128,fmax=8000) \n",
    "spectrogram = librosa.power_to_db(spectrogram)\n",
    "\n",
    "librosa.display.specshow(spectrogram, y_axis='mel', fmax=8000, x_axis='time');\n",
    "plt.title('Mel Spectrogram - Male Neutral')\n",
    "plt.savefig('MelSpec_MaleNeutral.png')\n",
    "plt.colorbar(format='%+2.0f dB');"
   ]
  },
  {
   "cell_type": "markdown",
   "metadata": {},
   "source": [
    "## Female Calm"
   ]
  },
  {
   "cell_type": "code",
   "execution_count": null,
   "metadata": {},
   "outputs": [],
   "source": [
    "# LOAD IN FILE\n",
    "x, sr = librosa.load('/Users/murielkosaka/Desktop/capstone_project/audio/audio_speech_actors_01-24/Actor_02/03-01-02-01-01-01-02.wav')"
   ]
  },
  {
   "cell_type": "code",
   "execution_count": null,
   "metadata": {},
   "outputs": [],
   "source": [
    "# DISPLAY WAVEPLOT\n",
    "plt.figure(figsize=(8, 4))\n",
    "librosa.display.waveplot(x, sr=sr)\n",
    "plt.title('Waveplot - Female Calm')\n",
    "plt.savefig('Waveplot_FemaleCalm.png')\n"
   ]
  },
  {
   "cell_type": "code",
   "execution_count": null,
   "metadata": {},
   "outputs": [],
   "source": [
    "# PLAY AUDIO FILE\n",
    "librosa.output.write_wav('ipd.Audio Files/FemaleCalm.wav', x, sr)\n",
    "Audio(data=x, rate=sr)"
   ]
  },
  {
   "cell_type": "code",
   "execution_count": null,
   "metadata": {
    "scrolled": true
   },
   "outputs": [],
   "source": [
    "# CREATE LOG MEL SPECTROGRAM\n",
    "spectrogram = librosa.feature.melspectrogram(y=x, sr=sr, n_mels=128,fmax=8000) \n",
    "spectrogram = librosa.power_to_db(spectrogram)\n",
    "\n",
    "librosa.display.specshow(spectrogram, y_axis='mel', fmax=8000, x_axis='time');\n",
    "plt.title('Mel Spectrogram - Female Calm')\n",
    "plt.savefig('MelSpec_FemaleCalm.png')\n",
    "plt.colorbar(format='%+2.0f dB');"
   ]
  },
  {
   "cell_type": "markdown",
   "metadata": {},
   "source": [
    "## Male Happy"
   ]
  },
  {
   "cell_type": "code",
   "execution_count": null,
   "metadata": {},
   "outputs": [],
   "source": [
    "# LOAD FILE\n",
    "x, sr = librosa.load('/Users/murielkosaka/Desktop/capstone_project/audio/audio_speech_actors_01-24/Actor_03/03-01-03-01-01-01-03.wav')"
   ]
  },
  {
   "cell_type": "code",
   "execution_count": null,
   "metadata": {
    "scrolled": true
   },
   "outputs": [],
   "source": [
    "# DISPLAY WAVEPLOT\n",
    "plt.figure(figsize=(8, 4))\n",
    "librosa.display.waveplot(x, sr=sr)\n",
    "plt.title('Waveplot - Male Happy')\n",
    "plt.savefig('Waveplot_MaleHappy.png')"
   ]
  },
  {
   "cell_type": "code",
   "execution_count": null,
   "metadata": {},
   "outputs": [],
   "source": [
    "# PLAY AUDIO FILE\n",
    "librosa.output.write_wav('Uploads/ipd.Audio Files/MaleHappy.wav', x, sr)\n",
    "Audio(data=x, rate=sr)"
   ]
  },
  {
   "cell_type": "code",
   "execution_count": null,
   "metadata": {},
   "outputs": [],
   "source": [
    "# CREATE LOG MEL SPECTROGRAM\n",
    "x = librosa.feature.melspectrogram(y=x, sr=sr,n_mels=128,fmax=8000) \n",
    "x = librosa.power_to_db(x)\n",
    "\n",
    "librosa.display.specshow(x, y_axis='mel', fmax=8000, x_axis='time');\n",
    "plt.title('Mel Spectrogram - Male Happy')\n",
    "plt.savefig('MelSpec_MaleHappy.png')\n",
    "plt.colorbar(format='%+2.0f dB');"
   ]
  },
  {
   "cell_type": "markdown",
   "metadata": {},
   "source": [
    "## Female Sad"
   ]
  },
  {
   "cell_type": "code",
   "execution_count": null,
   "metadata": {},
   "outputs": [],
   "source": [
    "# LOAD FILE\n",
    "x, sr = librosa.load('/Users/murielkosaka/Desktop/capstone_project/audio/audio_speech_actors_01-24/Actor_04/03-01-04-01-01-01-04.wav')\n"
   ]
  },
  {
   "cell_type": "code",
   "execution_count": null,
   "metadata": {
    "scrolled": true
   },
   "outputs": [],
   "source": [
    "# DISPLAY WAVEPLOT\n",
    "plt.figure(figsize=(8, 4))\n",
    "librosa.display.waveplot(x, sr=sr)\n",
    "plt.title('Waveplot - Female Sad')\n",
    "plt.savefig('Waveplot_FemaleSad.png')"
   ]
  },
  {
   "cell_type": "code",
   "execution_count": null,
   "metadata": {},
   "outputs": [],
   "source": [
    "# PLAY AUDIO FILE\n",
    "librosa.output.write_wav('Uploads/ipd.Audio Files/FemaleSad.wav', x, sr)\n",
    "Audio(data=x, rate=sr)"
   ]
  },
  {
   "cell_type": "code",
   "execution_count": null,
   "metadata": {},
   "outputs": [],
   "source": [
    "# DISPLAY LOG MEL SPECTROGRAM\n",
    "x = librosa.feature.melspectrogram(y=x, sr=sr,n_mels=128,fmax=8000) \n",
    "y = librosa.power_to_db(x)\n",
    "\n",
    "librosa.display.specshow(y, y_axis='mel', fmax=8000, x_axis='time');\n",
    "plt.title('Mel Spectrogram - Female Sad');\n",
    "plt.savefig('MelSpec_FemaleSad.png')\n",
    "plt.colorbar(format='%+2.0f dB');"
   ]
  },
  {
   "cell_type": "markdown",
   "metadata": {},
   "source": [
    "## Male Angry"
   ]
  },
  {
   "cell_type": "code",
   "execution_count": null,
   "metadata": {},
   "outputs": [],
   "source": [
    "# LOAD FILE\n",
    "x, sr = librosa.load('/Users/murielkosaka/Desktop/capstone_project/audio/audio_speech_actors_01-24/Actor_05/03-01-05-01-01-01-05.wav')\n"
   ]
  },
  {
   "cell_type": "code",
   "execution_count": null,
   "metadata": {
    "scrolled": true
   },
   "outputs": [],
   "source": [
    "# DISPLAY WAVEPLOT\n",
    "plt.figure(figsize=(8, 4))\n",
    "librosa.display.waveplot(x, sr=sr)\n",
    "plt.title('Waveplot - Male Angry')\n",
    "plt.savefig('Waveplot_MaleAngry.png')"
   ]
  },
  {
   "cell_type": "code",
   "execution_count": null,
   "metadata": {},
   "outputs": [],
   "source": [
    "# PLAY AUDIO FILE\n",
    "librosa.output.write_wav('Uploads/ipd.Audio Files/MaleAngry.wav', x, sr)\n",
    "Audio(data=x, rate=sr)"
   ]
  },
  {
   "cell_type": "code",
   "execution_count": null,
   "metadata": {},
   "outputs": [],
   "source": [
    "# DISPLAY LOG MEL SPECTROGRAM\n",
    "x = librosa.feature.melspectrogram(y=x, sr=sr,n_mels=128,fmax=8000) \n",
    "y = librosa.power_to_db(x)\n",
    "\n",
    "librosa.display.specshow(y, y_axis='mel', fmax=8000, x_axis='time');\n",
    "plt.title('Mel Spectrogram - Male Angry');\n",
    "plt.savefig('MelSpec_MaleAngry.png')\n",
    "plt.colorbar(format='%+2.0f dB');"
   ]
  },
  {
   "cell_type": "markdown",
   "metadata": {},
   "source": [
    "## Female Fearful"
   ]
  },
  {
   "cell_type": "code",
   "execution_count": null,
   "metadata": {},
   "outputs": [],
   "source": [
    "# LOAD FILE\n",
    "x, sr = librosa.load('/Users/murielkosaka/Desktop/capstone_project/audio/audio_speech_actors_01-24/Actor_06/03-01-06-01-01-01-06.wav')"
   ]
  },
  {
   "cell_type": "code",
   "execution_count": null,
   "metadata": {
    "scrolled": true
   },
   "outputs": [],
   "source": [
    "# DISPLAY WAVEPLOT\n",
    "plt.figure(figsize=(8, 4))\n",
    "librosa.display.waveplot(x, sr=sr)\n",
    "plt.title('Waveplot - Female Fearful')\n",
    "plt.savefig('Waveplot_FemaleFearful.png')\n"
   ]
  },
  {
   "cell_type": "code",
   "execution_count": null,
   "metadata": {},
   "outputs": [],
   "source": [
    "# PLAY AUDIO FILE\n",
    "librosa.output.write_wav('Uploads/ipd.Audio Files/FemaleFearful.wav', x, sr)\n",
    "Audio(data=x, rate=sr)"
   ]
  },
  {
   "cell_type": "code",
   "execution_count": null,
   "metadata": {},
   "outputs": [],
   "source": [
    "# DISPLAY LOG MEL SPECTROGRAM\n",
    "x = librosa.feature.melspectrogram(y=x, sr=sr,n_mels=128,fmax=8000) \n",
    "y = librosa.power_to_db(x)\n",
    "\n",
    "librosa.display.specshow(y, y_axis='mel', fmax=8000, x_axis='time');\n",
    "plt.title('Mel Spectrogram - Female Fearful')\n",
    "plt.savefig('MelSpec_FemaleFearful.png')\n",
    "plt.colorbar(format='%+2.0f dB');"
   ]
  },
  {
   "cell_type": "markdown",
   "metadata": {},
   "source": [
    "## Male Disgust"
   ]
  },
  {
   "cell_type": "code",
   "execution_count": null,
   "metadata": {},
   "outputs": [],
   "source": [
    "# LOAD FILE\n",
    "x, sr = librosa.load('/Users/murielkosaka/Desktop/capstone_project/audio/audio_speech_actors_01-24/Actor_07/03-01-07-01-01-01-07.wav')\n",
    "\n"
   ]
  },
  {
   "cell_type": "code",
   "execution_count": null,
   "metadata": {
    "scrolled": true
   },
   "outputs": [],
   "source": [
    "# DISPLAY WAVEPLOT\n",
    "plt.figure(figsize=(8, 4))\n",
    "librosa.display.waveplot(x, sr=sr)\n",
    "plt.title('Waveplot - Male Disgust')\n",
    "plt.savefig('Waveplot_MaleDisgust.png')\n"
   ]
  },
  {
   "cell_type": "code",
   "execution_count": null,
   "metadata": {},
   "outputs": [],
   "source": [
    "# PLAY AUDIO FILE\n",
    "librosa.output.write_wav('Uploads/ipd.Audio Files/MaleDisgust.wav', x, sr)\n",
    "Audio(data=x, rate=sr)"
   ]
  },
  {
   "cell_type": "code",
   "execution_count": null,
   "metadata": {},
   "outputs": [],
   "source": [
    "# DISPLAY LOG MEL SPECTROGRAM\n",
    "x = librosa.feature.melspectrogram(y=x, sr=sr,n_mels=128,fmax=8000) \n",
    "y = librosa.power_to_db(x)\n",
    "\n",
    "librosa.display.specshow(y, y_axis='mel', fmax=8000, x_axis='time');\n",
    "plt.title('Mel Spectrogram - Male Disgust')\n",
    "plt.savefig('MelSpec_MaleDisgust.png')\n",
    "plt.colorbar(format='%+2.0f dB');"
   ]
  },
  {
   "cell_type": "markdown",
   "metadata": {},
   "source": [
    "## Female Surprised"
   ]
  },
  {
   "cell_type": "code",
   "execution_count": null,
   "metadata": {},
   "outputs": [],
   "source": [
    "# LOAD FILE\n",
    "x, sr = librosa.load('/Users/murielkosaka/Desktop/capstone_project/audio/audio_speech_actors_01-24/Actor_08/03-01-08-01-01-01-08.wav')"
   ]
  },
  {
   "cell_type": "code",
   "execution_count": null,
   "metadata": {},
   "outputs": [],
   "source": [
    "# DISPLAY WAVEPLOT\n",
    "plt.figure(figsize=(8, 4))\n",
    "librosa.display.waveplot(x, sr=sr)\n",
    "plt.title('Waveplot - FemaleSurprised')\n",
    "plt.savefig('Waveplot_FemaleSurprised.png')\n"
   ]
  },
  {
   "cell_type": "code",
   "execution_count": null,
   "metadata": {},
   "outputs": [],
   "source": [
    "# PLAY AUDIO FILE\n",
    "librosa.output.write_wav('Uploads/ipd.Audio Files/FemaleSurprised.wav', x, sr)\n",
    "Audio(data=x, rate=sr)"
   ]
  },
  {
   "cell_type": "code",
   "execution_count": null,
   "metadata": {
    "scrolled": true
   },
   "outputs": [],
   "source": [
    "# DISPLAY LOG MEL SPECTROGRAM\n",
    "x = librosa.feature.melspectrogram(y=x, sr=sr,n_mels=128,fmax=8000) \n",
    "y = librosa.power_to_db(x)\n",
    "\n",
    "librosa.display.specshow(y, y_axis='mel', fmax=8000, x_axis='time');\n",
    "plt.title('Mel Spectrogram - Female Surprised')\n",
    "plt.savefig('MelSpec_FemaleSurprised.png')\n",
    "plt.colorbar(format='%+2.0f dB');"
   ]
  },
  {
   "cell_type": "markdown",
   "metadata": {},
   "source": [
    "# Data Preprocessing"
   ]
  },
  {
   "cell_type": "markdown",
   "metadata": {},
   "source": [
    "## Labeling Audio Files"
   ]
  },
  {
   "cell_type": "code",
   "execution_count": 2,
   "metadata": {
    "scrolled": true
   },
   "outputs": [
    {
     "data": {
      "text/plain": [
       "['Actor_01', 'Actor_02', 'Actor_03', 'Actor_04', 'Actor_05']"
      ]
     },
     "execution_count": 2,
     "metadata": {},
     "output_type": "execute_result"
    }
   ],
   "source": [
    "# CREATE DIRECTORY OF AUDIO FILES \n",
    "audio = \"/Users/murielkosaka/Desktop/capstone_project/audio/audio_speech_actors_01-24/\"\n",
    "actor_folders = os.listdir(audio) #list files in audio directory\n",
    "actor_folders.sort() \n",
    "actor_folders[0:5]"
   ]
  },
  {
   "cell_type": "code",
   "execution_count": 4,
   "metadata": {},
   "outputs": [],
   "source": [
    "# CREATE FUNCTION TO EXTRACT EMOTION NUMBER AND GENDER LABEL\n",
    "emotion = []\n",
    "gender = []\n",
    "actor = []\n",
    "file_path = []\n",
    "for i in actor_folders:\n",
    "    filename = os.listdir(audio + i) #iterate over Actor folders\n",
    "    for f in filename: # go through files in Actor folder\n",
    "        part = f.split('.')[0].split('-')\n",
    "        emotion.append(int(part[2]))\n",
    "        actor.append(int(part[6]))\n",
    "        bg = int(part[6])\n",
    "        if bg%2 == 0:\n",
    "            bg = \"female\"\n",
    "        else:\n",
    "            bg = \"male\"\n",
    "        gender.append(bg)\n",
    "        file_path.append(audio + i + '/' + f)"
   ]
  },
  {
   "cell_type": "code",
   "execution_count": 5,
   "metadata": {
    "scrolled": true
   },
   "outputs": [
    {
     "data": {
      "text/html": [
       "<div>\n",
       "<style scoped>\n",
       "    .dataframe tbody tr th:only-of-type {\n",
       "        vertical-align: middle;\n",
       "    }\n",
       "\n",
       "    .dataframe tbody tr th {\n",
       "        vertical-align: top;\n",
       "    }\n",
       "\n",
       "    .dataframe thead th {\n",
       "        text-align: right;\n",
       "    }\n",
       "</style>\n",
       "<table border=\"1\" class=\"dataframe\">\n",
       "  <thead>\n",
       "    <tr style=\"text-align: right;\">\n",
       "      <th></th>\n",
       "      <th>gender</th>\n",
       "      <th>emotion</th>\n",
       "      <th>actor</th>\n",
       "      <th>path</th>\n",
       "    </tr>\n",
       "  </thead>\n",
       "  <tbody>\n",
       "    <tr>\n",
       "      <th>0</th>\n",
       "      <td>male</td>\n",
       "      <td>surprise</td>\n",
       "      <td>1</td>\n",
       "      <td>/Users/murielkosaka/Desktop/capstone_project/a...</td>\n",
       "    </tr>\n",
       "    <tr>\n",
       "      <th>1</th>\n",
       "      <td>male</td>\n",
       "      <td>surprise</td>\n",
       "      <td>1</td>\n",
       "      <td>/Users/murielkosaka/Desktop/capstone_project/a...</td>\n",
       "    </tr>\n",
       "    <tr>\n",
       "      <th>2</th>\n",
       "      <td>male</td>\n",
       "      <td>angry</td>\n",
       "      <td>1</td>\n",
       "      <td>/Users/murielkosaka/Desktop/capstone_project/a...</td>\n",
       "    </tr>\n",
       "    <tr>\n",
       "      <th>3</th>\n",
       "      <td>male</td>\n",
       "      <td>fear</td>\n",
       "      <td>1</td>\n",
       "      <td>/Users/murielkosaka/Desktop/capstone_project/a...</td>\n",
       "    </tr>\n",
       "    <tr>\n",
       "      <th>4</th>\n",
       "      <td>male</td>\n",
       "      <td>fear</td>\n",
       "      <td>1</td>\n",
       "      <td>/Users/murielkosaka/Desktop/capstone_project/a...</td>\n",
       "    </tr>\n",
       "    <tr>\n",
       "      <th>...</th>\n",
       "      <td>...</td>\n",
       "      <td>...</td>\n",
       "      <td>...</td>\n",
       "      <td>...</td>\n",
       "    </tr>\n",
       "    <tr>\n",
       "      <th>1435</th>\n",
       "      <td>female</td>\n",
       "      <td>fear</td>\n",
       "      <td>24</td>\n",
       "      <td>/Users/murielkosaka/Desktop/capstone_project/a...</td>\n",
       "    </tr>\n",
       "    <tr>\n",
       "      <th>1436</th>\n",
       "      <td>female</td>\n",
       "      <td>fear</td>\n",
       "      <td>24</td>\n",
       "      <td>/Users/murielkosaka/Desktop/capstone_project/a...</td>\n",
       "    </tr>\n",
       "    <tr>\n",
       "      <th>1437</th>\n",
       "      <td>female</td>\n",
       "      <td>angry</td>\n",
       "      <td>24</td>\n",
       "      <td>/Users/murielkosaka/Desktop/capstone_project/a...</td>\n",
       "    </tr>\n",
       "    <tr>\n",
       "      <th>1438</th>\n",
       "      <td>female</td>\n",
       "      <td>surprise</td>\n",
       "      <td>24</td>\n",
       "      <td>/Users/murielkosaka/Desktop/capstone_project/a...</td>\n",
       "    </tr>\n",
       "    <tr>\n",
       "      <th>1439</th>\n",
       "      <td>female</td>\n",
       "      <td>surprise</td>\n",
       "      <td>24</td>\n",
       "      <td>/Users/murielkosaka/Desktop/capstone_project/a...</td>\n",
       "    </tr>\n",
       "  </tbody>\n",
       "</table>\n",
       "<p>1440 rows × 4 columns</p>\n",
       "</div>"
      ],
      "text/plain": [
       "      gender   emotion  actor  \\\n",
       "0       male  surprise      1   \n",
       "1       male  surprise      1   \n",
       "2       male     angry      1   \n",
       "3       male      fear      1   \n",
       "4       male      fear      1   \n",
       "...      ...       ...    ...   \n",
       "1435  female      fear     24   \n",
       "1436  female      fear     24   \n",
       "1437  female     angry     24   \n",
       "1438  female  surprise     24   \n",
       "1439  female  surprise     24   \n",
       "\n",
       "                                                   path  \n",
       "0     /Users/murielkosaka/Desktop/capstone_project/a...  \n",
       "1     /Users/murielkosaka/Desktop/capstone_project/a...  \n",
       "2     /Users/murielkosaka/Desktop/capstone_project/a...  \n",
       "3     /Users/murielkosaka/Desktop/capstone_project/a...  \n",
       "4     /Users/murielkosaka/Desktop/capstone_project/a...  \n",
       "...                                                 ...  \n",
       "1435  /Users/murielkosaka/Desktop/capstone_project/a...  \n",
       "1436  /Users/murielkosaka/Desktop/capstone_project/a...  \n",
       "1437  /Users/murielkosaka/Desktop/capstone_project/a...  \n",
       "1438  /Users/murielkosaka/Desktop/capstone_project/a...  \n",
       "1439  /Users/murielkosaka/Desktop/capstone_project/a...  \n",
       "\n",
       "[1440 rows x 4 columns]"
      ]
     },
     "execution_count": 5,
     "metadata": {},
     "output_type": "execute_result"
    }
   ],
   "source": [
    "# PUT EXTRACTED LABELS WITH FILEPATH INTO DATAFRAME\n",
    "audio_df = pd.DataFrame(emotion)\n",
    "audio_df = audio_df.replace({1:'neutral', 2:'calm', 3:'happy', 4:'sad', 5:'angry', 6:'fear', 7:'disgust', 8:'surprise'})\n",
    "audio_df = pd.concat([pd.DataFrame(gender),audio_df,pd.DataFrame(actor)],axis=1)\n",
    "audio_df.columns = ['gender','emotion','actor']\n",
    "audio_df = pd.concat([audio_df,pd.DataFrame(file_path, columns = ['path'])],axis=1)\n",
    "audio_df"
   ]
  },
  {
   "cell_type": "code",
   "execution_count": 6,
   "metadata": {},
   "outputs": [
    {
     "data": {
      "text/html": [
       "<div>\n",
       "<style scoped>\n",
       "    .dataframe tbody tr th:only-of-type {\n",
       "        vertical-align: middle;\n",
       "    }\n",
       "\n",
       "    .dataframe tbody tr th {\n",
       "        vertical-align: top;\n",
       "    }\n",
       "\n",
       "    .dataframe thead th {\n",
       "        text-align: right;\n",
       "    }\n",
       "</style>\n",
       "<table border=\"1\" class=\"dataframe\">\n",
       "  <thead>\n",
       "    <tr style=\"text-align: right;\">\n",
       "      <th></th>\n",
       "      <th>gender</th>\n",
       "      <th>emotion</th>\n",
       "      <th>actor</th>\n",
       "      <th>path</th>\n",
       "    </tr>\n",
       "  </thead>\n",
       "  <tbody>\n",
       "    <tr>\n",
       "      <th>194</th>\n",
       "      <td>female</td>\n",
       "      <td>surprise</td>\n",
       "      <td>4</td>\n",
       "      <td>/Users/murielkosaka/Desktop/capstone_project/audio/audio_speech_actors_01-24/Actor_04/03-01-08-01-01-01-04.wav</td>\n",
       "    </tr>\n",
       "    <tr>\n",
       "      <th>931</th>\n",
       "      <td>female</td>\n",
       "      <td>neutral</td>\n",
       "      <td>16</td>\n",
       "      <td>/Users/murielkosaka/Desktop/capstone_project/audio/audio_speech_actors_01-24/Actor_16/03-01-01-01-02-01-16.wav</td>\n",
       "    </tr>\n",
       "    <tr>\n",
       "      <th>214</th>\n",
       "      <td>female</td>\n",
       "      <td>angry</td>\n",
       "      <td>4</td>\n",
       "      <td>/Users/murielkosaka/Desktop/capstone_project/audio/audio_speech_actors_01-24/Actor_04/03-01-05-02-01-02-04.wav</td>\n",
       "    </tr>\n",
       "    <tr>\n",
       "      <th>75</th>\n",
       "      <td>female</td>\n",
       "      <td>happy</td>\n",
       "      <td>2</td>\n",
       "      <td>/Users/murielkosaka/Desktop/capstone_project/audio/audio_speech_actors_01-24/Actor_02/03-01-03-02-01-01-02.wav</td>\n",
       "    </tr>\n",
       "    <tr>\n",
       "      <th>1016</th>\n",
       "      <td>male</td>\n",
       "      <td>happy</td>\n",
       "      <td>17</td>\n",
       "      <td>/Users/murielkosaka/Desktop/capstone_project/audio/audio_speech_actors_01-24/Actor_17/03-01-03-01-02-02-17.wav</td>\n",
       "    </tr>\n",
       "    <tr>\n",
       "      <th>1193</th>\n",
       "      <td>female</td>\n",
       "      <td>sad</td>\n",
       "      <td>20</td>\n",
       "      <td>/Users/murielkosaka/Desktop/capstone_project/audio/audio_speech_actors_01-24/Actor_20/03-01-04-02-02-02-20.wav</td>\n",
       "    </tr>\n",
       "    <tr>\n",
       "      <th>280</th>\n",
       "      <td>male</td>\n",
       "      <td>happy</td>\n",
       "      <td>5</td>\n",
       "      <td>/Users/murielkosaka/Desktop/capstone_project/audio/audio_speech_actors_01-24/Actor_05/03-01-03-02-02-01-05.wav</td>\n",
       "    </tr>\n",
       "    <tr>\n",
       "      <th>1178</th>\n",
       "      <td>female</td>\n",
       "      <td>angry</td>\n",
       "      <td>20</td>\n",
       "      <td>/Users/murielkosaka/Desktop/capstone_project/audio/audio_speech_actors_01-24/Actor_20/03-01-05-01-01-02-20.wav</td>\n",
       "    </tr>\n",
       "    <tr>\n",
       "      <th>1039</th>\n",
       "      <td>female</td>\n",
       "      <td>disgust</td>\n",
       "      <td>18</td>\n",
       "      <td>/Users/murielkosaka/Desktop/capstone_project/audio/audio_speech_actors_01-24/Actor_18/03-01-07-01-01-02-18.wav</td>\n",
       "    </tr>\n",
       "    <tr>\n",
       "      <th>1069</th>\n",
       "      <td>female</td>\n",
       "      <td>happy</td>\n",
       "      <td>18</td>\n",
       "      <td>/Users/murielkosaka/Desktop/capstone_project/audio/audio_speech_actors_01-24/Actor_18/03-01-03-02-02-02-18.wav</td>\n",
       "    </tr>\n",
       "  </tbody>\n",
       "</table>\n",
       "</div>"
      ],
      "text/plain": [
       "      gender   emotion  actor  \\\n",
       "194   female  surprise  4       \n",
       "931   female  neutral   16      \n",
       "214   female  angry     4       \n",
       "75    female  happy     2       \n",
       "1016  male    happy     17      \n",
       "1193  female  sad       20      \n",
       "280   male    happy     5       \n",
       "1178  female  angry     20      \n",
       "1039  female  disgust   18      \n",
       "1069  female  happy     18      \n",
       "\n",
       "                                                                                                                path  \n",
       "194   /Users/murielkosaka/Desktop/capstone_project/audio/audio_speech_actors_01-24/Actor_04/03-01-08-01-01-01-04.wav  \n",
       "931   /Users/murielkosaka/Desktop/capstone_project/audio/audio_speech_actors_01-24/Actor_16/03-01-01-01-02-01-16.wav  \n",
       "214   /Users/murielkosaka/Desktop/capstone_project/audio/audio_speech_actors_01-24/Actor_04/03-01-05-02-01-02-04.wav  \n",
       "75    /Users/murielkosaka/Desktop/capstone_project/audio/audio_speech_actors_01-24/Actor_02/03-01-03-02-01-01-02.wav  \n",
       "1016  /Users/murielkosaka/Desktop/capstone_project/audio/audio_speech_actors_01-24/Actor_17/03-01-03-01-02-02-17.wav  \n",
       "1193  /Users/murielkosaka/Desktop/capstone_project/audio/audio_speech_actors_01-24/Actor_20/03-01-04-02-02-02-20.wav  \n",
       "280   /Users/murielkosaka/Desktop/capstone_project/audio/audio_speech_actors_01-24/Actor_05/03-01-03-02-02-01-05.wav  \n",
       "1178  /Users/murielkosaka/Desktop/capstone_project/audio/audio_speech_actors_01-24/Actor_20/03-01-05-01-01-02-20.wav  \n",
       "1039  /Users/murielkosaka/Desktop/capstone_project/audio/audio_speech_actors_01-24/Actor_18/03-01-07-01-01-02-18.wav  \n",
       "1069  /Users/murielkosaka/Desktop/capstone_project/audio/audio_speech_actors_01-24/Actor_18/03-01-03-02-02-02-18.wav  "
      ]
     },
     "execution_count": 6,
     "metadata": {},
     "output_type": "execute_result"
    }
   ],
   "source": [
    "# ENSURE GENDER,EMOTION, AND ACTOR COLUMN VALUES ARE CORRECT\n",
    "pd.set_option('display.max_colwidth', -1)\n",
    "\n",
    "audio_df.sample(10)"
   ]
  },
  {
   "cell_type": "code",
   "execution_count": null,
   "metadata": {
    "scrolled": true
   },
   "outputs": [],
   "source": [
    "# LOOK AT DISTRIBUTION OF CLASSES\n",
    "audio_df.emotion.value_counts().plot(kind='bar')"
   ]
  },
  {
   "cell_type": "code",
   "execution_count": null,
   "metadata": {},
   "outputs": [],
   "source": [
    "# DROP GENDER COLUMN FOR CNN MODEL\n",
    "audio_df.drop(columns='gender',inplace=True)"
   ]
  },
  {
   "cell_type": "code",
   "execution_count": 61,
   "metadata": {},
   "outputs": [],
   "source": [
    "# EXPORT TO CSV\n",
    "audio_df.to_csv('Uploads/audio.csv')"
   ]
  },
  {
   "cell_type": "markdown",
   "metadata": {},
   "source": [
    "## Feature Extraction"
   ]
  },
  {
   "cell_type": "code",
   "execution_count": 7,
   "metadata": {},
   "outputs": [
    {
     "name": "stdout",
     "output_type": "stream",
     "text": [
      "1440\n"
     ]
    },
    {
     "data": {
      "text/html": [
       "<div>\n",
       "<style scoped>\n",
       "    .dataframe tbody tr th:only-of-type {\n",
       "        vertical-align: middle;\n",
       "    }\n",
       "\n",
       "    .dataframe tbody tr th {\n",
       "        vertical-align: top;\n",
       "    }\n",
       "\n",
       "    .dataframe thead th {\n",
       "        text-align: right;\n",
       "    }\n",
       "</style>\n",
       "<table border=\"1\" class=\"dataframe\">\n",
       "  <thead>\n",
       "    <tr style=\"text-align: right;\">\n",
       "      <th></th>\n",
       "      <th>mel_spectrogram</th>\n",
       "    </tr>\n",
       "  </thead>\n",
       "  <tbody>\n",
       "    <tr>\n",
       "      <th>0</th>\n",
       "      <td>[-71.20022, -71.20022, -71.20022, -71.20022, -71.20022, -71.20022, -71.20022, -71.20022, -71.20022, -71.20022, -71.20022, -71.20022, -71.20022, -71.20022, -71.20022, -71.20022, -71.20022, -71.20022, -71.20022, -71.20022, -71.20022, -71.20022, -71.20022, -71.20022, -71.20022, -71.20022, -71.20022, -71.20022, -71.20022, -71.20022, -71.20022, -71.20022, -71.20022, -71.187965, -70.50316, -67.70304, -62.224304, -63.253567, -66.196526, -66.34454, -67.49455, -69.91169, -53.04194, -35.311817, -27.755419, -23.393114, -21.939688, -22.235167, -23.184116, -25.2431, -26.592205, -26.015366, -26.703884, -28.167618, -27.373056, -27.462624, -27.054974, -25.768976, -25.470634, -25.14277, -25.983984, -26.77985, -27.67231, -26.951078, -27.863522, -32.06402, -37.21198, -41.15784, -41.274082, -34.481365, -27.691902, -27.530409, -31.189516, -31.399157, -31.948267, -29.20746, -28.984142, -31.086939, -31.237015, -29.119715, -28.87086, -30.872272, -34.477077, -35.46222, -33.769722, -31.421616, -30.794262, -32.836426, -33.15096, -31.07819, -29.341507, -28.946648, -30.864676, -32.78073, -34.300793, -35.43246, -35.512302, -35.824734, -32.8842, -31.126184, ...]</td>\n",
       "    </tr>\n",
       "    <tr>\n",
       "      <th>1</th>\n",
       "      <td>[-70.46105, -70.46105, -70.46105, -70.46105, -70.46105, -70.46105, -70.46105, -70.46105, -70.46105, -70.46105, -70.46105, -70.46105, -70.46105, -70.46105, -70.46105, -70.46105, -70.46105, -70.46105, -70.46105, -70.46105, -70.46105, -70.46105, -70.46105, -70.46105, -70.46105, -70.46105, -70.46105, -70.46105, -70.46105, -70.46105, -70.46105, -70.46105, -70.46105, -70.46105, -70.46105, -70.46105, -70.46105, -70.41843, -70.46105, -70.46105, -70.25049, -69.946724, -70.20045, -69.90415, -46.75178, -37.894924, -37.331062, -39.582226, -40.267193, -39.097256, -34.30898, -30.882538, -27.79429, -24.91162, -25.004232, -27.486069, -31.268763, -34.298225, -38.465237, -41.32319, -43.534092, -45.332016, -46.979027, -47.686756, -46.761665, -45.968925, -43.954605, -40.19617, -35.845676, -33.82483, -33.106888, -33.15585, -33.374546, -33.72269, -34.042297, -35.684322, -41.1145, -46.67604, -49.785683, -52.075474, -51.91589, -38.173065, -34.98285, -38.280056, -39.4877, -37.248043, -35.14156, -33.22471, -30.150965, -29.290407, -30.595972, -31.784248, -31.559921, -30.690218, -30.34244, -31.602049, -36.049015, -40.94679, -42.652313, -41.462643, ...]</td>\n",
       "    </tr>\n",
       "    <tr>\n",
       "      <th>2</th>\n",
       "      <td>[-64.17679, -64.39374, -64.444954, -64.26804, -64.303825, -64.46815, -64.46815, -64.46815, -64.46815, -64.46815, -64.46815, -64.46815, -64.46815, -64.46815, -64.46815, -64.46815, -64.46815, -64.46815, -64.447296, -64.4122, -64.400055, -64.46363, -64.46701, -64.44746, -64.398, -64.213005, -64.223236, -64.3529, -64.37738, -63.900597, -63.455616, -63.70556, -63.493465, -63.146347, -63.393356, -64.024376, -64.01411, -64.01472, -62.16667, -53.427326, -53.112213, -56.749325, -59.260284, -63.197086, -39.888687, -29.309977, -23.734594, -22.996405, -22.082584, -21.821333, -22.878685, -24.086143, -25.910528, -27.233507, -28.2812, -28.47165, -27.822582, -25.86707, -23.51746, -22.555597, -21.906961, -22.342373, -24.088245, -25.46311, -27.872072, -32.053486, -36.408924, -39.520267, -41.121758, -43.039547, -39.19178, -33.291317, -27.97979, -26.682621, -28.951216, -31.153667, -32.23939, -33.277252, -33.3202, -32.63985, -31.742908, -33.313877, -36.443222, -37.307518, -40.296413, -46.544678, -47.72739, -43.08766, -38.47714, -35.703156, -33.48515, -32.37977, -31.097954, -30.754461, -28.716875, -27.440126, -26.975042, -29.101736, -31.4359, -32.79103, ...]</td>\n",
       "    </tr>\n",
       "    <tr>\n",
       "      <th>3</th>\n",
       "      <td>[-73.2803, -73.2803, -73.2803, -73.2803, -73.2803, -73.25525, -73.08632, -73.234695, -73.2803, -73.2803, -73.2803, -73.2803, -73.2803, -73.2803, -73.2803, -73.2803, -73.2803, -73.2803, -73.2803, -73.2803, -73.2803, -73.2803, -73.2803, -73.2766, -72.74323, -71.09078, -70.32488, -69.20192, -68.22371, -67.45397, -66.758484, -65.69483, -65.750854, -66.72477, -66.233826, -64.321724, -60.120052, -56.59815, -57.859257, -64.78188, -70.005554, -72.02886, -72.05144, -66.42027, -46.804337, -38.68785, -40.12812, -42.07857, -35.87358, -31.867702, -31.069366, -30.786562, -30.708286, -31.049133, -30.594038, -30.058979, -29.921616, -30.058167, -31.074078, -31.801094, -32.656384, -33.532646, -34.788918, -34.99597, -34.13762, -34.972847, -36.22863, -38.490177, -41.82699, -45.501236, -47.465527, -47.147614, -44.388123, -40.265736, -37.180042, -37.945404, -38.4607, -38.45842, -37.795975, -37.486835, -37.30511, -37.606815, -37.80831, -39.675, -42.2954, -44.485256, -45.743984, -46.79095, -48.027542, -48.414497, -46.785187, -41.775555, -38.24257, -36.34381, -35.22687, -33.969482, -34.17495, -34.441654, -34.858227, -35.3414, ...]</td>\n",
       "    </tr>\n",
       "    <tr>\n",
       "      <th>4</th>\n",
       "      <td>[-44.965843, -44.467876, -44.512608, -44.934807, -44.67976, -44.350895, -45.16111, -46.12424, -45.938686, -46.116108, -47.09447, -47.62172, -47.63733, -47.701145, -48.068077, -48.822113, -49.14048, -49.71597, -49.76813, -50.072533, -50.29177, -50.402493, -50.55323, -50.518288, -50.542522, -49.066826, -43.137894, -37.33612, -34.0876, -31.809542, -29.823238, -28.566898, -28.065304, -28.504604, -29.059156, -28.825916, -29.726545, -29.442339, -26.92883, -28.7232, -33.947544, -40.16505, -44.01644, -46.17773, -31.573595, -25.215927, -23.049486, -22.003551, -23.94959, -25.282516, -25.487713, -24.853098, -22.367533, -19.035393, -19.379086, -20.857325, -21.44076, -23.028358, -22.790857, -21.008022, -19.449522, -18.951899, -18.80585, -19.211065, -20.16641, -20.2318, -21.13692, -22.728415, -25.552174, -28.874754, -32.315636, -32.480083, -31.529566, -29.435148, -27.240294, -25.20272, -23.98499, -24.441584, -22.90315, -22.518711, -22.576244, -23.69904, -22.151564, -19.469917, -17.445578, -17.230667, -17.38486, -17.578793, -19.190104, -18.864332, -19.906824, -24.95779, -30.626919, -32.08114, -33.993828, -30.882383, -26.53596, -23.850664, -23.291126, -22.71187, ...]</td>\n",
       "    </tr>\n",
       "  </tbody>\n",
       "</table>\n",
       "</div>"
      ],
      "text/plain": [
       "                                                                                                                                                                                                                                                                                                                                                                                                                                                                                                                                                                                                                                                                                                                                                                                                                                                                                                                                                                                                                                                                                                                                                                                                     mel_spectrogram\n",
       "0  [-71.20022, -71.20022, -71.20022, -71.20022, -71.20022, -71.20022, -71.20022, -71.20022, -71.20022, -71.20022, -71.20022, -71.20022, -71.20022, -71.20022, -71.20022, -71.20022, -71.20022, -71.20022, -71.20022, -71.20022, -71.20022, -71.20022, -71.20022, -71.20022, -71.20022, -71.20022, -71.20022, -71.20022, -71.20022, -71.20022, -71.20022, -71.20022, -71.20022, -71.187965, -70.50316, -67.70304, -62.224304, -63.253567, -66.196526, -66.34454, -67.49455, -69.91169, -53.04194, -35.311817, -27.755419, -23.393114, -21.939688, -22.235167, -23.184116, -25.2431, -26.592205, -26.015366, -26.703884, -28.167618, -27.373056, -27.462624, -27.054974, -25.768976, -25.470634, -25.14277, -25.983984, -26.77985, -27.67231, -26.951078, -27.863522, -32.06402, -37.21198, -41.15784, -41.274082, -34.481365, -27.691902, -27.530409, -31.189516, -31.399157, -31.948267, -29.20746, -28.984142, -31.086939, -31.237015, -29.119715, -28.87086, -30.872272, -34.477077, -35.46222, -33.769722, -31.421616, -30.794262, -32.836426, -33.15096, -31.07819, -29.341507, -28.946648, -30.864676, -32.78073, -34.300793, -35.43246, -35.512302, -35.824734, -32.8842, -31.126184, ...]                    \n",
       "1  [-70.46105, -70.46105, -70.46105, -70.46105, -70.46105, -70.46105, -70.46105, -70.46105, -70.46105, -70.46105, -70.46105, -70.46105, -70.46105, -70.46105, -70.46105, -70.46105, -70.46105, -70.46105, -70.46105, -70.46105, -70.46105, -70.46105, -70.46105, -70.46105, -70.46105, -70.46105, -70.46105, -70.46105, -70.46105, -70.46105, -70.46105, -70.46105, -70.46105, -70.46105, -70.46105, -70.46105, -70.46105, -70.41843, -70.46105, -70.46105, -70.25049, -69.946724, -70.20045, -69.90415, -46.75178, -37.894924, -37.331062, -39.582226, -40.267193, -39.097256, -34.30898, -30.882538, -27.79429, -24.91162, -25.004232, -27.486069, -31.268763, -34.298225, -38.465237, -41.32319, -43.534092, -45.332016, -46.979027, -47.686756, -46.761665, -45.968925, -43.954605, -40.19617, -35.845676, -33.82483, -33.106888, -33.15585, -33.374546, -33.72269, -34.042297, -35.684322, -41.1145, -46.67604, -49.785683, -52.075474, -51.91589, -38.173065, -34.98285, -38.280056, -39.4877, -37.248043, -35.14156, -33.22471, -30.150965, -29.290407, -30.595972, -31.784248, -31.559921, -30.690218, -30.34244, -31.602049, -36.049015, -40.94679, -42.652313, -41.462643, ...]                           \n",
       "2  [-64.17679, -64.39374, -64.444954, -64.26804, -64.303825, -64.46815, -64.46815, -64.46815, -64.46815, -64.46815, -64.46815, -64.46815, -64.46815, -64.46815, -64.46815, -64.46815, -64.46815, -64.46815, -64.447296, -64.4122, -64.400055, -64.46363, -64.46701, -64.44746, -64.398, -64.213005, -64.223236, -64.3529, -64.37738, -63.900597, -63.455616, -63.70556, -63.493465, -63.146347, -63.393356, -64.024376, -64.01411, -64.01472, -62.16667, -53.427326, -53.112213, -56.749325, -59.260284, -63.197086, -39.888687, -29.309977, -23.734594, -22.996405, -22.082584, -21.821333, -22.878685, -24.086143, -25.910528, -27.233507, -28.2812, -28.47165, -27.822582, -25.86707, -23.51746, -22.555597, -21.906961, -22.342373, -24.088245, -25.46311, -27.872072, -32.053486, -36.408924, -39.520267, -41.121758, -43.039547, -39.19178, -33.291317, -27.97979, -26.682621, -28.951216, -31.153667, -32.23939, -33.277252, -33.3202, -32.63985, -31.742908, -33.313877, -36.443222, -37.307518, -40.296413, -46.544678, -47.72739, -43.08766, -38.47714, -35.703156, -33.48515, -32.37977, -31.097954, -30.754461, -28.716875, -27.440126, -26.975042, -29.101736, -31.4359, -32.79103, ...]               \n",
       "3  [-73.2803, -73.2803, -73.2803, -73.2803, -73.2803, -73.25525, -73.08632, -73.234695, -73.2803, -73.2803, -73.2803, -73.2803, -73.2803, -73.2803, -73.2803, -73.2803, -73.2803, -73.2803, -73.2803, -73.2803, -73.2803, -73.2803, -73.2803, -73.2766, -72.74323, -71.09078, -70.32488, -69.20192, -68.22371, -67.45397, -66.758484, -65.69483, -65.750854, -66.72477, -66.233826, -64.321724, -60.120052, -56.59815, -57.859257, -64.78188, -70.005554, -72.02886, -72.05144, -66.42027, -46.804337, -38.68785, -40.12812, -42.07857, -35.87358, -31.867702, -31.069366, -30.786562, -30.708286, -31.049133, -30.594038, -30.058979, -29.921616, -30.058167, -31.074078, -31.801094, -32.656384, -33.532646, -34.788918, -34.99597, -34.13762, -34.972847, -36.22863, -38.490177, -41.82699, -45.501236, -47.465527, -47.147614, -44.388123, -40.265736, -37.180042, -37.945404, -38.4607, -38.45842, -37.795975, -37.486835, -37.30511, -37.606815, -37.80831, -39.675, -42.2954, -44.485256, -45.743984, -46.79095, -48.027542, -48.414497, -46.785187, -41.775555, -38.24257, -36.34381, -35.22687, -33.969482, -34.17495, -34.441654, -34.858227, -35.3414, ...]                                              \n",
       "4  [-44.965843, -44.467876, -44.512608, -44.934807, -44.67976, -44.350895, -45.16111, -46.12424, -45.938686, -46.116108, -47.09447, -47.62172, -47.63733, -47.701145, -48.068077, -48.822113, -49.14048, -49.71597, -49.76813, -50.072533, -50.29177, -50.402493, -50.55323, -50.518288, -50.542522, -49.066826, -43.137894, -37.33612, -34.0876, -31.809542, -29.823238, -28.566898, -28.065304, -28.504604, -29.059156, -28.825916, -29.726545, -29.442339, -26.92883, -28.7232, -33.947544, -40.16505, -44.01644, -46.17773, -31.573595, -25.215927, -23.049486, -22.003551, -23.94959, -25.282516, -25.487713, -24.853098, -22.367533, -19.035393, -19.379086, -20.857325, -21.44076, -23.028358, -22.790857, -21.008022, -19.449522, -18.951899, -18.80585, -19.211065, -20.16641, -20.2318, -21.13692, -22.728415, -25.552174, -28.874754, -32.315636, -32.480083, -31.529566, -29.435148, -27.240294, -25.20272, -23.98499, -24.441584, -22.90315, -22.518711, -22.576244, -23.69904, -22.151564, -19.469917, -17.445578, -17.230667, -17.38486, -17.578793, -19.190104, -18.864332, -19.906824, -24.95779, -30.626919, -32.08114, -33.993828, -30.882383, -26.53596, -23.850664, -23.291126, -22.71187, ...]"
      ]
     },
     "execution_count": 7,
     "metadata": {},
     "output_type": "execute_result"
    }
   ],
   "source": [
    "# ITERATE OVER ALL AUDIO FILES AND EXTRACT LOG MEL SPECTROGRAM MEAN VALUES INTO DF FOR MODELING \n",
    "df = pd.DataFrame(columns=['mel_spectrogram'])\n",
    "\n",
    "counter=0\n",
    "\n",
    "for index,path in enumerate(audio_df.path):\n",
    "    X, sample_rate = librosa.load(path, res_type='kaiser_fast',duration=3,sr=44100,offset=0.5)\n",
    "    \n",
    "    #get the mel-scaled spectrogram (ransform both the y-axis (frequency) to log scale, and the “color” axis (amplitude) to Decibels, which is kinda the log scale of amplitudes.)\n",
    "    spectrogram = librosa.feature.melspectrogram(y=X, sr=sample_rate, n_mels=128,fmax=8000) \n",
    "    db_spec = librosa.power_to_db(spectrogram)\n",
    "    #temporally average spectrogram\n",
    "    log_spectrogram = np.mean(db_spec, axis = 0)\n",
    "        \n",
    "    # Mel-frequency cepstral coefficients (MFCCs)\n",
    "#     mfcc = librosa.feature.mfcc(y=X, sr=sample_rate, n_mfcc=13)\n",
    "#     mfcc=np.mean(mfcc,axis=0)\n",
    "    \n",
    "    # compute chroma energy (pertains to 12 different pitch classes)\n",
    "#     chroma = librosa.feature.chroma_stft(y=X, sr=sample_rate)\n",
    "#     chroma = np.mean(chroma, axis = 0)\n",
    "\n",
    "    # compute spectral contrast\n",
    "#     contrast = librosa.feature.spectral_contrast(y=X, sr=sample_rate)\n",
    "#     contrast = np.mean(contrast, axis= 0)\n",
    "\n",
    "    # compute zero-crossing-rate (zcr:the zcr is the rate of sign changes along a signal i.e.m the rate at \n",
    "#     which the signal changes from positive to negative or back - separation of voiced andunvoiced speech.)\n",
    "#     zcr = librosa.feature.zero_crossing_rate(y=X)\n",
    "#     zcr = np.mean(zcr, axis= 0)\n",
    "    \n",
    "    df.loc[counter] = [log_spectrogram]\n",
    "    counter=counter+1   \n",
    "\n",
    "print(len(df))\n",
    "df.head()"
   ]
  },
  {
   "cell_type": "code",
   "execution_count": 8,
   "metadata": {},
   "outputs": [],
   "source": [
    "# TURN ARRAY INTO LIST AND JOIN WITH AUDIO_DF TO GET CORRESPONDING EMOTION LABELS\n",
    "df_combined = pd.concat([audio_df,pd.DataFrame(df['mel_spectrogram'].values.tolist())],axis=1)\n",
    "df_combined = df_combined.fillna(0)"
   ]
  },
  {
   "cell_type": "code",
   "execution_count": 9,
   "metadata": {},
   "outputs": [],
   "source": [
    "# DROP PATH COLUMN FOR MODELING\n",
    "df_combined.drop(columns='path',inplace=True)"
   ]
  },
  {
   "cell_type": "code",
   "execution_count": 10,
   "metadata": {},
   "outputs": [
    {
     "data": {
      "text/html": [
       "<div>\n",
       "<style scoped>\n",
       "    .dataframe tbody tr th:only-of-type {\n",
       "        vertical-align: middle;\n",
       "    }\n",
       "\n",
       "    .dataframe tbody tr th {\n",
       "        vertical-align: top;\n",
       "    }\n",
       "\n",
       "    .dataframe thead th {\n",
       "        text-align: right;\n",
       "    }\n",
       "</style>\n",
       "<table border=\"1\" class=\"dataframe\">\n",
       "  <thead>\n",
       "    <tr style=\"text-align: right;\">\n",
       "      <th></th>\n",
       "      <th>gender</th>\n",
       "      <th>emotion</th>\n",
       "      <th>actor</th>\n",
       "      <th>0</th>\n",
       "      <th>1</th>\n",
       "      <th>2</th>\n",
       "      <th>3</th>\n",
       "      <th>4</th>\n",
       "      <th>5</th>\n",
       "      <th>6</th>\n",
       "      <th>...</th>\n",
       "      <th>249</th>\n",
       "      <th>250</th>\n",
       "      <th>251</th>\n",
       "      <th>252</th>\n",
       "      <th>253</th>\n",
       "      <th>254</th>\n",
       "      <th>255</th>\n",
       "      <th>256</th>\n",
       "      <th>257</th>\n",
       "      <th>258</th>\n",
       "    </tr>\n",
       "  </thead>\n",
       "  <tbody>\n",
       "    <tr>\n",
       "      <th>0</th>\n",
       "      <td>male</td>\n",
       "      <td>surprise</td>\n",
       "      <td>1</td>\n",
       "      <td>-71.200218</td>\n",
       "      <td>-71.200218</td>\n",
       "      <td>-71.200218</td>\n",
       "      <td>-71.200218</td>\n",
       "      <td>-71.200218</td>\n",
       "      <td>-71.200218</td>\n",
       "      <td>-71.200218</td>\n",
       "      <td>...</td>\n",
       "      <td>-71.200218</td>\n",
       "      <td>-71.200218</td>\n",
       "      <td>-71.200218</td>\n",
       "      <td>-71.200218</td>\n",
       "      <td>-71.200218</td>\n",
       "      <td>-71.200218</td>\n",
       "      <td>-71.200218</td>\n",
       "      <td>-71.200218</td>\n",
       "      <td>-71.200218</td>\n",
       "      <td>-71.200218</td>\n",
       "    </tr>\n",
       "    <tr>\n",
       "      <th>1</th>\n",
       "      <td>male</td>\n",
       "      <td>surprise</td>\n",
       "      <td>1</td>\n",
       "      <td>-70.461052</td>\n",
       "      <td>-70.461052</td>\n",
       "      <td>-70.461052</td>\n",
       "      <td>-70.461052</td>\n",
       "      <td>-70.461052</td>\n",
       "      <td>-70.461052</td>\n",
       "      <td>-70.461052</td>\n",
       "      <td>...</td>\n",
       "      <td>-70.461052</td>\n",
       "      <td>-70.461052</td>\n",
       "      <td>0.000000</td>\n",
       "      <td>0.000000</td>\n",
       "      <td>0.000000</td>\n",
       "      <td>0.000000</td>\n",
       "      <td>0.000000</td>\n",
       "      <td>0.000000</td>\n",
       "      <td>0.000000</td>\n",
       "      <td>0.000000</td>\n",
       "    </tr>\n",
       "    <tr>\n",
       "      <th>2</th>\n",
       "      <td>male</td>\n",
       "      <td>angry</td>\n",
       "      <td>1</td>\n",
       "      <td>-64.176788</td>\n",
       "      <td>-64.393738</td>\n",
       "      <td>-64.444954</td>\n",
       "      <td>-64.268044</td>\n",
       "      <td>-64.303825</td>\n",
       "      <td>-64.468147</td>\n",
       "      <td>-64.468147</td>\n",
       "      <td>...</td>\n",
       "      <td>-64.468147</td>\n",
       "      <td>-64.468147</td>\n",
       "      <td>-64.468147</td>\n",
       "      <td>-64.468147</td>\n",
       "      <td>-64.422607</td>\n",
       "      <td>-64.364937</td>\n",
       "      <td>-64.468147</td>\n",
       "      <td>-64.465858</td>\n",
       "      <td>-64.354759</td>\n",
       "      <td>-64.385941</td>\n",
       "    </tr>\n",
       "    <tr>\n",
       "      <th>3</th>\n",
       "      <td>male</td>\n",
       "      <td>fear</td>\n",
       "      <td>1</td>\n",
       "      <td>-73.280296</td>\n",
       "      <td>-73.280296</td>\n",
       "      <td>-73.280296</td>\n",
       "      <td>-73.280296</td>\n",
       "      <td>-73.280296</td>\n",
       "      <td>-73.255249</td>\n",
       "      <td>-73.086319</td>\n",
       "      <td>...</td>\n",
       "      <td>-72.866135</td>\n",
       "      <td>-73.029083</td>\n",
       "      <td>-73.021973</td>\n",
       "      <td>-73.157417</td>\n",
       "      <td>-73.278503</td>\n",
       "      <td>-73.280296</td>\n",
       "      <td>-73.272202</td>\n",
       "      <td>-73.042091</td>\n",
       "      <td>-72.969475</td>\n",
       "      <td>-73.264915</td>\n",
       "    </tr>\n",
       "    <tr>\n",
       "      <th>4</th>\n",
       "      <td>male</td>\n",
       "      <td>fear</td>\n",
       "      <td>1</td>\n",
       "      <td>-44.965843</td>\n",
       "      <td>-44.467876</td>\n",
       "      <td>-44.512608</td>\n",
       "      <td>-44.934807</td>\n",
       "      <td>-44.679760</td>\n",
       "      <td>-44.350895</td>\n",
       "      <td>-45.161110</td>\n",
       "      <td>...</td>\n",
       "      <td>-42.328346</td>\n",
       "      <td>-42.546494</td>\n",
       "      <td>-43.290047</td>\n",
       "      <td>-42.981064</td>\n",
       "      <td>-43.380680</td>\n",
       "      <td>-44.499775</td>\n",
       "      <td>-44.815922</td>\n",
       "      <td>-45.377876</td>\n",
       "      <td>-45.876091</td>\n",
       "      <td>-46.404274</td>\n",
       "    </tr>\n",
       "  </tbody>\n",
       "</table>\n",
       "<p>5 rows × 262 columns</p>\n",
       "</div>"
      ],
      "text/plain": [
       "  gender   emotion  actor          0          1          2          3  \\\n",
       "0  male   surprise  1     -71.200218 -71.200218 -71.200218 -71.200218   \n",
       "1  male   surprise  1     -70.461052 -70.461052 -70.461052 -70.461052   \n",
       "2  male   angry     1     -64.176788 -64.393738 -64.444954 -64.268044   \n",
       "3  male   fear      1     -73.280296 -73.280296 -73.280296 -73.280296   \n",
       "4  male   fear      1     -44.965843 -44.467876 -44.512608 -44.934807   \n",
       "\n",
       "           4          5          6  ...        249        250        251  \\\n",
       "0 -71.200218 -71.200218 -71.200218  ... -71.200218 -71.200218 -71.200218   \n",
       "1 -70.461052 -70.461052 -70.461052  ... -70.461052 -70.461052  0.000000    \n",
       "2 -64.303825 -64.468147 -64.468147  ... -64.468147 -64.468147 -64.468147   \n",
       "3 -73.280296 -73.255249 -73.086319  ... -72.866135 -73.029083 -73.021973   \n",
       "4 -44.679760 -44.350895 -45.161110  ... -42.328346 -42.546494 -43.290047   \n",
       "\n",
       "         252        253        254        255        256        257        258  \n",
       "0 -71.200218 -71.200218 -71.200218 -71.200218 -71.200218 -71.200218 -71.200218  \n",
       "1  0.000000   0.000000   0.000000   0.000000   0.000000   0.000000   0.000000   \n",
       "2 -64.468147 -64.422607 -64.364937 -64.468147 -64.465858 -64.354759 -64.385941  \n",
       "3 -73.157417 -73.278503 -73.280296 -73.272202 -73.042091 -72.969475 -73.264915  \n",
       "4 -42.981064 -43.380680 -44.499775 -44.815922 -45.377876 -45.876091 -46.404274  \n",
       "\n",
       "[5 rows x 262 columns]"
      ]
     },
     "execution_count": 10,
     "metadata": {},
     "output_type": "execute_result"
    }
   ],
   "source": [
    "# CHECK TOP 5 ROWS\n",
    "df_combined.head()"
   ]
  },
  {
   "cell_type": "markdown",
   "metadata": {},
   "source": [
    "# Prepping Data for Modeling"
   ]
  },
  {
   "cell_type": "code",
   "execution_count": 18,
   "metadata": {},
   "outputs": [],
   "source": [
    "# TRAIN TEST SPLIT DATA\n",
    "train,test = train_test_split(df_combined, test_size=0.2, random_state=0,\n",
    "                               stratify=df_combined[['gender','actor']])"
   ]
  },
  {
   "cell_type": "code",
   "execution_count": 20,
   "metadata": {},
   "outputs": [
    {
     "name": "stdout",
     "output_type": "stream",
     "text": [
      "(1152, 259)\n"
     ]
    }
   ],
   "source": [
    "X_train = train.iloc[:, 3:]\n",
    "y_train = train.iloc[:,:2].drop(columns=['gender'])\n",
    "print(X_train.shape)"
   ]
  },
  {
   "cell_type": "code",
   "execution_count": 21,
   "metadata": {
    "scrolled": true
   },
   "outputs": [
    {
     "name": "stdout",
     "output_type": "stream",
     "text": [
      "(288, 259)\n"
     ]
    }
   ],
   "source": [
    "X_test = test.iloc[:,3:]\n",
    "y_test = test.iloc[:,:2].drop(columns=['gender'])\n",
    "print(X_test.shape)"
   ]
  },
  {
   "cell_type": "markdown",
   "metadata": {},
   "source": [
    "# Data Preprocessing"
   ]
  },
  {
   "cell_type": "code",
   "execution_count": 24,
   "metadata": {},
   "outputs": [],
   "source": [
    "# NORMALIZE DATA\n",
    "mean = np.mean(X_train, axis=0)\n",
    "std = np.std(X_train, axis=0)\n",
    "X_train = (X_train - mean)/std\n",
    "X_test = (X_test - mean)/std"
   ]
  },
  {
   "cell_type": "code",
   "execution_count": 25,
   "metadata": {},
   "outputs": [],
   "source": [
    "# TURN DATA INTO ARRAYS FOR KERAS\n",
    "X_train = np.array(X_train)\n",
    "y_train = np.array(y_train)\n",
    "X_test = np.array(X_test)\n",
    "y_test = np.array(y_test)"
   ]
  },
  {
   "cell_type": "code",
   "execution_count": 26,
   "metadata": {},
   "outputs": [
    {
     "name": "stdout",
     "output_type": "stream",
     "text": [
      "[[0. 0. 0. 1. 0. 0. 0. 0.]\n",
      " [0. 0. 0. 1. 0. 0. 0. 0.]\n",
      " [0. 1. 0. 0. 0. 0. 0. 0.]\n",
      " [0. 1. 0. 0. 0. 0. 0. 0.]\n",
      " [0. 0. 0. 1. 0. 0. 0. 0.]\n",
      " [0. 0. 1. 0. 0. 0. 0. 0.]\n",
      " [0. 0. 0. 1. 0. 0. 0. 0.]\n",
      " [0. 0. 0. 0. 0. 0. 0. 1.]\n",
      " [1. 0. 0. 0. 0. 0. 0. 0.]\n",
      " [0. 0. 0. 0. 0. 0. 1. 0.]]\n"
     ]
    }
   ],
   "source": [
    "# ONE HOT ENCODE THE TARGET\n",
    "# CNN REQUIRES INPUT AND OUTPUT ARE NUMBERS\n",
    "lb = LabelEncoder()\n",
    "y_train = to_categorical(lb.fit_transform(y_train))\n",
    "y_test = to_categorical(lb.fit_transform(y_test))\n",
    "\n",
    "print(y_test[0:10])"
   ]
  },
  {
   "cell_type": "code",
   "execution_count": 27,
   "metadata": {
    "scrolled": true
   },
   "outputs": [
    {
     "name": "stdout",
     "output_type": "stream",
     "text": [
      "['angry' 'calm' 'disgust' 'fear' 'happy' 'neutral' 'sad' 'surprise']\n"
     ]
    }
   ],
   "source": [
    "print(lb.classes_)"
   ]
  },
  {
   "cell_type": "code",
   "execution_count": 28,
   "metadata": {},
   "outputs": [
    {
     "data": {
      "text/plain": [
       "(288, 259, 1)"
      ]
     },
     "execution_count": 28,
     "metadata": {},
     "output_type": "execute_result"
    }
   ],
   "source": [
    "# RESHAPE DATA TO INCLUDE 3D TENSOR \n",
    "X_train = X_train[:,:,np.newaxis]\n",
    "X_test = X_test[:,:,np.newaxis]\n",
    "\n",
    "X_test.shape"
   ]
  },
  {
   "cell_type": "markdown",
   "metadata": {},
   "source": [
    "## Base Model"
   ]
  },
  {
   "cell_type": "code",
   "execution_count": 16,
   "metadata": {
    "scrolled": true
   },
   "outputs": [
    {
     "data": {
      "text/plain": [
       "(1152, 259)"
      ]
     },
     "execution_count": 16,
     "metadata": {},
     "output_type": "execute_result"
    }
   ],
   "source": [
    "X_train.shape"
   ]
  },
  {
   "cell_type": "code",
   "execution_count": 17,
   "metadata": {},
   "outputs": [
    {
     "data": {
      "text/plain": [
       "(288, 259)"
      ]
     },
     "execution_count": 17,
     "metadata": {},
     "output_type": "execute_result"
    }
   ],
   "source": [
    "X_test.shape"
   ]
  },
  {
   "cell_type": "code",
   "execution_count": 22,
   "metadata": {},
   "outputs": [
    {
     "data": {
      "text/plain": [
       "0.16666666666666666"
      ]
     },
     "execution_count": 22,
     "metadata": {},
     "output_type": "execute_result"
    }
   ],
   "source": [
    "import numpy as np\n",
    "from sklearn.dummy import DummyClassifier\n",
    "\n",
    "dummy_clf = DummyClassifier(strategy=\"stratified\")\n",
    "dummy_clf.fit(X_train, y_train)\n",
    "DummyClassifier(strategy='stratified')\n",
    "dummy_clf.predict(X_test)\n",
    "dummy_clf.score(X_test, y_test)\n"
   ]
  },
  {
   "cell_type": "code",
   "execution_count": 23,
   "metadata": {},
   "outputs": [
    {
     "data": {
      "text/plain": [
       "0.3368055555555556"
      ]
     },
     "execution_count": 23,
     "metadata": {},
     "output_type": "execute_result"
    }
   ],
   "source": [
    "from sklearn import tree\n",
    "\n",
    "clf = tree.DecisionTreeClassifier()\n",
    "clf = clf.fit(X_train, y_train)\n",
    "clf.predict(X_test)\n",
    "clf.score(X_test, y_test)\n"
   ]
  },
  {
   "cell_type": "markdown",
   "metadata": {},
   "source": [
    "## Initial Model"
   ]
  },
  {
   "cell_type": "code",
   "execution_count": 49,
   "metadata": {
    "scrolled": false
   },
   "outputs": [
    {
     "name": "stderr",
     "output_type": "stream",
     "text": [
      "W1101 00:16:22.814433 140735918343040 deprecation.py:506] From /opt/anaconda3/envs/learn-env/lib/python3.6/site-packages/tensorflow/python/ops/resource_variable_ops.py:1666: calling BaseResourceVariable.__init__ (from tensorflow.python.ops.resource_variable_ops) with constraint is deprecated and will be removed in a future version.\n",
      "Instructions for updating:\n",
      "If using Keras pass *_constraint arguments to layers.\n"
     ]
    },
    {
     "name": "stdout",
     "output_type": "stream",
     "text": [
      "Model: \"sequential_5\"\n",
      "_________________________________________________________________\n",
      "Layer (type)                 Output Shape              Param #   \n",
      "=================================================================\n",
      "conv1d (Conv1D)              (None, 250, 64)           704       \n",
      "_________________________________________________________________\n",
      "conv1d_1 (Conv1D)            (None, 241, 128)          82048     \n",
      "_________________________________________________________________\n",
      "max_pooling1d (MaxPooling1D) (None, 30, 128)           0         \n",
      "_________________________________________________________________\n",
      "dropout (Dropout)            (None, 30, 128)           0         \n",
      "_________________________________________________________________\n",
      "conv1d_2 (Conv1D)            (None, 21, 128)           163968    \n",
      "_________________________________________________________________\n",
      "max_pooling1d_1 (MaxPooling1 (None, 2, 128)            0         \n",
      "_________________________________________________________________\n",
      "dropout_1 (Dropout)          (None, 2, 128)            0         \n",
      "_________________________________________________________________\n",
      "flatten (Flatten)            (None, 256)               0         \n",
      "_________________________________________________________________\n",
      "dense (Dense)                (None, 256)               65792     \n",
      "_________________________________________________________________\n",
      "dropout_2 (Dropout)          (None, 256)               0         \n",
      "_________________________________________________________________\n",
      "dense_1 (Dense)              (None, 8)                 2056      \n",
      "=================================================================\n",
      "Total params: 314,568\n",
      "Trainable params: 314,568\n",
      "Non-trainable params: 0\n",
      "_________________________________________________________________\n"
     ]
    }
   ],
   "source": [
    "import tensorflow as tf\n",
    "from tensorflow import keras\n",
    "from tensorflow.keras import layers\n",
    "from tensorflow.keras.models import Sequential, load_model\n",
    "\n",
    "#BUILD 1D CNN LAYERS\n",
    "model = tf.keras.Sequential()\n",
    "model.add(layers.Conv1D(64, kernel_size=(10), activation='relu', input_shape=(X_train.shape[1],1)))\n",
    "model.add(layers.Conv1D(128, kernel_size=(10),activation='relu',kernel_regularizer=l2(0.01), bias_regularizer=l2(0.01)))\n",
    "model.add(layers.MaxPooling1D(pool_size=(8)))\n",
    "model.add(layers.Dropout(0.4))\n",
    "model.add(layers.Conv1D(128, kernel_size=(10),activation='relu'))\n",
    "model.add(layers.MaxPooling1D(pool_size=(8)))\n",
    "model.add(layers.Dropout(0.4))\n",
    "model.add(layers.Flatten())\n",
    "model.add(layers.Dense(256, activation='relu'))\n",
    "model.add(layers.Dropout(0.4))\n",
    "model.add(layers.Dense(8, activation='sigmoid'))\n",
    "opt = keras.optimizers.Adam(lr=0.0001)\n",
    "model.compile(loss='categorical_crossentropy', optimizer=opt,metrics=['accuracy'])\n",
    "model.summary()"
   ]
  },
  {
   "cell_type": "code",
   "execution_count": 54,
   "metadata": {
    "scrolled": true
   },
   "outputs": [
    {
     "name": "stderr",
     "output_type": "stream",
     "text": [
      "W1101 00:18:27.177072 140735918343040 callbacks.py:1071] `period` argument is deprecated. Please use `save_freq` to specify the frequency in number of batches seen.\n"
     ]
    },
    {
     "name": "stdout",
     "output_type": "stream",
     "text": [
      "Train on 1152 samples, validate on 288 samples\n",
      "Epoch 1/40\n",
      "1152/1152 [==============================] - ETA: 0s - loss: 2.8607 - acc: 0.1667"
     ]
    },
    {
     "name": "stderr",
     "output_type": "stream",
     "text": [
      "W1101 00:18:30.520453 140735918343040 callbacks.py:1203] Can save best model only with val_accuracy available, skipping.\n"
     ]
    },
    {
     "name": "stdout",
     "output_type": "stream",
     "text": [
      "1152/1152 [==============================] - 2s 2ms/sample - loss: 2.8607 - acc: 0.1667 - val_loss: 2.7849 - val_acc: 0.2118\n",
      "Epoch 2/40\n",
      "1152/1152 [==============================] - ETA: 0s - loss: 2.6928 - acc: 0.2396"
     ]
    },
    {
     "name": "stderr",
     "output_type": "stream",
     "text": [
      "W1101 00:18:32.785166 140735918343040 callbacks.py:1203] Can save best model only with val_accuracy available, skipping.\n"
     ]
    },
    {
     "name": "stdout",
     "output_type": "stream",
     "text": [
      "1152/1152 [==============================] - 2s 2ms/sample - loss: 2.6928 - acc: 0.2396 - val_loss: 2.6161 - val_acc: 0.2222\n",
      "Epoch 3/40\n",
      "1152/1152 [==============================] - ETA: 0s - loss: 2.5184 - acc: 0.2500"
     ]
    },
    {
     "name": "stderr",
     "output_type": "stream",
     "text": [
      "W1101 00:18:35.082084 140735918343040 callbacks.py:1203] Can save best model only with val_accuracy available, skipping.\n"
     ]
    },
    {
     "name": "stdout",
     "output_type": "stream",
     "text": [
      "1152/1152 [==============================] - 2s 2ms/sample - loss: 2.5184 - acc: 0.2500 - val_loss: 2.4568 - val_acc: 0.2257\n",
      "Epoch 4/40\n",
      "1152/1152 [==============================] - ETA: 0s - loss: 2.3867 - acc: 0.2561"
     ]
    },
    {
     "name": "stderr",
     "output_type": "stream",
     "text": [
      "W1101 00:18:37.442044 140735918343040 callbacks.py:1203] Can save best model only with val_accuracy available, skipping.\n"
     ]
    },
    {
     "name": "stdout",
     "output_type": "stream",
     "text": [
      "1152/1152 [==============================] - 2s 2ms/sample - loss: 2.3867 - acc: 0.2561 - val_loss: 2.3698 - val_acc: 0.2431\n",
      "Epoch 5/40\n",
      "1152/1152 [==============================] - ETA: 0s - loss: 2.3104 - acc: 0.2795"
     ]
    },
    {
     "name": "stderr",
     "output_type": "stream",
     "text": [
      "W1101 00:18:39.726501 140735918343040 callbacks.py:1203] Can save best model only with val_accuracy available, skipping.\n"
     ]
    },
    {
     "name": "stdout",
     "output_type": "stream",
     "text": [
      "1152/1152 [==============================] - 2s 2ms/sample - loss: 2.3104 - acc: 0.2795 - val_loss: 2.3031 - val_acc: 0.2500\n",
      "Epoch 6/40\n",
      "1152/1152 [==============================] - ETA: 0s - loss: 2.2397 - acc: 0.2665"
     ]
    },
    {
     "name": "stderr",
     "output_type": "stream",
     "text": [
      "W1101 00:18:42.448936 140735918343040 callbacks.py:1203] Can save best model only with val_accuracy available, skipping.\n"
     ]
    },
    {
     "name": "stdout",
     "output_type": "stream",
     "text": [
      "1152/1152 [==============================] - 3s 2ms/sample - loss: 2.2397 - acc: 0.2665 - val_loss: 2.2484 - val_acc: 0.2361\n",
      "Epoch 7/40\n",
      "1152/1152 [==============================] - ETA: 0s - loss: 2.1812 - acc: 0.2865"
     ]
    },
    {
     "name": "stderr",
     "output_type": "stream",
     "text": [
      "W1101 00:18:45.054534 140735918343040 callbacks.py:1203] Can save best model only with val_accuracy available, skipping.\n"
     ]
    },
    {
     "name": "stdout",
     "output_type": "stream",
     "text": [
      "1152/1152 [==============================] - 3s 2ms/sample - loss: 2.1812 - acc: 0.2865 - val_loss: 2.1971 - val_acc: 0.2708\n",
      "Epoch 8/40\n",
      "1152/1152 [==============================] - ETA: 0s - loss: 2.1279 - acc: 0.2977"
     ]
    },
    {
     "name": "stderr",
     "output_type": "stream",
     "text": [
      "W1101 00:18:47.942456 140735918343040 callbacks.py:1203] Can save best model only with val_accuracy available, skipping.\n"
     ]
    },
    {
     "name": "stdout",
     "output_type": "stream",
     "text": [
      "1152/1152 [==============================] - 3s 2ms/sample - loss: 2.1279 - acc: 0.2977 - val_loss: 2.1491 - val_acc: 0.2604\n",
      "Epoch 9/40\n",
      "1152/1152 [==============================] - ETA: 0s - loss: 2.0793 - acc: 0.2891"
     ]
    },
    {
     "name": "stderr",
     "output_type": "stream",
     "text": [
      "W1101 00:18:50.544269 140735918343040 callbacks.py:1203] Can save best model only with val_accuracy available, skipping.\n"
     ]
    },
    {
     "name": "stdout",
     "output_type": "stream",
     "text": [
      "1152/1152 [==============================] - 2s 2ms/sample - loss: 2.0793 - acc: 0.2891 - val_loss: 2.1200 - val_acc: 0.2500\n",
      "Epoch 10/40\n",
      "1152/1152 [==============================] - ETA: 0s - loss: 2.0470 - acc: 0.2908"
     ]
    },
    {
     "name": "stderr",
     "output_type": "stream",
     "text": [
      "W1101 00:18:53.146362 140735918343040 callbacks.py:1203] Can save best model only with val_accuracy available, skipping.\n"
     ]
    },
    {
     "name": "stdout",
     "output_type": "stream",
     "text": [
      "1152/1152 [==============================] - 3s 2ms/sample - loss: 2.0470 - acc: 0.2908 - val_loss: 2.0757 - val_acc: 0.2674\n",
      "Epoch 11/40\n",
      "1152/1152 [==============================] - ETA: 0s - loss: 2.0211 - acc: 0.2943"
     ]
    },
    {
     "name": "stderr",
     "output_type": "stream",
     "text": [
      "W1101 00:18:55.561346 140735918343040 callbacks.py:1203] Can save best model only with val_accuracy available, skipping.\n"
     ]
    },
    {
     "name": "stdout",
     "output_type": "stream",
     "text": [
      "1152/1152 [==============================] - 2s 2ms/sample - loss: 2.0211 - acc: 0.2943 - val_loss: 2.0436 - val_acc: 0.2604\n",
      "Epoch 12/40\n",
      "1152/1152 [==============================] - ETA: 0s - loss: 1.9890 - acc: 0.2925- ETA: 0s - loss: 1.98"
     ]
    },
    {
     "name": "stderr",
     "output_type": "stream",
     "text": [
      "W1101 00:18:57.999952 140735918343040 callbacks.py:1203] Can save best model only with val_accuracy available, skipping.\n"
     ]
    },
    {
     "name": "stdout",
     "output_type": "stream",
     "text": [
      "1152/1152 [==============================] - 2s 2ms/sample - loss: 1.9890 - acc: 0.2925 - val_loss: 2.0088 - val_acc: 0.2917\n",
      "Epoch 13/40\n",
      "1152/1152 [==============================] - ETA: 0s - loss: 1.9635 - acc: 0.3003"
     ]
    },
    {
     "name": "stderr",
     "output_type": "stream",
     "text": [
      "W1101 00:19:00.578096 140735918343040 callbacks.py:1203] Can save best model only with val_accuracy available, skipping.\n"
     ]
    },
    {
     "name": "stdout",
     "output_type": "stream",
     "text": [
      "1152/1152 [==============================] - 2s 2ms/sample - loss: 1.9635 - acc: 0.3003 - val_loss: 1.9837 - val_acc: 0.2847\n",
      "Epoch 14/40\n",
      "1152/1152 [==============================] - ETA: 0s - loss: 1.9308 - acc: 0.3134"
     ]
    },
    {
     "name": "stderr",
     "output_type": "stream",
     "text": [
      "W1101 00:19:03.125579 140735918343040 callbacks.py:1203] Can save best model only with val_accuracy available, skipping.\n"
     ]
    },
    {
     "name": "stdout",
     "output_type": "stream",
     "text": [
      "1152/1152 [==============================] - 2s 2ms/sample - loss: 1.9308 - acc: 0.3134 - val_loss: 1.9575 - val_acc: 0.2986\n",
      "Epoch 15/40\n",
      "1152/1152 [==============================] - ETA: 0s - loss: 1.9082 - acc: 0.3142"
     ]
    },
    {
     "name": "stderr",
     "output_type": "stream",
     "text": [
      "W1101 00:19:05.245805 140735918343040 callbacks.py:1203] Can save best model only with val_accuracy available, skipping.\n"
     ]
    },
    {
     "name": "stdout",
     "output_type": "stream",
     "text": [
      "1152/1152 [==============================] - 2s 2ms/sample - loss: 1.9082 - acc: 0.3142 - val_loss: 1.9351 - val_acc: 0.2986\n",
      "Epoch 16/40\n",
      "1152/1152 [==============================] - ETA: 0s - loss: 1.8873 - acc: 0.3177"
     ]
    },
    {
     "name": "stderr",
     "output_type": "stream",
     "text": [
      "W1101 00:19:07.521468 140735918343040 callbacks.py:1203] Can save best model only with val_accuracy available, skipping.\n"
     ]
    },
    {
     "name": "stdout",
     "output_type": "stream",
     "text": [
      "1152/1152 [==============================] - 2s 2ms/sample - loss: 1.8873 - acc: 0.3177 - val_loss: 1.9248 - val_acc: 0.3021\n",
      "Epoch 17/40\n",
      "1152/1152 [==============================] - ETA: 0s - loss: 1.8550 - acc: 0.3377"
     ]
    },
    {
     "name": "stderr",
     "output_type": "stream",
     "text": [
      "W1101 00:19:09.726499 140735918343040 callbacks.py:1203] Can save best model only with val_accuracy available, skipping.\n"
     ]
    },
    {
     "name": "stdout",
     "output_type": "stream",
     "text": [
      "1152/1152 [==============================] - 2s 2ms/sample - loss: 1.8550 - acc: 0.3377 - val_loss: 1.8990 - val_acc: 0.3090\n",
      "Epoch 18/40\n",
      "1152/1152 [==============================] - ETA: 0s - loss: 1.8538 - acc: 0.3212"
     ]
    },
    {
     "name": "stderr",
     "output_type": "stream",
     "text": [
      "W1101 00:19:12.297443 140735918343040 callbacks.py:1203] Can save best model only with val_accuracy available, skipping.\n"
     ]
    },
    {
     "name": "stdout",
     "output_type": "stream",
     "text": [
      "1152/1152 [==============================] - 3s 2ms/sample - loss: 1.8538 - acc: 0.3212 - val_loss: 1.8813 - val_acc: 0.3229\n",
      "Epoch 19/40\n",
      "1152/1152 [==============================] - ETA: 0s - loss: 1.8245 - acc: 0.3394- ETA: 0s - loss: 1.8367 "
     ]
    },
    {
     "name": "stderr",
     "output_type": "stream",
     "text": [
      "W1101 00:19:14.731353 140735918343040 callbacks.py:1203] Can save best model only with val_accuracy available, skipping.\n"
     ]
    },
    {
     "name": "stdout",
     "output_type": "stream",
     "text": [
      "1152/1152 [==============================] - 2s 2ms/sample - loss: 1.8245 - acc: 0.3394 - val_loss: 1.8703 - val_acc: 0.3333\n",
      "Epoch 20/40\n",
      "1152/1152 [==============================] - ETA: 0s - loss: 1.8096 - acc: 0.3325"
     ]
    },
    {
     "name": "stderr",
     "output_type": "stream",
     "text": [
      "W1101 00:19:16.970300 140735918343040 callbacks.py:1203] Can save best model only with val_accuracy available, skipping.\n"
     ]
    },
    {
     "name": "stdout",
     "output_type": "stream",
     "text": [
      "1152/1152 [==============================] - 2s 2ms/sample - loss: 1.8096 - acc: 0.3325 - val_loss: 1.8543 - val_acc: 0.3264\n",
      "Epoch 21/40\n",
      "1152/1152 [==============================] - ETA: 0s - loss: 1.8037 - acc: 0.3411"
     ]
    },
    {
     "name": "stderr",
     "output_type": "stream",
     "text": [
      "W1101 00:19:19.255649 140735918343040 callbacks.py:1203] Can save best model only with val_accuracy available, skipping.\n"
     ]
    },
    {
     "name": "stdout",
     "output_type": "stream",
     "text": [
      "1152/1152 [==============================] - 2s 2ms/sample - loss: 1.8037 - acc: 0.3411 - val_loss: 1.8405 - val_acc: 0.3438\n",
      "Epoch 22/40\n",
      "1152/1152 [==============================] - ETA: 0s - loss: 1.7957 - acc: 0.3420"
     ]
    },
    {
     "name": "stderr",
     "output_type": "stream",
     "text": [
      "W1101 00:19:21.512185 140735918343040 callbacks.py:1203] Can save best model only with val_accuracy available, skipping.\n"
     ]
    },
    {
     "name": "stdout",
     "output_type": "stream",
     "text": [
      "1152/1152 [==============================] - 2s 2ms/sample - loss: 1.7957 - acc: 0.3420 - val_loss: 1.8330 - val_acc: 0.3160\n",
      "Epoch 23/40\n",
      "1152/1152 [==============================] - ETA: 0s - loss: 1.7721 - acc: 0.3490"
     ]
    },
    {
     "name": "stderr",
     "output_type": "stream",
     "text": [
      "W1101 00:19:24.065747 140735918343040 callbacks.py:1203] Can save best model only with val_accuracy available, skipping.\n"
     ]
    },
    {
     "name": "stdout",
     "output_type": "stream",
     "text": [
      "1152/1152 [==============================] - 2s 2ms/sample - loss: 1.7721 - acc: 0.3490 - val_loss: 1.8180 - val_acc: 0.3472\n",
      "Epoch 24/40\n",
      "1152/1152 [==============================] - ETA: 0s - loss: 1.7503 - acc: 0.3464"
     ]
    },
    {
     "name": "stderr",
     "output_type": "stream",
     "text": [
      "W1101 00:19:27.201327 140735918343040 callbacks.py:1203] Can save best model only with val_accuracy available, skipping.\n"
     ]
    },
    {
     "name": "stdout",
     "output_type": "stream",
     "text": [
      "1152/1152 [==============================] - 3s 3ms/sample - loss: 1.7503 - acc: 0.3464 - val_loss: 1.8093 - val_acc: 0.3368\n",
      "Epoch 25/40\n",
      "1152/1152 [==============================] - ETA: 0s - loss: 1.7548 - acc: 0.3481"
     ]
    },
    {
     "name": "stderr",
     "output_type": "stream",
     "text": [
      "W1101 00:19:29.508528 140735918343040 callbacks.py:1203] Can save best model only with val_accuracy available, skipping.\n"
     ]
    },
    {
     "name": "stdout",
     "output_type": "stream",
     "text": [
      "1152/1152 [==============================] - 2s 2ms/sample - loss: 1.7548 - acc: 0.3481 - val_loss: 1.7971 - val_acc: 0.3507\n",
      "Epoch 26/40\n",
      "1152/1152 [==============================] - ETA: 0s - loss: 1.7485 - acc: 0.3715"
     ]
    },
    {
     "name": "stderr",
     "output_type": "stream",
     "text": [
      "W1101 00:19:31.788646 140735918343040 callbacks.py:1203] Can save best model only with val_accuracy available, skipping.\n"
     ]
    },
    {
     "name": "stdout",
     "output_type": "stream",
     "text": [
      "1152/1152 [==============================] - 2s 2ms/sample - loss: 1.7485 - acc: 0.3715 - val_loss: 1.7931 - val_acc: 0.3403\n",
      "Epoch 27/40\n",
      "1152/1152 [==============================] - ETA: 0s - loss: 1.7483 - acc: 0.3585"
     ]
    },
    {
     "name": "stderr",
     "output_type": "stream",
     "text": [
      "W1101 00:19:34.551802 140735918343040 callbacks.py:1203] Can save best model only with val_accuracy available, skipping.\n"
     ]
    },
    {
     "name": "stdout",
     "output_type": "stream",
     "text": [
      "1152/1152 [==============================] - 3s 2ms/sample - loss: 1.7483 - acc: 0.3585 - val_loss: 1.7822 - val_acc: 0.3542\n",
      "Epoch 28/40\n",
      "1152/1152 [==============================] - ETA: 0s - loss: 1.7138 - acc: 0.3464"
     ]
    },
    {
     "name": "stderr",
     "output_type": "stream",
     "text": [
      "W1101 00:19:37.324887 140735918343040 callbacks.py:1203] Can save best model only with val_accuracy available, skipping.\n"
     ]
    },
    {
     "name": "stdout",
     "output_type": "stream",
     "text": [
      "1152/1152 [==============================] - 3s 2ms/sample - loss: 1.7138 - acc: 0.3464 - val_loss: 1.7767 - val_acc: 0.3576\n",
      "Epoch 29/40\n",
      "1152/1152 [==============================] - ETA: 0s - loss: 1.7282 - acc: 0.3455"
     ]
    },
    {
     "name": "stderr",
     "output_type": "stream",
     "text": [
      "W1101 00:19:39.620550 140735918343040 callbacks.py:1203] Can save best model only with val_accuracy available, skipping.\n"
     ]
    },
    {
     "name": "stdout",
     "output_type": "stream",
     "text": [
      "1152/1152 [==============================] - 2s 2ms/sample - loss: 1.7282 - acc: 0.3455 - val_loss: 1.7693 - val_acc: 0.3715\n",
      "Epoch 30/40\n",
      "1152/1152 [==============================] - ETA: 0s - loss: 1.7051 - acc: 0.3464"
     ]
    },
    {
     "name": "stderr",
     "output_type": "stream",
     "text": [
      "W1101 00:19:41.835543 140735918343040 callbacks.py:1203] Can save best model only with val_accuracy available, skipping.\n"
     ]
    },
    {
     "name": "stdout",
     "output_type": "stream",
     "text": [
      "1152/1152 [==============================] - 2s 2ms/sample - loss: 1.7051 - acc: 0.3464 - val_loss: 1.7628 - val_acc: 0.3681\n",
      "Epoch 31/40\n",
      "1152/1152 [==============================] - ETA: 0s - loss: 1.6989 - acc: 0.3594"
     ]
    },
    {
     "name": "stderr",
     "output_type": "stream",
     "text": [
      "W1101 00:19:43.962311 140735918343040 callbacks.py:1203] Can save best model only with val_accuracy available, skipping.\n"
     ]
    },
    {
     "name": "stdout",
     "output_type": "stream",
     "text": [
      "1152/1152 [==============================] - 2s 2ms/sample - loss: 1.6989 - acc: 0.3594 - val_loss: 1.7551 - val_acc: 0.3681\n",
      "Epoch 32/40\n",
      "1152/1152 [==============================] - ETA: 0s - loss: 1.6726 - acc: 0.3681"
     ]
    },
    {
     "name": "stderr",
     "output_type": "stream",
     "text": [
      "W1101 00:19:46.129268 140735918343040 callbacks.py:1203] Can save best model only with val_accuracy available, skipping.\n"
     ]
    },
    {
     "name": "stdout",
     "output_type": "stream",
     "text": [
      "1152/1152 [==============================] - 2s 2ms/sample - loss: 1.6726 - acc: 0.3681 - val_loss: 1.7432 - val_acc: 0.3542\n",
      "Epoch 33/40\n",
      "1152/1152 [==============================] - ETA: 0s - loss: 1.6876 - acc: 0.3767"
     ]
    },
    {
     "name": "stderr",
     "output_type": "stream",
     "text": [
      "W1101 00:19:48.383508 140735918343040 callbacks.py:1203] Can save best model only with val_accuracy available, skipping.\n"
     ]
    },
    {
     "name": "stdout",
     "output_type": "stream",
     "text": [
      "1152/1152 [==============================] - 2s 2ms/sample - loss: 1.6876 - acc: 0.3767 - val_loss: 1.7440 - val_acc: 0.3819\n",
      "Epoch 34/40\n",
      "1152/1152 [==============================] - ETA: 0s - loss: 1.6716 - acc: 0.3802"
     ]
    },
    {
     "name": "stderr",
     "output_type": "stream",
     "text": [
      "W1101 00:19:51.072938 140735918343040 callbacks.py:1203] Can save best model only with val_accuracy available, skipping.\n"
     ]
    },
    {
     "name": "stdout",
     "output_type": "stream",
     "text": [
      "1152/1152 [==============================] - 3s 2ms/sample - loss: 1.6716 - acc: 0.3802 - val_loss: 1.7367 - val_acc: 0.3785\n",
      "Epoch 35/40\n",
      "1152/1152 [==============================] - ETA: 0s - loss: 1.6820 - acc: 0.3741"
     ]
    },
    {
     "name": "stderr",
     "output_type": "stream",
     "text": [
      "W1101 00:19:53.548017 140735918343040 callbacks.py:1203] Can save best model only with val_accuracy available, skipping.\n"
     ]
    },
    {
     "name": "stdout",
     "output_type": "stream",
     "text": [
      "1152/1152 [==============================] - 2s 2ms/sample - loss: 1.6820 - acc: 0.3741 - val_loss: 1.7296 - val_acc: 0.3854\n",
      "Epoch 36/40\n",
      "1152/1152 [==============================] - ETA: 0s - loss: 1.6658 - acc: 0.3594"
     ]
    },
    {
     "name": "stderr",
     "output_type": "stream",
     "text": [
      "W1101 00:19:56.060714 140735918343040 callbacks.py:1203] Can save best model only with val_accuracy available, skipping.\n"
     ]
    },
    {
     "name": "stdout",
     "output_type": "stream",
     "text": [
      "1152/1152 [==============================] - 2s 2ms/sample - loss: 1.6658 - acc: 0.3594 - val_loss: 1.7288 - val_acc: 0.3750\n",
      "Epoch 37/40\n",
      "1152/1152 [==============================] - ETA: 0s - loss: 1.6564 - acc: 0.3828"
     ]
    },
    {
     "name": "stderr",
     "output_type": "stream",
     "text": [
      "W1101 00:19:58.335856 140735918343040 callbacks.py:1203] Can save best model only with val_accuracy available, skipping.\n"
     ]
    },
    {
     "name": "stdout",
     "output_type": "stream",
     "text": [
      "1152/1152 [==============================] - 2s 2ms/sample - loss: 1.6564 - acc: 0.3828 - val_loss: 1.7225 - val_acc: 0.3819\n",
      "Epoch 38/40\n",
      "1152/1152 [==============================] - ETA: 0s - loss: 1.6400 - acc: 0.3793"
     ]
    },
    {
     "name": "stderr",
     "output_type": "stream",
     "text": [
      "W1101 00:20:00.663345 140735918343040 callbacks.py:1203] Can save best model only with val_accuracy available, skipping.\n"
     ]
    },
    {
     "name": "stdout",
     "output_type": "stream",
     "text": [
      "1152/1152 [==============================] - 2s 2ms/sample - loss: 1.6400 - acc: 0.3793 - val_loss: 1.7153 - val_acc: 0.3819\n",
      "Epoch 39/40\n",
      "1152/1152 [==============================] - ETA: 0s - loss: 1.6453 - acc: 0.3802"
     ]
    },
    {
     "name": "stderr",
     "output_type": "stream",
     "text": [
      "W1101 00:20:03.254343 140735918343040 callbacks.py:1203] Can save best model only with val_accuracy available, skipping.\n"
     ]
    },
    {
     "name": "stdout",
     "output_type": "stream",
     "text": [
      "1152/1152 [==============================] - 3s 2ms/sample - loss: 1.6453 - acc: 0.3802 - val_loss: 1.7136 - val_acc: 0.3924\n",
      "Epoch 40/40\n",
      "1152/1152 [==============================] - ETA: 0s - loss: 1.6528 - acc: 0.3828"
     ]
    },
    {
     "name": "stderr",
     "output_type": "stream",
     "text": [
      "W1101 00:20:05.806356 140735918343040 callbacks.py:1203] Can save best model only with val_accuracy available, skipping.\n"
     ]
    },
    {
     "name": "stdout",
     "output_type": "stream",
     "text": [
      "\b\b\b\b\b\b\b\b\b\b\b\b\b\b\b\b\b\b\b\b\b\b\b\b\b\b\b\b\b\b\b\b\b\b\b\b\b\b\b\b\b\b\b\b\b\b\b\b\b\b\b\b\b\b\b\b\b\b\b\b\b\b\b\b\b\b\b\b\b\b\b\b\b\b\b\b\b\b\b\b\b\r",
      "1152/1152 [==============================] - 2s 2ms/sample - loss: 1.6528 - acc: 0.3828 - val_loss: 1.7179 - val_acc: 0.3715\n"
     ]
    }
   ],
   "source": [
    "import tensorflow.keras as keras\n",
    "\n",
    "# FIT MODEL AND USE CHECKPOINT TO SAVE BEST MODEL\n",
    "checkpoint = ModelCheckpoint(\"best_initial_model.hdf5\", monitor='val_accuracy', verbose=1,\n",
    "    save_best_only=True, mode='max', period=1, save_weights_only=True)\n",
    "\n",
    "model_history=model.fit(X_train, y_train,batch_size=32, epochs=40, validation_data=(X_test, y_test),callbacks=[checkpoint])\n",
    "\n"
   ]
  },
  {
   "cell_type": "code",
   "execution_count": 55,
   "metadata": {
    "scrolled": true
   },
   "outputs": [
    {
     "data": {
      "image/png": "[encoded data removed]",
      "text/plain": [
       "<Figure size 432x288 with 1 Axes>"
      ]
     },
     "metadata": {
      "needs_background": "light"
     },
     "output_type": "display_data"
    },
    {
     "data": {
      "image/png": "[encoded data removed]",
      "text/plain": [
       "<Figure size 432x288 with 1 Axes>"
      ]
     },
     "metadata": {
      "needs_background": "light"
     },
     "output_type": "display_data"
    }
   ],
   "source": [
    "# PLOT MODEL HISTORY OF ACCURACY AND LOSS OVER EPOCHS\n",
    "plt.plot(model_history.history['acc'])\n",
    "plt.plot(model_history.history['val_acc'])\n",
    "plt.title('Model Accuracy')\n",
    "plt.ylabel('Accuracy')\n",
    "plt.xlabel('Epoch')\n",
    "plt.legend(['Train', 'Test'], loc='upper left')\n",
    "plt.savefig('Initial_Model_Accuracy.png')\n",
    "plt.show()\n",
    "# summarize history for loss\n",
    "plt.plot(model_history.history['loss'])\n",
    "plt.plot(model_history.history['val_loss'])\n",
    "plt.title('Model Loss')\n",
    "plt.ylabel('Loss')\n",
    "plt.xlabel('Epoch')\n",
    "plt.legend(['train', 'test'], loc='upper left')\n",
    "plt.savefig('Initial_Model_loss.png')\n",
    "plt.show()"
   ]
  },
  {
   "cell_type": "markdown",
   "metadata": {},
   "source": [
    "## Post-Model Analysis"
   ]
  },
  {
   "cell_type": "code",
   "execution_count": 56,
   "metadata": {
    "scrolled": true
   },
   "outputs": [
    {
     "name": "stdout",
     "output_type": "stream",
     "text": [
      "Loss of the model is -  1.717930727534824\n",
      "Accuracy of the model is -  37.15277910232544 %\n"
     ]
    }
   ],
   "source": [
    "# PRINT LOSS AND ACCURACY PERCENTAGE ON TEST SET\n",
    "print(\"Loss of the model is - \" , model.evaluate(X_test,y_test)[0])\n",
    "print(\"Accuracy of the model is - \" , model.evaluate(X_test,y_test)[1]*100 , \"%\")"
   ]
  },
  {
   "cell_type": "code",
   "execution_count": 57,
   "metadata": {},
   "outputs": [
    {
     "data": {
      "text/html": [
       "<div>\n",
       "<style scoped>\n",
       "    .dataframe tbody tr th:only-of-type {\n",
       "        vertical-align: middle;\n",
       "    }\n",
       "\n",
       "    .dataframe tbody tr th {\n",
       "        vertical-align: top;\n",
       "    }\n",
       "\n",
       "    .dataframe thead th {\n",
       "        text-align: right;\n",
       "    }\n",
       "</style>\n",
       "<table border=\"1\" class=\"dataframe\">\n",
       "  <thead>\n",
       "    <tr style=\"text-align: right;\">\n",
       "      <th></th>\n",
       "      <th>Actual Values</th>\n",
       "      <th>Predicted Values</th>\n",
       "    </tr>\n",
       "  </thead>\n",
       "  <tbody>\n",
       "    <tr>\n",
       "      <th>140</th>\n",
       "      <td>happy</td>\n",
       "      <td>surprise</td>\n",
       "    </tr>\n",
       "    <tr>\n",
       "      <th>141</th>\n",
       "      <td>surprise</td>\n",
       "      <td>surprise</td>\n",
       "    </tr>\n",
       "    <tr>\n",
       "      <th>142</th>\n",
       "      <td>happy</td>\n",
       "      <td>happy</td>\n",
       "    </tr>\n",
       "    <tr>\n",
       "      <th>143</th>\n",
       "      <td>neutral</td>\n",
       "      <td>disgust</td>\n",
       "    </tr>\n",
       "    <tr>\n",
       "      <th>144</th>\n",
       "      <td>sad</td>\n",
       "      <td>calm</td>\n",
       "    </tr>\n",
       "    <tr>\n",
       "      <th>145</th>\n",
       "      <td>sad</td>\n",
       "      <td>surprise</td>\n",
       "    </tr>\n",
       "    <tr>\n",
       "      <th>146</th>\n",
       "      <td>calm</td>\n",
       "      <td>neutral</td>\n",
       "    </tr>\n",
       "    <tr>\n",
       "      <th>147</th>\n",
       "      <td>disgust</td>\n",
       "      <td>disgust</td>\n",
       "    </tr>\n",
       "    <tr>\n",
       "      <th>148</th>\n",
       "      <td>calm</td>\n",
       "      <td>disgust</td>\n",
       "    </tr>\n",
       "    <tr>\n",
       "      <th>149</th>\n",
       "      <td>fear</td>\n",
       "      <td>surprise</td>\n",
       "    </tr>\n",
       "  </tbody>\n",
       "</table>\n",
       "</div>"
      ],
      "text/plain": [
       "    Actual Values Predicted Values\n",
       "140  happy         surprise       \n",
       "141  surprise      surprise       \n",
       "142  happy         happy          \n",
       "143  neutral       disgust        \n",
       "144  sad           calm           \n",
       "145  sad           surprise       \n",
       "146  calm          neutral        \n",
       "147  disgust       disgust        \n",
       "148  calm          disgust        \n",
       "149  fear          surprise       "
      ]
     },
     "execution_count": 57,
     "metadata": {},
     "output_type": "execute_result"
    }
   ],
   "source": [
    "# PREDICTIONS\n",
    "predictions = model.predict(X_test)\n",
    "predictions=predictions.argmax(axis=1)\n",
    "predictions = predictions.astype(int).flatten()\n",
    "predictions = (lb.inverse_transform((predictions)))\n",
    "predictions = pd.DataFrame({'Predicted Values': predictions})\n",
    "\n",
    "# ACTUAL LABELS\n",
    "actual=y_test.argmax(axis=1)\n",
    "actual = actual.astype(int).flatten()\n",
    "actual = (lb.inverse_transform((actual)))\n",
    "actual = pd.DataFrame({'Actual Values': actual})\n",
    "\n",
    "# COMBINE BOTH \n",
    "finaldf = actual.join(predictions)\n",
    "finaldf[140:150]"
   ]
  },
  {
   "cell_type": "code",
   "execution_count": 58,
   "metadata": {
    "scrolled": true
   },
   "outputs": [
    {
     "data": {
      "image/png": "[encoded data removed]",
      "text/plain": [
       "<Figure size 864x720 with 2 Axes>"
      ]
     },
     "metadata": {
      "needs_background": "light"
     },
     "output_type": "display_data"
    }
   ],
   "source": [
    "# CREATE CONFUSION MATRIX OF ACTUAL VS. PREDICTION \n",
    "cm = confusion_matrix(actual, predictions)\n",
    "plt.figure(figsize = (12, 10))\n",
    "cm = pd.DataFrame(cm , index = [i for i in lb.classes_] , columns = [i for i in lb.classes_])\n",
    "ax = sns.heatmap(cm, linecolor='white', cmap='Blues', linewidth=1, annot=True, fmt='')\n",
    "bottom, top = ax.get_ylim()\n",
    "ax.set_ylim(bottom + 0.5, top - 0.5)\n",
    "plt.title('Confusion Matrix', size=20)\n",
    "plt.xlabel('Predicted Labels', size=14)\n",
    "plt.ylabel('Actual Labels', size=14)\n",
    "plt.savefig('Initial_Model_Confusion_Matrix.png')\n",
    "plt.show()"
   ]
  },
  {
   "cell_type": "code",
   "execution_count": 59,
   "metadata": {},
   "outputs": [
    {
     "name": "stdout",
     "output_type": "stream",
     "text": [
      "              precision    recall  f1-score   support\n",
      "\n",
      "       angry       0.35      0.74      0.48        31\n",
      "        calm       0.36      0.82      0.50        33\n",
      "     disgust       0.48      0.55      0.51        42\n",
      "        fear       0.50      0.02      0.04        50\n",
      "       happy       0.22      0.06      0.09        36\n",
      "     neutral       0.40      0.25      0.31        16\n",
      "         sad       0.27      0.07      0.11        43\n",
      "    surprise       0.35      0.65      0.45        37\n",
      "\n",
      "    accuracy                           0.37       288\n",
      "   macro avg       0.37      0.39      0.31       288\n",
      "weighted avg       0.37      0.37      0.29       288\n",
      "\n"
     ]
    }
   ],
   "source": [
    "print(classification_report(actual, predictions, target_names = ['angry','calm','disgust','fear','happy','neutral','sad','surprise']))"
   ]
  },
  {
   "cell_type": "markdown",
   "metadata": {},
   "source": [
    "## Hyperparameter Tuning"
   ]
  },
  {
   "cell_type": "code",
   "execution_count": 64,
   "metadata": {},
   "outputs": [
    {
     "name": "stdout",
     "output_type": "stream",
     "text": [
      "(1152, 259)\n",
      "(288, 259)\n"
     ]
    }
   ],
   "source": [
    "# TRAIN TEST SPLIT DATA\n",
    "train,test = train_test_split(df_combined, test_size=0.2, random_state=0,\n",
    "                               stratify=df_combined[['gender','actor']])\n",
    "\n",
    "X_train = train.iloc[:, 3:]\n",
    "y_train = train.iloc[:,:2].drop(columns=['gender'])\n",
    "print(X_train.shape)\n",
    "\n",
    "X_test = test.iloc[:,3:]\n",
    "y_test = test.iloc[:,:2].drop(columns=['gender'])\n",
    "print(X_test.shape)"
   ]
  },
  {
   "cell_type": "code",
   "execution_count": 65,
   "metadata": {},
   "outputs": [],
   "source": [
    "# NORMALIZE DATA\n",
    "mean = np.mean(X_train, axis=0)\n",
    "std = np.std(X_train, axis=0)\n",
    "X_train = (X_train - mean)/std\n",
    "X_test = (X_test - mean)/std"
   ]
  },
  {
   "cell_type": "code",
   "execution_count": 66,
   "metadata": {},
   "outputs": [],
   "source": [
    "# TURN DATA INTO ARRAYS FOR KERAS\n",
    "X_train = np.array(X_train)\n",
    "y_train = np.array(y_train)\n",
    "X_test = np.array(X_test)\n",
    "y_test = np.array(y_test)"
   ]
  },
  {
   "cell_type": "code",
   "execution_count": 67,
   "metadata": {},
   "outputs": [],
   "source": [
    "# RESHAPE TO INCLUDE 3D TENSOR\n",
    "X_train = X_train[:,:,np.newaxis]\n",
    "X_test = X_test[:,:,np.newaxis]"
   ]
  },
  {
   "cell_type": "code",
   "execution_count": 78,
   "metadata": {},
   "outputs": [],
   "source": [
    "from keras.utils import np_utils, to_categorical\n",
    "\n",
    "lb = LabelEncoder()\n",
    "\n",
    "y_train = np_utils.to_categorical(lb.fit_transform(y_train))\n",
    "y_test = np_utils.to_categorical(lb.fit_transform(y_test))"
   ]
  },
  {
   "cell_type": "code",
   "execution_count": 93,
   "metadata": {},
   "outputs": [],
   "source": [
    "# CREATE FUNCTION FOR KERAS CLASSIFIER\n",
    "opt = keras.optimizers.Adam(lr=0.0001)\n",
    "def make_classifier(optimizer=opt):\n",
    "    #BUILD CNN MODEL\n",
    "    model = Sequential()\n",
    "    model.add(layers.Conv1D(64, kernel_size=(10), activation='relu', input_shape=(X_train.shape[1],1)))\n",
    "    model.add(layers.Conv1D(128, kernel_size=(10),activation='relu',kernel_regularizer=l2(0.01), bias_regularizer=l2(0.01)))\n",
    "    model.add(layers.MaxPooling1D(pool_size=(8)))\n",
    "    model.add(layers.Dropout(0.4))\n",
    "    model.add(layers.Conv1D(128, kernel_size=(10),activation='relu'))\n",
    "    model.add(layers.MaxPooling1D(pool_size=(8)))\n",
    "    model.add(layers.Dropout(0.4))\n",
    "    model.add(layers.Flatten())\n",
    "    model.add(layers.Dense(256, activation='relu'))\n",
    "    model.add(layers.Dropout(0.4))\n",
    "    model.add(layers.Dense(8, activation='sigmoid'))\n",
    "    opt = keras.optimizers.Adam(lr=0.0001)\n",
    "    model.compile(loss='categorical_crossentropy', optimizer=opt,metrics=['accuracy'])\n",
    "    return model\n"
   ]
  },
  {
   "cell_type": "code",
   "execution_count": 94,
   "metadata": {},
   "outputs": [],
   "source": [
    "y_trainHot=np.argmax(y_train, axis=1)"
   ]
  },
  {
   "cell_type": "code",
   "execution_count": null,
   "metadata": {},
   "outputs": [
    {
     "name": "stdout",
     "output_type": "stream",
     "text": [
      "Train on 921 samples\n",
      "921/921 [==============================] - 3s 3ms/sample - loss: 2.8954 - acc: 0.1281\n",
      "Train on 921 samples\n",
      "921/921 [==============================] - 3s 4ms/sample - loss: 2.8745 - acc: 0.1585\n",
      "Train on 922 samples\n",
      "922/922 [==============================] - 3s 3ms/sample - loss: 2.8747 - acc: 0.1616\n",
      "Train on 922 samples\n",
      "922/922 [==============================] - 3s 3ms/sample - loss: 2.8631 - acc: 0.1996\n",
      "Train on 922 samples\n",
      "922/922 [==============================] - 3s 3ms/sample - loss: 2.8904 - acc: 0.1453\n",
      "Train on 921 samples\n",
      "921/921 [==============================] - 3s 4ms/sample - loss: 2.8858 - acc: 0.1477\n",
      "Train on 921 samples\n",
      "921/921 [==============================] - 2s 2ms/sample - loss: 2.8690 - acc: 0.1737\n",
      "Train on 922 samples\n",
      "922/922 [==============================] - 2s 2ms/sample - loss: 2.8760 - acc: 0.1475\n",
      "Train on 922 samples\n",
      "922/922 [==============================] - 2s 2ms/sample - loss: 2.8883 - acc: 0.1475\n",
      "Train on 922 samples\n",
      "922/922 [==============================] - 2s 2ms/sample - loss: 2.8672 - acc: 0.1584\n",
      "Train on 921 samples\n",
      "921/921 [==============================] - 2s 2ms/sample - loss: 2.8693 - acc: 0.1824\n",
      "Train on 921 samples\n",
      "921/921 [==============================] - 3s 4ms/sample - loss: 2.8727 - acc: 0.1618\n",
      "Train on 922 samples\n",
      "922/922 [==============================] - 4s 5ms/sample - loss: 2.8862 - acc: 0.1388\n",
      "Train on 922 samples\n",
      "922/922 [==============================] - 3s 4ms/sample - loss: 2.8821 - acc: 0.1811\n",
      "Train on 922 samples\n",
      "922/922 [==============================] - 3s 4ms/sample - loss: 2.8747 - acc: 0.1768\n",
      "Train on 921 samples\n",
      "921/921 [==============================] - 3s 4ms/sample - loss: 2.8844 - acc: 0.1672\n",
      "Train on 921 samples\n",
      "921/921 [==============================] - 3s 4ms/sample - loss: 2.8717 - acc: 0.1911\n",
      "Train on 922 samples\n",
      "922/922 [==============================] - 3s 3ms/sample - loss: 2.8865 - acc: 0.1475\n",
      "Train on 922 samples\n",
      "922/922 [==============================] - 4s 4ms/sample - loss: 2.8580 - acc: 0.1941\n",
      "Train on 922 samples\n",
      "922/922 [==============================] - 3s 3ms/sample - loss: 2.8693 - acc: 0.1855\n",
      "Train on 921 samples\n",
      "921/921 [==============================] - 2s 2ms/sample - loss: 2.8704 - acc: 0.1737\n",
      "Train on 921 samples\n",
      "921/921 [==============================] - 2s 2ms/sample - loss: 2.8727 - acc: 0.1564\n",
      "Train on 922 samples\n",
      "922/922 [==============================] - 2s 2ms/sample - loss: 2.8479 - acc: 0.1898\n",
      "Train on 922 samples\n",
      "922/922 [==============================] - 2s 2ms/sample - loss: 2.8734 - acc: 0.1627\n",
      "Train on 922 samples\n",
      "922/922 [==============================] - 2s 2ms/sample - loss: 2.8747 - acc: 0.1703\n",
      "Train on 921 samples\n",
      "921/921 [==============================] - 2s 2ms/sample - loss: 2.8697 - acc: 0.1835\n",
      "Train on 921 samples\n",
      "921/921 [==============================] - 2s 2ms/sample - loss: 2.8819 - acc: 0.1542\n",
      "Train on 922 samples\n",
      "922/922 [==============================] - 2s 2ms/sample - loss: 2.8663 - acc: 0.1800\n",
      "Train on 922 samples\n",
      "922/922 [==============================] - 2s 2ms/sample - loss: 2.8763 - acc: 0.1692\n",
      "Train on 922 samples\n",
      "922/922 [==============================] - 2s 2ms/sample - loss: 2.8789 - acc: 0.1453\n",
      "Train on 921 samples\n",
      "921/921 [==============================] - 3s 3ms/sample - loss: 2.8781 - acc: 0.1574\n",
      "Train on 921 samples\n",
      "921/921 [==============================] - 2s 2ms/sample - loss: 2.8819 - acc: 0.1737\n",
      "Train on 922 samples\n",
      "922/922 [==============================] - 2s 2ms/sample - loss: 2.8633 - acc: 0.1931\n",
      "Train on 922 samples\n",
      "922/922 [==============================] - 2s 2ms/sample - loss: 2.8784 - acc: 0.1898\n",
      "Train on 922 samples\n",
      "922/922 [==============================] - 2s 2ms/sample - loss: 2.8885 - acc: 0.1443\n",
      "Train on 921 samples\n",
      "921/921 [==============================] - 2s 2ms/sample - loss: 2.8735 - acc: 0.1683\n",
      "Train on 921 samples\n",
      "921/921 [==============================] - 3s 3ms/sample - loss: 2.8718 - acc: 0.1422\n",
      "Train on 922 samples\n",
      "922/922 [==============================] - 3s 4ms/sample - loss: 2.8681 - acc: 0.1649\n",
      "Train on 922 samples\n",
      "922/922 [==============================] - 4s 4ms/sample - loss: 2.8689 - acc: 0.1779\n",
      "Train on 922 samples\n",
      "922/922 [==============================] - 3s 4ms/sample - loss: 2.8707 - acc: 0.1540\n",
      "Train on 921 samples\n",
      "921/921 [==============================] - 4s 4ms/sample - loss: 2.8748 - acc: 0.2020\n",
      "Train on 921 samples\n",
      "921/921 [==============================] - 3s 3ms/sample - loss: 2.8816 - acc: 0.1629\n",
      "Train on 922 samples\n",
      "922/922 [==============================] - 4s 4ms/sample - loss: 2.8669 - acc: 0.1811\n",
      "Train on 922 samples\n",
      "922/922 [==============================] - 4s 4ms/sample - loss: 2.8766 - acc: 0.1453\n",
      "Train on 922 samples\n",
      "922/922 [==============================] - 4s 4ms/sample - loss: 2.8763 - acc: 0.1659\n",
      "Train on 921 samples\n",
      "921/921 [==============================] - 4s 5ms/sample - loss: 2.8707 - acc: 0.1357 1s - loss: 2.8941\n",
      "Train on 921 samples\n",
      "921/921 [==============================] - 4s 4ms/sample - loss: 2.8820 - acc: 0.1618\n",
      "Train on 922 samples\n",
      "922/922 [==============================] - 3s 3ms/sample - loss: 2.8816 - acc: 0.1453\n",
      "Train on 922 samples\n",
      "922/922 [==============================] - 4s 4ms/sample - loss: 2.8764 - acc: 0.1757\n",
      "Train on 922 samples\n",
      "922/922 [==============================] - 3s 4ms/sample - loss: 2.8959 - acc: 0.1377\n",
      "Train on 921 samples\n",
      "921/921 [==============================] - 4s 4ms/sample - loss: 2.8822 - acc: 0.1618\n",
      "Train on 921 samples\n",
      "921/921 [==============================] - 3s 4ms/sample - loss: 2.8781 - acc: 0.1770\n",
      "Train on 922 samples\n",
      "922/922 [==============================] - 3s 4ms/sample - loss: 2.8686 - acc: 0.1800 1s - l\n",
      "Train on 922 samples\n",
      "922/922 [==============================] - 3s 3ms/sample - loss: 2.8795 - acc: 0.1659\n",
      "Train on 922 samples\n",
      "922/922 [==============================] - 2s 2ms/sample - loss: 2.8819 - acc: 0.1584\n",
      "Train on 921 samples\n"
     ]
    }
   ],
   "source": [
    "# GRID SEARCH PARAMETERS TO FIND BEST VALUES\n",
    "classifier = KerasClassifier(build_fn = make_classifier)\n",
    "params = {\n",
    "    'batch_size': [30, 32, 34],\n",
    "    'nb_epoch': [25, 50, 75],\n",
    "    'optimizer':['adam','SGD']}\n",
    "\n",
    "grid_search = GridSearchCV(estimator=classifier,\n",
    "                           param_grid=params,\n",
    "                           scoring='accuracy',\n",
    "                           cv=5)\n",
    "\n",
    "grid_search = grid_search.fit(X_train,y_trainHot)"
   ]
  },
  {
   "cell_type": "code",
   "execution_count": 86,
   "metadata": {},
   "outputs": [
    {
     "data": {
      "text/plain": [
       "{'batch_size': 32, 'nb_epoch': 75, 'optimizer': 'SGD'}"
      ]
     },
     "execution_count": 86,
     "metadata": {},
     "output_type": "execute_result"
    }
   ],
   "source": [
    "grid_search.best_params_"
   ]
  },
  {
   "cell_type": "code",
   "execution_count": 87,
   "metadata": {},
   "outputs": [
    {
     "data": {
      "text/plain": [
       "0.3090382081686429"
      ]
     },
     "execution_count": 87,
     "metadata": {},
     "output_type": "execute_result"
    }
   ],
   "source": [
    "grid_search.best_score_"
   ]
  },
  {
   "cell_type": "code",
   "execution_count": null,
   "metadata": {},
   "outputs": [],
   "source": []
  }
 ],
 "metadata": {
  "kernelspec": {
   "display_name": "Python 3",
   "language": "python",
   "name": "python3"
  },
  "language_info": {
   "codemirror_mode": {
    "name": "ipython",
    "version": 3
   },
   "file_extension": ".py",
   "mimetype": "text/x-python",
   "name": "python",
   "nbconvert_exporter": "python",
   "pygments_lexer": "ipython3",
   "version": "3.6.9"
  }
 },
 "nbformat": 4,
 "nbformat_minor": 2
}
